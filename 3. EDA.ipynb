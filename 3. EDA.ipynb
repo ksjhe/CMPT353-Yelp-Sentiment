{
 "cells": [
  {
   "cell_type": "code",
   "execution_count": 2,
   "metadata": {
    "collapsed": true,
    "pycharm": {
     "name": "#%%\n"
    }
   },
   "outputs": [],
   "source": [
    "import numpy as np\n",
    "import pandas as pd\n",
    "import matplotlib.pyplot as plt"
   ]
  },
  {
   "cell_type": "markdown",
   "source": [
    "# Reading in the data"
   ],
   "metadata": {
    "collapsed": false,
    "pycharm": {
     "name": "#%% md\n"
    }
   }
  },
  {
   "cell_type": "code",
   "execution_count": 5,
   "outputs": [
    {
     "data": {
      "text/plain": "              business_id                            name  \\\n0  WKMJwqnfZKsAae75RMP6jA  Roast Coffeehouse and Wine Bar   \n1  WKMJwqnfZKsAae75RMP6jA  Roast Coffeehouse and Wine Bar   \n2  WKMJwqnfZKsAae75RMP6jA  Roast Coffeehouse and Wine Bar   \n3  WKMJwqnfZKsAae75RMP6jA  Roast Coffeehouse and Wine Bar   \n4  WKMJwqnfZKsAae75RMP6jA  Roast Coffeehouse and Wine Bar   \n\n               address      city state postal_code   latitude   longitude  \\\n0  10359 104 Street NW  Edmonton    AB     T5J 1B9  53.546045 -113.499169   \n1  10359 104 Street NW  Edmonton    AB     T5J 1B9  53.546045 -113.499169   \n2  10359 104 Street NW  Edmonton    AB     T5J 1B9  53.546045 -113.499169   \n3  10359 104 Street NW  Edmonton    AB     T5J 1B9  53.546045 -113.499169   \n4  10359 104 Street NW  Edmonton    AB     T5J 1B9  53.546045 -113.499169   \n\n   stars_x  review_count  ...  \\\n0      4.0            40  ...   \n1      4.0            40  ...   \n2      4.0            40  ...   \n3      4.0            40  ...   \n4      4.0            40  ...   \n\n                                          categories  \\\n0  Coffee & Tea, Food, Cafes, Bars, Wine Bars, Re...   \n1  Coffee & Tea, Food, Cafes, Bars, Wine Bars, Re...   \n2  Coffee & Tea, Food, Cafes, Bars, Wine Bars, Re...   \n3  Coffee & Tea, Food, Cafes, Bars, Wine Bars, Re...   \n4  Coffee & Tea, Food, Cafes, Bars, Wine Bars, Re...   \n\n                                               hours               review_id  \\\n0  b'{\"Monday\": \"8:0-18:0\", \"Tuesday\": \"8:0-18:0\"...  uwPhE21CZLlp1kkSMPvvYw   \n1  b'{\"Monday\": \"8:0-18:0\", \"Tuesday\": \"8:0-18:0\"...  bAy8ROEYO_3aTBhW5LoR4g   \n2  b'{\"Monday\": \"8:0-18:0\", \"Tuesday\": \"8:0-18:0\"...  zPDHE7TrXs7EJT06qD8yTA   \n3  b'{\"Monday\": \"8:0-18:0\", \"Tuesday\": \"8:0-18:0\"...  84niL3fvJMlFBE2hd2qOVQ   \n4  b'{\"Monday\": \"8:0-18:0\", \"Tuesday\": \"8:0-18:0\"...  pLnTjS90gUlsq2tAjI9prA   \n\n                  user_id stars_y useful  funny  cool  \\\n0  5OnQqP3q2_9auNdDKpLdsw       3      0      0     0   \n1  7qFH1RkPivVRcwxLwhyixg       4      2      0     1   \n2  FLeyjgc05C2V6QI9nVQ48Q       4      0      0     0   \n3  R-c5M0iJkMxxTxIqTQQZ8w       2      1      0     0   \n4  G3h8pIclwUbuu3itJqF7ug       4      7      0     4   \n\n                                                text                date  \n0  So much to like about this place--the beautifu... 2012-11-06 23:35:15  \n1  I'm not a coffee connoisseur so I'm not review... 2013-05-28 23:16:30  \n2  I really loved it here, makes me wish I lived ... 2013-09-04 19:49:33  \n3  The kids who work at Roast are friendly.  They... 2013-07-14 21:38:06  \n4  With a Toast to Roast, I say welcome to the E-... 2012-09-11 23:54:24  \n\n[5 rows x 22 columns]",
      "text/html": "<div>\n<style scoped>\n    .dataframe tbody tr th:only-of-type {\n        vertical-align: middle;\n    }\n\n    .dataframe tbody tr th {\n        vertical-align: top;\n    }\n\n    .dataframe thead th {\n        text-align: right;\n    }\n</style>\n<table border=\"1\" class=\"dataframe\">\n  <thead>\n    <tr style=\"text-align: right;\">\n      <th></th>\n      <th>business_id</th>\n      <th>name</th>\n      <th>address</th>\n      <th>city</th>\n      <th>state</th>\n      <th>postal_code</th>\n      <th>latitude</th>\n      <th>longitude</th>\n      <th>stars_x</th>\n      <th>review_count</th>\n      <th>...</th>\n      <th>categories</th>\n      <th>hours</th>\n      <th>review_id</th>\n      <th>user_id</th>\n      <th>stars_y</th>\n      <th>useful</th>\n      <th>funny</th>\n      <th>cool</th>\n      <th>text</th>\n      <th>date</th>\n    </tr>\n  </thead>\n  <tbody>\n    <tr>\n      <th>0</th>\n      <td>WKMJwqnfZKsAae75RMP6jA</td>\n      <td>Roast Coffeehouse and Wine Bar</td>\n      <td>10359 104 Street NW</td>\n      <td>Edmonton</td>\n      <td>AB</td>\n      <td>T5J 1B9</td>\n      <td>53.546045</td>\n      <td>-113.499169</td>\n      <td>4.0</td>\n      <td>40</td>\n      <td>...</td>\n      <td>Coffee &amp; Tea, Food, Cafes, Bars, Wine Bars, Re...</td>\n      <td>b'{\"Monday\": \"8:0-18:0\", \"Tuesday\": \"8:0-18:0\"...</td>\n      <td>uwPhE21CZLlp1kkSMPvvYw</td>\n      <td>5OnQqP3q2_9auNdDKpLdsw</td>\n      <td>3</td>\n      <td>0</td>\n      <td>0</td>\n      <td>0</td>\n      <td>So much to like about this place--the beautifu...</td>\n      <td>2012-11-06 23:35:15</td>\n    </tr>\n    <tr>\n      <th>1</th>\n      <td>WKMJwqnfZKsAae75RMP6jA</td>\n      <td>Roast Coffeehouse and Wine Bar</td>\n      <td>10359 104 Street NW</td>\n      <td>Edmonton</td>\n      <td>AB</td>\n      <td>T5J 1B9</td>\n      <td>53.546045</td>\n      <td>-113.499169</td>\n      <td>4.0</td>\n      <td>40</td>\n      <td>...</td>\n      <td>Coffee &amp; Tea, Food, Cafes, Bars, Wine Bars, Re...</td>\n      <td>b'{\"Monday\": \"8:0-18:0\", \"Tuesday\": \"8:0-18:0\"...</td>\n      <td>bAy8ROEYO_3aTBhW5LoR4g</td>\n      <td>7qFH1RkPivVRcwxLwhyixg</td>\n      <td>4</td>\n      <td>2</td>\n      <td>0</td>\n      <td>1</td>\n      <td>I'm not a coffee connoisseur so I'm not review...</td>\n      <td>2013-05-28 23:16:30</td>\n    </tr>\n    <tr>\n      <th>2</th>\n      <td>WKMJwqnfZKsAae75RMP6jA</td>\n      <td>Roast Coffeehouse and Wine Bar</td>\n      <td>10359 104 Street NW</td>\n      <td>Edmonton</td>\n      <td>AB</td>\n      <td>T5J 1B9</td>\n      <td>53.546045</td>\n      <td>-113.499169</td>\n      <td>4.0</td>\n      <td>40</td>\n      <td>...</td>\n      <td>Coffee &amp; Tea, Food, Cafes, Bars, Wine Bars, Re...</td>\n      <td>b'{\"Monday\": \"8:0-18:0\", \"Tuesday\": \"8:0-18:0\"...</td>\n      <td>zPDHE7TrXs7EJT06qD8yTA</td>\n      <td>FLeyjgc05C2V6QI9nVQ48Q</td>\n      <td>4</td>\n      <td>0</td>\n      <td>0</td>\n      <td>0</td>\n      <td>I really loved it here, makes me wish I lived ...</td>\n      <td>2013-09-04 19:49:33</td>\n    </tr>\n    <tr>\n      <th>3</th>\n      <td>WKMJwqnfZKsAae75RMP6jA</td>\n      <td>Roast Coffeehouse and Wine Bar</td>\n      <td>10359 104 Street NW</td>\n      <td>Edmonton</td>\n      <td>AB</td>\n      <td>T5J 1B9</td>\n      <td>53.546045</td>\n      <td>-113.499169</td>\n      <td>4.0</td>\n      <td>40</td>\n      <td>...</td>\n      <td>Coffee &amp; Tea, Food, Cafes, Bars, Wine Bars, Re...</td>\n      <td>b'{\"Monday\": \"8:0-18:0\", \"Tuesday\": \"8:0-18:0\"...</td>\n      <td>84niL3fvJMlFBE2hd2qOVQ</td>\n      <td>R-c5M0iJkMxxTxIqTQQZ8w</td>\n      <td>2</td>\n      <td>1</td>\n      <td>0</td>\n      <td>0</td>\n      <td>The kids who work at Roast are friendly.  They...</td>\n      <td>2013-07-14 21:38:06</td>\n    </tr>\n    <tr>\n      <th>4</th>\n      <td>WKMJwqnfZKsAae75RMP6jA</td>\n      <td>Roast Coffeehouse and Wine Bar</td>\n      <td>10359 104 Street NW</td>\n      <td>Edmonton</td>\n      <td>AB</td>\n      <td>T5J 1B9</td>\n      <td>53.546045</td>\n      <td>-113.499169</td>\n      <td>4.0</td>\n      <td>40</td>\n      <td>...</td>\n      <td>Coffee &amp; Tea, Food, Cafes, Bars, Wine Bars, Re...</td>\n      <td>b'{\"Monday\": \"8:0-18:0\", \"Tuesday\": \"8:0-18:0\"...</td>\n      <td>pLnTjS90gUlsq2tAjI9prA</td>\n      <td>G3h8pIclwUbuu3itJqF7ug</td>\n      <td>4</td>\n      <td>7</td>\n      <td>0</td>\n      <td>4</td>\n      <td>With a Toast to Roast, I say welcome to the E-...</td>\n      <td>2012-09-11 23:54:24</td>\n    </tr>\n  </tbody>\n</table>\n<p>5 rows × 22 columns</p>\n</div>"
     },
     "execution_count": 5,
     "metadata": {},
     "output_type": "execute_result"
    }
   ],
   "source": [
    "df = pd.read_parquet('data/edmonton_cleaned.parquet',engine='auto')\n",
    "df.head(5)"
   ],
   "metadata": {
    "collapsed": false,
    "pycharm": {
     "name": "#%%\n"
    }
   }
  },
  {
   "cell_type": "code",
   "execution_count": 6,
   "outputs": [
    {
     "data": {
      "text/plain": "(67148, 22)"
     },
     "execution_count": 6,
     "metadata": {},
     "output_type": "execute_result"
    }
   ],
   "source": [
    "df.shape"
   ],
   "metadata": {
    "collapsed": false,
    "pycharm": {
     "name": "#%%\n"
    }
   }
  },
  {
   "cell_type": "markdown",
   "source": [
    "# Distribution of Stars"
   ],
   "metadata": {
    "collapsed": false,
    "pycharm": {
     "name": "#%% md\n"
    }
   }
  },
  {
   "cell_type": "code",
   "execution_count": 12,
   "outputs": [
    {
     "data": {
      "text/plain": "array([3, 4, 2, 5, 1])"
     },
     "execution_count": 12,
     "metadata": {},
     "output_type": "execute_result"
    }
   ],
   "source": [
    "df['stars_y'].unique()"
   ],
   "metadata": {
    "collapsed": false,
    "pycharm": {
     "name": "#%%\n"
    }
   }
  },
  {
   "cell_type": "code",
   "execution_count": 24,
   "outputs": [
    {
     "data": {
      "text/plain": "Text(0.5, 1.0, 'Count of Reviews by Stars')"
     },
     "execution_count": 24,
     "metadata": {},
     "output_type": "execute_result"
    },
    {
     "data": {
      "text/plain": "<Figure size 432x288 with 1 Axes>",
      "image/png": "[encoded data removed]"
     },
     "metadata": {
      "needs_background": "light"
     },
     "output_type": "display_data"
    }
   ],
   "source": [
    "plt.hist(df['stars_y'], bins=5)\n",
    "plt.xticks(np.arange(1,6, step=1))\n",
    "plt.title('Count of Reviews by Stars')"
   ],
   "metadata": {
    "collapsed": false,
    "pycharm": {
     "name": "#%%\n"
    }
   }
  }
 ],
 "metadata": {
  "kernelspec": {
   "display_name": "Python 3",
   "language": "python",
   "name": "python3"
  },
  "language_info": {
   "codemirror_mode": {
    "name": "ipython",
    "version": 2
   },
   "file_extension": ".py",
   "mimetype": "text/x-python",
   "name": "python",
   "nbconvert_exporter": "python",
   "pygments_lexer": "ipython2",
   "version": "2.7.6"
  }
 },
 "nbformat": 4,
 "nbformat_minor": 0
}