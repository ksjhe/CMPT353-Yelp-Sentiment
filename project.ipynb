{
 "cells": [
  {
   "cell_type": "code",
   "execution_count": 3,
   "id": "428c94a9",
   "metadata": {},
   "outputs": [],
   "source": [
    "import pandas as pd\n",
    "import json"
   ]
  },
  {
   "cell_type": "code",
   "execution_count": 4,
   "id": "ecf0ef56",
   "metadata": {},
   "outputs": [],
   "source": [
    "data = pd.read_parquet('edmonton.parquet', engine='auto')"
   ]
  },
  {
   "cell_type": "code",
   "execution_count": 6,
   "id": "b9ea450e",
   "metadata": {},
   "outputs": [
    {
     "data": {
      "text/plain": [
       "business_id     101823\n",
       "name            101823\n",
       "address         101823\n",
       "city            101823\n",
       "state           101823\n",
       "postal_code     101823\n",
       "latitude        101823\n",
       "longitude       101823\n",
       "stars_x         101823\n",
       "review_count    101823\n",
       "is_open         101823\n",
       "attributes       96036\n",
       "categories      101816\n",
       "hours            90592\n",
       "review_id       101823\n",
       "user_id         101823\n",
       "stars_y         101823\n",
       "useful          101823\n",
       "funny           101823\n",
       "cool            101823\n",
       "text            101823\n",
       "date            101823\n",
       "dtype: int64"
      ]
     },
     "execution_count": 6,
     "metadata": {},
     "output_type": "execute_result"
    }
   ],
   "source": [
    "data.count()"
   ]
  }
 ],
 "metadata": {
  "kernelspec": {
   "display_name": "Python 3 (ipykernel)",
   "language": "python",
   "name": "python3"
  },
  "language_info": {
   "codemirror_mode": {
    "name": "ipython",
    "version": 3
   },
   "file_extension": ".py",
   "mimetype": "text/x-python",
   "name": "python",
   "nbconvert_exporter": "python",
   "pygments_lexer": "ipython3",
   "version": "3.9.7"
  }
 },
 "nbformat": 4,
 "nbformat_minor": 5
}
