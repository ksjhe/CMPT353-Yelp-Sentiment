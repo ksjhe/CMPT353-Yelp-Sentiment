{
 "cells": [
  {
   "cell_type": "code",
   "execution_count": 35,
   "id": "428c94a9",
   "metadata": {
    "pycharm": {
     "name": "#%%\n"
    }
   },
   "outputs": [],
   "source": [
    "import pandas as pd\n",
    "import json\n",
    "import numpy as np"
   ]
  },
  {
   "cell_type": "code",
   "execution_count": 4,
   "id": "ecf0ef56",
   "metadata": {
    "pycharm": {
     "name": "#%%\n"
    }
   },
   "outputs": [],
   "source": [
    "data = pd.read_parquet('edmonton.parquet', engine='auto')"
   ]
  },
  {
   "cell_type": "code",
   "execution_count": 6,
   "id": "b9ea450e",
   "metadata": {
    "pycharm": {
     "name": "#%%\n"
    }
   },
   "outputs": [
    {
     "data": {
      "text/plain": [
       "business_id     101823\n",
       "name            101823\n",
       "address         101823\n",
       "city            101823\n",
       "state           101823\n",
       "postal_code     101823\n",
       "latitude        101823\n",
       "longitude       101823\n",
       "stars_x         101823\n",
       "review_count    101823\n",
       "is_open         101823\n",
       "attributes       96036\n",
       "categories      101816\n",
       "hours            90592\n",
       "review_id       101823\n",
       "user_id         101823\n",
       "stars_y         101823\n",
       "useful          101823\n",
       "funny           101823\n",
       "cool            101823\n",
       "text            101823\n",
       "date            101823\n",
       "dtype: int64"
      ]
     },
     "execution_count": 6,
     "metadata": {},
     "output_type": "execute_result"
    }
   ],
   "source": [
    "data.count()"
   ]
  },
  {
   "cell_type": "code",
   "execution_count": 39,
   "id": "6e637b18",
   "metadata": {
    "pycharm": {
     "name": "#%%\n"
    }
   },
   "outputs": [
    {
     "data": {
      "text/html": [
       "<div>\n",
       "<style scoped>\n",
       "    .dataframe tbody tr th:only-of-type {\n",
       "        vertical-align: middle;\n",
       "    }\n",
       "\n",
       "    .dataframe tbody tr th {\n",
       "        vertical-align: top;\n",
       "    }\n",
       "\n",
       "    .dataframe thead th {\n",
       "        text-align: right;\n",
       "    }\n",
       "</style>\n",
       "<table border=\"1\" class=\"dataframe\">\n",
       "  <thead>\n",
       "    <tr style=\"text-align: right;\">\n",
       "      <th></th>\n",
       "      <th>business_id</th>\n",
       "      <th>name</th>\n",
       "      <th>address</th>\n",
       "      <th>city</th>\n",
       "      <th>state</th>\n",
       "      <th>postal_code</th>\n",
       "      <th>latitude</th>\n",
       "      <th>longitude</th>\n",
       "      <th>stars_x</th>\n",
       "      <th>review_count</th>\n",
       "      <th>...</th>\n",
       "      <th>categories</th>\n",
       "      <th>hours</th>\n",
       "      <th>review_id</th>\n",
       "      <th>user_id</th>\n",
       "      <th>stars_y</th>\n",
       "      <th>useful</th>\n",
       "      <th>funny</th>\n",
       "      <th>cool</th>\n",
       "      <th>text</th>\n",
       "      <th>date</th>\n",
       "    </tr>\n",
       "    <tr>\n",
       "      <th>index</th>\n",
       "      <th></th>\n",
       "      <th></th>\n",
       "      <th></th>\n",
       "      <th></th>\n",
       "      <th></th>\n",
       "      <th></th>\n",
       "      <th></th>\n",
       "      <th></th>\n",
       "      <th></th>\n",
       "      <th></th>\n",
       "      <th></th>\n",
       "      <th></th>\n",
       "      <th></th>\n",
       "      <th></th>\n",
       "      <th></th>\n",
       "      <th></th>\n",
       "      <th></th>\n",
       "      <th></th>\n",
       "      <th></th>\n",
       "      <th></th>\n",
       "      <th></th>\n",
       "    </tr>\n",
       "  </thead>\n",
       "  <tbody>\n",
       "    <tr>\n",
       "      <th>0</th>\n",
       "      <td>WKMJwqnfZKsAae75RMP6jA</td>\n",
       "      <td>Roast Coffeehouse and Wine Bar</td>\n",
       "      <td>10359 104 Street NW</td>\n",
       "      <td>Edmonton</td>\n",
       "      <td>AB</td>\n",
       "      <td>T5J 1B9</td>\n",
       "      <td>53.546045</td>\n",
       "      <td>-113.499169</td>\n",
       "      <td>4.0</td>\n",
       "      <td>40</td>\n",
       "      <td>...</td>\n",
       "      <td>Coffee &amp; Tea, Food, Cafes, Bars, Wine Bars, Re...</td>\n",
       "      <td>{'Monday': '8:0-18:0', 'Tuesday': '8:0-18:0', ...</td>\n",
       "      <td>uwPhE21CZLlp1kkSMPvvYw</td>\n",
       "      <td>5OnQqP3q2_9auNdDKpLdsw</td>\n",
       "      <td>3</td>\n",
       "      <td>0</td>\n",
       "      <td>0</td>\n",
       "      <td>0</td>\n",
       "      <td>So much to like about this place--the beautifu...</td>\n",
       "      <td>2012-11-06 23:35:15</td>\n",
       "    </tr>\n",
       "    <tr>\n",
       "      <th>1</th>\n",
       "      <td>WKMJwqnfZKsAae75RMP6jA</td>\n",
       "      <td>Roast Coffeehouse and Wine Bar</td>\n",
       "      <td>10359 104 Street NW</td>\n",
       "      <td>Edmonton</td>\n",
       "      <td>AB</td>\n",
       "      <td>T5J 1B9</td>\n",
       "      <td>53.546045</td>\n",
       "      <td>-113.499169</td>\n",
       "      <td>4.0</td>\n",
       "      <td>40</td>\n",
       "      <td>...</td>\n",
       "      <td>Coffee &amp; Tea, Food, Cafes, Bars, Wine Bars, Re...</td>\n",
       "      <td>{'Monday': '8:0-18:0', 'Tuesday': '8:0-18:0', ...</td>\n",
       "      <td>bAy8ROEYO_3aTBhW5LoR4g</td>\n",
       "      <td>7qFH1RkPivVRcwxLwhyixg</td>\n",
       "      <td>4</td>\n",
       "      <td>2</td>\n",
       "      <td>0</td>\n",
       "      <td>1</td>\n",
       "      <td>I'm not a coffee connoisseur so I'm not review...</td>\n",
       "      <td>2013-05-28 23:16:30</td>\n",
       "    </tr>\n",
       "    <tr>\n",
       "      <th>2</th>\n",
       "      <td>WKMJwqnfZKsAae75RMP6jA</td>\n",
       "      <td>Roast Coffeehouse and Wine Bar</td>\n",
       "      <td>10359 104 Street NW</td>\n",
       "      <td>Edmonton</td>\n",
       "      <td>AB</td>\n",
       "      <td>T5J 1B9</td>\n",
       "      <td>53.546045</td>\n",
       "      <td>-113.499169</td>\n",
       "      <td>4.0</td>\n",
       "      <td>40</td>\n",
       "      <td>...</td>\n",
       "      <td>Coffee &amp; Tea, Food, Cafes, Bars, Wine Bars, Re...</td>\n",
       "      <td>{'Monday': '8:0-18:0', 'Tuesday': '8:0-18:0', ...</td>\n",
       "      <td>zPDHE7TrXs7EJT06qD8yTA</td>\n",
       "      <td>FLeyjgc05C2V6QI9nVQ48Q</td>\n",
       "      <td>4</td>\n",
       "      <td>0</td>\n",
       "      <td>0</td>\n",
       "      <td>0</td>\n",
       "      <td>I really loved it here, makes me wish I lived ...</td>\n",
       "      <td>2013-09-04 19:49:33</td>\n",
       "    </tr>\n",
       "    <tr>\n",
       "      <th>3</th>\n",
       "      <td>WKMJwqnfZKsAae75RMP6jA</td>\n",
       "      <td>Roast Coffeehouse and Wine Bar</td>\n",
       "      <td>10359 104 Street NW</td>\n",
       "      <td>Edmonton</td>\n",
       "      <td>AB</td>\n",
       "      <td>T5J 1B9</td>\n",
       "      <td>53.546045</td>\n",
       "      <td>-113.499169</td>\n",
       "      <td>4.0</td>\n",
       "      <td>40</td>\n",
       "      <td>...</td>\n",
       "      <td>Coffee &amp; Tea, Food, Cafes, Bars, Wine Bars, Re...</td>\n",
       "      <td>{'Monday': '8:0-18:0', 'Tuesday': '8:0-18:0', ...</td>\n",
       "      <td>84niL3fvJMlFBE2hd2qOVQ</td>\n",
       "      <td>R-c5M0iJkMxxTxIqTQQZ8w</td>\n",
       "      <td>2</td>\n",
       "      <td>1</td>\n",
       "      <td>0</td>\n",
       "      <td>0</td>\n",
       "      <td>The kids who work at Roast are friendly.  They...</td>\n",
       "      <td>2013-07-14 21:38:06</td>\n",
       "    </tr>\n",
       "    <tr>\n",
       "      <th>4</th>\n",
       "      <td>WKMJwqnfZKsAae75RMP6jA</td>\n",
       "      <td>Roast Coffeehouse and Wine Bar</td>\n",
       "      <td>10359 104 Street NW</td>\n",
       "      <td>Edmonton</td>\n",
       "      <td>AB</td>\n",
       "      <td>T5J 1B9</td>\n",
       "      <td>53.546045</td>\n",
       "      <td>-113.499169</td>\n",
       "      <td>4.0</td>\n",
       "      <td>40</td>\n",
       "      <td>...</td>\n",
       "      <td>Coffee &amp; Tea, Food, Cafes, Bars, Wine Bars, Re...</td>\n",
       "      <td>{'Monday': '8:0-18:0', 'Tuesday': '8:0-18:0', ...</td>\n",
       "      <td>pLnTjS90gUlsq2tAjI9prA</td>\n",
       "      <td>G3h8pIclwUbuu3itJqF7ug</td>\n",
       "      <td>4</td>\n",
       "      <td>7</td>\n",
       "      <td>0</td>\n",
       "      <td>4</td>\n",
       "      <td>With a Toast to Roast, I say welcome to the E-...</td>\n",
       "      <td>2012-09-11 23:54:24</td>\n",
       "    </tr>\n",
       "  </tbody>\n",
       "</table>\n",
       "<p>5 rows × 22 columns</p>\n",
       "</div>"
      ],
      "text/plain": [
       "                  business_id                            name  \\\n",
       "index                                                           \n",
       "0      WKMJwqnfZKsAae75RMP6jA  Roast Coffeehouse and Wine Bar   \n",
       "1      WKMJwqnfZKsAae75RMP6jA  Roast Coffeehouse and Wine Bar   \n",
       "2      WKMJwqnfZKsAae75RMP6jA  Roast Coffeehouse and Wine Bar   \n",
       "3      WKMJwqnfZKsAae75RMP6jA  Roast Coffeehouse and Wine Bar   \n",
       "4      WKMJwqnfZKsAae75RMP6jA  Roast Coffeehouse and Wine Bar   \n",
       "\n",
       "                   address      city state postal_code   latitude   longitude  \\\n",
       "index                                                                           \n",
       "0      10359 104 Street NW  Edmonton    AB     T5J 1B9  53.546045 -113.499169   \n",
       "1      10359 104 Street NW  Edmonton    AB     T5J 1B9  53.546045 -113.499169   \n",
       "2      10359 104 Street NW  Edmonton    AB     T5J 1B9  53.546045 -113.499169   \n",
       "3      10359 104 Street NW  Edmonton    AB     T5J 1B9  53.546045 -113.499169   \n",
       "4      10359 104 Street NW  Edmonton    AB     T5J 1B9  53.546045 -113.499169   \n",
       "\n",
       "       stars_x  review_count  ...  \\\n",
       "index                         ...   \n",
       "0          4.0            40  ...   \n",
       "1          4.0            40  ...   \n",
       "2          4.0            40  ...   \n",
       "3          4.0            40  ...   \n",
       "4          4.0            40  ...   \n",
       "\n",
       "                                              categories  \\\n",
       "index                                                      \n",
       "0      Coffee & Tea, Food, Cafes, Bars, Wine Bars, Re...   \n",
       "1      Coffee & Tea, Food, Cafes, Bars, Wine Bars, Re...   \n",
       "2      Coffee & Tea, Food, Cafes, Bars, Wine Bars, Re...   \n",
       "3      Coffee & Tea, Food, Cafes, Bars, Wine Bars, Re...   \n",
       "4      Coffee & Tea, Food, Cafes, Bars, Wine Bars, Re...   \n",
       "\n",
       "                                                   hours  \\\n",
       "index                                                      \n",
       "0      {'Monday': '8:0-18:0', 'Tuesday': '8:0-18:0', ...   \n",
       "1      {'Monday': '8:0-18:0', 'Tuesday': '8:0-18:0', ...   \n",
       "2      {'Monday': '8:0-18:0', 'Tuesday': '8:0-18:0', ...   \n",
       "3      {'Monday': '8:0-18:0', 'Tuesday': '8:0-18:0', ...   \n",
       "4      {'Monday': '8:0-18:0', 'Tuesday': '8:0-18:0', ...   \n",
       "\n",
       "                    review_id                 user_id stars_y useful  funny  \\\n",
       "index                                                                         \n",
       "0      uwPhE21CZLlp1kkSMPvvYw  5OnQqP3q2_9auNdDKpLdsw       3      0      0   \n",
       "1      bAy8ROEYO_3aTBhW5LoR4g  7qFH1RkPivVRcwxLwhyixg       4      2      0   \n",
       "2      zPDHE7TrXs7EJT06qD8yTA  FLeyjgc05C2V6QI9nVQ48Q       4      0      0   \n",
       "3      84niL3fvJMlFBE2hd2qOVQ  R-c5M0iJkMxxTxIqTQQZ8w       2      1      0   \n",
       "4      pLnTjS90gUlsq2tAjI9prA  G3h8pIclwUbuu3itJqF7ug       4      7      0   \n",
       "\n",
       "       cool                                               text  \\\n",
       "index                                                            \n",
       "0         0  So much to like about this place--the beautifu...   \n",
       "1         1  I'm not a coffee connoisseur so I'm not review...   \n",
       "2         0  I really loved it here, makes me wish I lived ...   \n",
       "3         0  The kids who work at Roast are friendly.  They...   \n",
       "4         4  With a Toast to Roast, I say welcome to the E-...   \n",
       "\n",
       "                     date  \n",
       "index                      \n",
       "0     2012-11-06 23:35:15  \n",
       "1     2013-05-28 23:16:30  \n",
       "2     2013-09-04 19:49:33  \n",
       "3     2013-07-14 21:38:06  \n",
       "4     2012-09-11 23:54:24  \n",
       "\n",
       "[5 rows x 22 columns]"
      ]
     },
     "execution_count": 39,
     "metadata": {},
     "output_type": "execute_result"
    }
   ],
   "source": [
    "data.head(5)\n",
    "\n",
    "#stars x is the stars mean for a business\n",
    "#stars y is the stars given by customer, might use this as a label?"
   ]
  },
  {
   "cell_type": "code",
   "execution_count": 59,
   "id": "fcbc97e2",
   "metadata": {
    "pycharm": {
     "name": "#%%\n"
    }
   },
   "outputs": [
    {
     "name": "stdout",
     "output_type": "stream",
     "text": [
      "review:  I. Am. So. Upset. \n",
      "I DMed Hanah on Instagram about getting my nails done, I included specific details about what I wanted. I was told they'd be $50 for a gel set plus an extra $5 for the length. That was okay with me because that's pretty average pricing. \n",
      "It was all fine till I went up to pay, I was charged $75 dollars for my nails because I got them painted!?!? WHO GOES TO GET NAILS DONE AND DOESNT GET THEM PAINTED?? WHY WASNT I TOLD THAT THROUGH THE DMS ON INSTAGRAM?? \n",
      "I'm so upset, I've been ripped off. I will not be returning. If you do come here make sure you ask how much every single step will cost you, because you may be charged an extra $20 when you ask to have colour over top of the gel.\n",
      "\n",
      "stars given:  1\n",
      "\n",
      "\n",
      "review:  As several other reviewers have observed, this place looks very good. One wants to like it. The management, however, is so clueless that I have decided to permanently give it a pass. There are so many really good places in this area where the management knows how to retain good people that one need not spend time in a place where the servers seem to change on a daily basis.\n",
      "\n",
      "When I buy high-priced coffee, I like to have it in a real mug, not a cardboard cup that I could get at any fast-food joint. When the people here mistakenly put mine in a cardboard cup, I did not ask for a new coffee. Instead, I politely pointed it out in the hopes that they would get it right the next time. In return, I got an argument and nasty looks from the crew at the counter. Also, no matter now many people they have at the counter, they manage to keep even small groups of customers waiting on long lines.\n",
      "\n",
      "Yesterday was the kicker. I asked for a decaf coffee and told there was no decaf. Even your average diner will usually ask a customer if he or she wants to wait while they brew up a pot of decaf. And this is a fancy café? I then asked if they had decaf espresso and was told that this too was all out. The person telling me this clearly had no idea of her surroundings and thought she was working in some civil service office: nope, we ain't got it, too bad!\n",
      "\n",
      "With so many good options down the block, this place should stop relying on their decor.\n",
      "\n",
      "stars given:  1\n"
     ]
    }
   ],
   "source": [
    "#checking  some negative reviews.\n",
    "print(\"review: \", data['text'][109432])\n",
    "print(\"\\nstars given: \",data['stars_y'][109432])\n",
    "\n",
    "#checking  some negative reviews.\n",
    "print(\"\\n\\nreview: \", data['text'][21])\n",
    "print(\"\\nstars given: \",data['stars_y'][21])"
   ]
  },
  {
   "cell_type": "code",
   "execution_count": 72,
   "id": "c81e9930",
   "metadata": {
    "pycharm": {
     "name": "#%%\n"
    }
   },
   "outputs": [],
   "source": [
    "data1 = data[data['stars_y'] == 3]"
   ]
  },
  {
   "cell_type": "code",
   "execution_count": 75,
   "id": "5c8fd7b9",
   "metadata": {
    "pycharm": {
     "name": "#%%\n"
    }
   },
   "outputs": [
    {
     "name": "stdout",
     "output_type": "stream",
     "text": [
      "review:  So much to like about this place--the beautiful Mercer Building location, the spaciousness, the lovely, friendly baristas. But there are a couple of important cons for me. Biggest being, the music is constant and too loud, ruining everything you go to a coffee shop to do: read, work, reflect, or enjoy a good conversation. When I asked for it to be turned down, they told me they can't--it just plays at one level all the time, and the speakers  are everywhere so you can't get away from it. It sucks.\n",
      "\n",
      "Secondly, if you're a tea drinker, you're out of luck. They don't serve the tea in pots, but huge, sloppy individual filters--it makes your beverage totally ungainly, hard to drink and is really off putting.\n",
      "\n",
      "Pros: gluten free goodies and yummy Italian sodas. I'd love to spend more time here, but the music usually drives me out after 10 minutes.\n",
      "\n",
      "stars given:  3\n",
      "\n",
      "\n",
      "review:  The decor is fantastic and the staff are friendly. The coffee profile is a little dark for my liking, and the music is 50% terrible, but the atmosphere is otherwise a joy. I've enjoyed some nice events there as well.\n",
      "\n",
      "stars given:  3\n"
     ]
    }
   ],
   "source": [
    "#checking  some mid reviews.\n",
    "print(\"review: \", data1['text'][0])\n",
    "print(\"\\nstars given: \",data1['stars_y'][0])\n",
    "\n",
    "print(\"\\n\\nreview: \", data1['text'][16])\n",
    "print(\"\\nstars given: \",data1['stars_y'][16])"
   ]
  },
  {
   "cell_type": "code",
   "execution_count": 54,
   "id": "14dc61c1",
   "metadata": {
    "pycharm": {
     "name": "#%%\n"
    }
   },
   "outputs": [
    {
     "name": "stdout",
     "output_type": "stream",
     "text": [
      "review:  I'm not a coffee connoisseur so I'm not reviewing it based on that. What I am reviewing it on is the fantastic ambiance it has, the free wifi, and the long meeting table that's available for everyone.\n",
      "\n",
      "Whenever I want to hang out and work downtown at a cafe, Roast is the first place I go to. \n",
      "\n",
      "My only real complaint is that during some hours, this place is PACKED and so that may put a kink in your plans if you wanted to meet someone there for a meeting. Also wifi is sometimes touch and go. I wish more cafes installed the fastest wifi with signal boosters around the place to make it more useful for those who telework.\n",
      "\n",
      "I also love that this place is open LATE!\n",
      "\n",
      "stars given:  4\n",
      "\n",
      "\n",
      "review:  Hope everybody had a nice Valentine's Day yesterday! I had a great dinner which lead right into our trip to San Francisco so I'll have to write about it later! In the mean time, just wanted to post up my visit to ROAST Coffeehouse on 104 St!\n",
      "\n",
      "It took me a long time to make my way down to ROAST but I finally did it. As much as I love the atmosphere of Transcend (may you return to downtown one day) and Credo, I think I like ROAST the best! Something about the wooden interior, the expansive seating areas and trendy wallpaper makes it a place where I'd want to sit and relax.\n",
      "\n",
      "Joe and I went on a Sunday afternoon and the place was pretty bustling from what would have expected. Another plus: their menu is extensive, serving up specialty drinks as well (Credo, please expand, I can't drink straight coffee!). ROAST also serves food and wine after 4pm, which makes me want to return ASAP!\n",
      "\n",
      "For that day though, we were happy with our drinks. Joe and his regular latte, decorated with their signature 'R' (to go, because he just had a cup of coffee with breakfast), and a dark chocolate mocha for me. This is the first time I've ever had a mocha where I didn't find was too bitter (aside from anything served at Starbucks, pure cream and sugar). Absolutely loved my drink!\n",
      "\n",
      "ROAST Coffeehouse, thus far, is my favorite out of all coffee hangouts. Runner-up: Wild Earth Bakery. I only wished I discovered these places when I was in school! Perfect place to study. What's your favorite coffee place?\n",
      "\n",
      "stars given:  5\n"
     ]
    }
   ],
   "source": [
    "#checking some postive reviews.\n",
    "print(\"review: \", data['text'][1])\n",
    "print(\"\\nstars given: \",data['stars_y'][1])\n",
    "\n",
    "print(\"\\n\\nreview: \", data['text'][5])\n",
    "print(\"\\nstars given: \",data['stars_y'][5])"
   ]
  }
 ],
 "metadata": {
  "kernelspec": {
   "display_name": "Python 3 (ipykernel)",
   "language": "python",
   "name": "python3"
  },
  "language_info": {
   "codemirror_mode": {
    "name": "ipython",
    "version": 3
   },
   "file_extension": ".py",
   "mimetype": "text/x-python",
   "name": "python",
   "nbconvert_exporter": "python",
   "pygments_lexer": "ipython3",
   "version": "3.9.7"
  }
 },
 "nbformat": 4,
 "nbformat_minor": 5
}