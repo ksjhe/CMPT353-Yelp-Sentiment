{
 "cells": [
  {
   "cell_type": "code",
   "execution_count": 1,
   "metadata": {
    "pycharm": {
     "name": "#%%\n"
    }
   },
   "outputs": [],
   "source": [
    "import numpy as np\n",
    "import pandas as pd\n",
    "import matplotlib.pyplot as plt\n",
    "import seaborn as sns\n",
    "from pprint import pprint\n",
    "from sklearn.metrics import confusion_matrix"
   ]
  },
  {
   "cell_type": "markdown",
   "metadata": {
    "pycharm": {
     "name": "#%% md\n"
    }
   },
   "source": [
    "# reads in the prediction dataframe"
   ]
  },
  {
   "cell_type": "code",
   "execution_count": 2,
   "metadata": {
    "pycharm": {
     "name": "#%%\n"
    }
   },
   "outputs": [
    {
     "data": {
      "text/html": [
       "<div>\n",
       "<style scoped>\n",
       "    .dataframe tbody tr th:only-of-type {\n",
       "        vertical-align: middle;\n",
       "    }\n",
       "\n",
       "    .dataframe tbody tr th {\n",
       "        vertical-align: top;\n",
       "    }\n",
       "\n",
       "    .dataframe thead th {\n",
       "        text-align: right;\n",
       "    }\n",
       "</style>\n",
       "<table border=\"1\" class=\"dataframe\">\n",
       "  <thead>\n",
       "    <tr style=\"text-align: right;\">\n",
       "      <th></th>\n",
       "      <th>business_id</th>\n",
       "      <th>name</th>\n",
       "      <th>address</th>\n",
       "      <th>city</th>\n",
       "      <th>state</th>\n",
       "      <th>postal_code</th>\n",
       "      <th>latitude</th>\n",
       "      <th>longitude</th>\n",
       "      <th>stars_x</th>\n",
       "      <th>review_count</th>\n",
       "      <th>...</th>\n",
       "      <th>user_id</th>\n",
       "      <th>stars_y</th>\n",
       "      <th>useful</th>\n",
       "      <th>funny</th>\n",
       "      <th>cool</th>\n",
       "      <th>text</th>\n",
       "      <th>date</th>\n",
       "      <th>neg</th>\n",
       "      <th>neu</th>\n",
       "      <th>pos</th>\n",
       "    </tr>\n",
       "    <tr>\n",
       "      <th>index</th>\n",
       "      <th></th>\n",
       "      <th></th>\n",
       "      <th></th>\n",
       "      <th></th>\n",
       "      <th></th>\n",
       "      <th></th>\n",
       "      <th></th>\n",
       "      <th></th>\n",
       "      <th></th>\n",
       "      <th></th>\n",
       "      <th></th>\n",
       "      <th></th>\n",
       "      <th></th>\n",
       "      <th></th>\n",
       "      <th></th>\n",
       "      <th></th>\n",
       "      <th></th>\n",
       "      <th></th>\n",
       "      <th></th>\n",
       "      <th></th>\n",
       "      <th></th>\n",
       "    </tr>\n",
       "  </thead>\n",
       "  <tbody>\n",
       "    <tr>\n",
       "      <th>33550</th>\n",
       "      <td>jEvoDXtF3xMJsiPPbqGSmw</td>\n",
       "      <td>Tres Carnales Taqueria</td>\n",
       "      <td>10119 100A St</td>\n",
       "      <td>Edmonton</td>\n",
       "      <td>AB</td>\n",
       "      <td>T5J 0C8</td>\n",
       "      <td>53.541434</td>\n",
       "      <td>-113.491816</td>\n",
       "      <td>4.0</td>\n",
       "      <td>429</td>\n",
       "      <td>...</td>\n",
       "      <td>BG9Iy_5gznP1KHfatXZ0lg</td>\n",
       "      <td>1</td>\n",
       "      <td>0</td>\n",
       "      <td>0</td>\n",
       "      <td>0</td>\n",
       "      <td>If you are Claiming to be experts in  \"MEXICAN...</td>\n",
       "      <td>2020-07-07 06:53:15</td>\n",
       "      <td>0.348361</td>\n",
       "      <td>0.470583</td>\n",
       "      <td>0.181056</td>\n",
       "    </tr>\n",
       "    <tr>\n",
       "      <th>24098</th>\n",
       "      <td>otGcwLlVcsYK73ULzrLXEA</td>\n",
       "      <td>Black Pearl Seafood Bar</td>\n",
       "      <td>10132 104 Street</td>\n",
       "      <td>Edmonton</td>\n",
       "      <td>AB</td>\n",
       "      <td>T5J 1A7</td>\n",
       "      <td>53.541740</td>\n",
       "      <td>-113.499502</td>\n",
       "      <td>4.0</td>\n",
       "      <td>80</td>\n",
       "      <td>...</td>\n",
       "      <td>nC9V777rlZbKWm3m0QlXYg</td>\n",
       "      <td>3</td>\n",
       "      <td>1</td>\n",
       "      <td>0</td>\n",
       "      <td>0</td>\n",
       "      <td>Had a lovely meal out on the patio. I had the ...</td>\n",
       "      <td>2018-07-01 19:20:48</td>\n",
       "      <td>0.002162</td>\n",
       "      <td>0.019565</td>\n",
       "      <td>0.978273</td>\n",
       "    </tr>\n",
       "    <tr>\n",
       "      <th>17778</th>\n",
       "      <td>f9_TLVlUHBv0869CygEbZg</td>\n",
       "      <td>Dadeo</td>\n",
       "      <td>10548A 82 Avenue NW</td>\n",
       "      <td>Edmonton</td>\n",
       "      <td>AB</td>\n",
       "      <td>T6E 2A4</td>\n",
       "      <td>53.518408</td>\n",
       "      <td>-113.502667</td>\n",
       "      <td>4.0</td>\n",
       "      <td>237</td>\n",
       "      <td>...</td>\n",
       "      <td>P6q3d2JaMgwPPnZP9IhbeA</td>\n",
       "      <td>3</td>\n",
       "      <td>0</td>\n",
       "      <td>0</td>\n",
       "      <td>1</td>\n",
       "      <td>I think I had the fish poboy when I went. The ...</td>\n",
       "      <td>2017-05-07 03:52:51</td>\n",
       "      <td>0.480000</td>\n",
       "      <td>0.359089</td>\n",
       "      <td>0.160911</td>\n",
       "    </tr>\n",
       "    <tr>\n",
       "      <th>5185</th>\n",
       "      <td>3Yogz58lIto-kceF2y-THg</td>\n",
       "      <td>Double Greeting Wonton House</td>\n",
       "      <td>10212 96 Street NW</td>\n",
       "      <td>Edmonton</td>\n",
       "      <td>AB</td>\n",
       "      <td>T5H 2G7</td>\n",
       "      <td>53.544889</td>\n",
       "      <td>-113.483042</td>\n",
       "      <td>4.0</td>\n",
       "      <td>52</td>\n",
       "      <td>...</td>\n",
       "      <td>3oT-wLj8vNBhWGKlCvfCxA</td>\n",
       "      <td>2</td>\n",
       "      <td>2</td>\n",
       "      <td>0</td>\n",
       "      <td>0</td>\n",
       "      <td>You'd think with the other reviews that this p...</td>\n",
       "      <td>2012-11-18 18:20:50</td>\n",
       "      <td>0.568168</td>\n",
       "      <td>0.304713</td>\n",
       "      <td>0.127119</td>\n",
       "    </tr>\n",
       "    <tr>\n",
       "      <th>59505</th>\n",
       "      <td>Rl0XbZP_8AfNgn4S6WfoQw</td>\n",
       "      <td>Careit Urban Deli</td>\n",
       "      <td>10226 104th Street</td>\n",
       "      <td>Edmonton</td>\n",
       "      <td>AB</td>\n",
       "      <td>T5J 1B8</td>\n",
       "      <td>53.543689</td>\n",
       "      <td>-113.499694</td>\n",
       "      <td>4.0</td>\n",
       "      <td>9</td>\n",
       "      <td>...</td>\n",
       "      <td>AvXs8_0tuoKbuB4_9ePIZg</td>\n",
       "      <td>4</td>\n",
       "      <td>1</td>\n",
       "      <td>0</td>\n",
       "      <td>1</td>\n",
       "      <td>What a great new addition of eateries to 104th...</td>\n",
       "      <td>2016-07-11 03:16:29</td>\n",
       "      <td>0.002746</td>\n",
       "      <td>0.024336</td>\n",
       "      <td>0.972918</td>\n",
       "    </tr>\n",
       "    <tr>\n",
       "      <th>...</th>\n",
       "      <td>...</td>\n",
       "      <td>...</td>\n",
       "      <td>...</td>\n",
       "      <td>...</td>\n",
       "      <td>...</td>\n",
       "      <td>...</td>\n",
       "      <td>...</td>\n",
       "      <td>...</td>\n",
       "      <td>...</td>\n",
       "      <td>...</td>\n",
       "      <td>...</td>\n",
       "      <td>...</td>\n",
       "      <td>...</td>\n",
       "      <td>...</td>\n",
       "      <td>...</td>\n",
       "      <td>...</td>\n",
       "      <td>...</td>\n",
       "      <td>...</td>\n",
       "      <td>...</td>\n",
       "      <td>...</td>\n",
       "      <td>...</td>\n",
       "    </tr>\n",
       "    <tr>\n",
       "      <th>10282</th>\n",
       "      <td>Z2gGsSqf9KknTvMGp1yByw</td>\n",
       "      <td>Moxie's Grill &amp; Bar</td>\n",
       "      <td>10628 Kingsway Avenue</td>\n",
       "      <td>Edmonton</td>\n",
       "      <td>AB</td>\n",
       "      <td>T5G 0W8</td>\n",
       "      <td>53.559295</td>\n",
       "      <td>-113.503637</td>\n",
       "      <td>3.0</td>\n",
       "      <td>40</td>\n",
       "      <td>...</td>\n",
       "      <td>4UU2qHHNFDlrktj78O354Q</td>\n",
       "      <td>1</td>\n",
       "      <td>0</td>\n",
       "      <td>0</td>\n",
       "      <td>0</td>\n",
       "      <td>I'm a very picky eater.  2nd visit here and ye...</td>\n",
       "      <td>2010-08-06 18:56:45</td>\n",
       "      <td>0.977416</td>\n",
       "      <td>0.019802</td>\n",
       "      <td>0.002782</td>\n",
       "    </tr>\n",
       "    <tr>\n",
       "      <th>22939</th>\n",
       "      <td>sYRNtW049aogQi_NjMFSJw</td>\n",
       "      <td>El Rancho Spanish Restaurant</td>\n",
       "      <td>11810 87th Street NW</td>\n",
       "      <td>Edmonton</td>\n",
       "      <td>AB</td>\n",
       "      <td>T5B 3M9</td>\n",
       "      <td>53.570675</td>\n",
       "      <td>-113.474585</td>\n",
       "      <td>3.5</td>\n",
       "      <td>54</td>\n",
       "      <td>...</td>\n",
       "      <td>-GQH3Eif2qCP07v0wFC1Pg</td>\n",
       "      <td>4</td>\n",
       "      <td>15</td>\n",
       "      <td>4</td>\n",
       "      <td>4</td>\n",
       "      <td>I'm a bit shocked that no one has reviewed El ...</td>\n",
       "      <td>2011-03-22 17:36:01</td>\n",
       "      <td>0.048177</td>\n",
       "      <td>0.550082</td>\n",
       "      <td>0.401741</td>\n",
       "    </tr>\n",
       "    <tr>\n",
       "      <th>39151</th>\n",
       "      <td>Uc1_v_Z9aWMA4w_u4SoRXA</td>\n",
       "      <td>Refinery Grill</td>\n",
       "      <td>10406 Mayfield Road</td>\n",
       "      <td>Edmonton</td>\n",
       "      <td>AB</td>\n",
       "      <td>T5P 4P4</td>\n",
       "      <td>53.546627</td>\n",
       "      <td>-113.613707</td>\n",
       "      <td>4.0</td>\n",
       "      <td>46</td>\n",
       "      <td>...</td>\n",
       "      <td>qAoekZw9MECmkFke-h99Jw</td>\n",
       "      <td>2</td>\n",
       "      <td>0</td>\n",
       "      <td>0</td>\n",
       "      <td>0</td>\n",
       "      <td>Maybe good for Lunch and Supper but Breakfast ...</td>\n",
       "      <td>2018-08-12 19:43:04</td>\n",
       "      <td>0.839176</td>\n",
       "      <td>0.127481</td>\n",
       "      <td>0.033343</td>\n",
       "    </tr>\n",
       "    <tr>\n",
       "      <th>10723</th>\n",
       "      <td>9z0XNWznR6KXQSMBt00AHA</td>\n",
       "      <td>Co Co Di</td>\n",
       "      <td>11454 Jasper Avenue NW</td>\n",
       "      <td>Edmonton</td>\n",
       "      <td>AB</td>\n",
       "      <td>T5K 0M1</td>\n",
       "      <td>53.540929</td>\n",
       "      <td>-113.518766</td>\n",
       "      <td>3.5</td>\n",
       "      <td>45</td>\n",
       "      <td>...</td>\n",
       "      <td>KuVMuEFuKNY26-4AFxjZAA</td>\n",
       "      <td>1</td>\n",
       "      <td>1</td>\n",
       "      <td>4</td>\n",
       "      <td>0</td>\n",
       "      <td>I hate leaving bad reviews, but I hope that wi...</td>\n",
       "      <td>2013-10-03 19:01:43</td>\n",
       "      <td>0.506006</td>\n",
       "      <td>0.331808</td>\n",
       "      <td>0.162185</td>\n",
       "    </tr>\n",
       "    <tr>\n",
       "      <th>4601</th>\n",
       "      <td>0mELPrm26bXmBhdzJezAlQ</td>\n",
       "      <td>The Phat Noodle</td>\n",
       "      <td>10347 Jasper Avenue</td>\n",
       "      <td>Edmonton</td>\n",
       "      <td>AB</td>\n",
       "      <td>T5J</td>\n",
       "      <td>53.540787</td>\n",
       "      <td>-113.498825</td>\n",
       "      <td>3.5</td>\n",
       "      <td>6</td>\n",
       "      <td>...</td>\n",
       "      <td>l9be6lRlJhumEM8ruMMJ7g</td>\n",
       "      <td>2</td>\n",
       "      <td>1</td>\n",
       "      <td>1</td>\n",
       "      <td>0</td>\n",
       "      <td>I was not impressed with this place. I ordered...</td>\n",
       "      <td>2013-01-19 07:51:51</td>\n",
       "      <td>0.797276</td>\n",
       "      <td>0.161659</td>\n",
       "      <td>0.041065</td>\n",
       "    </tr>\n",
       "  </tbody>\n",
       "</table>\n",
       "<p>20145 rows × 25 columns</p>\n",
       "</div>"
      ],
      "text/plain": [
       "                  business_id                          name  \\\n",
       "index                                                         \n",
       "33550  jEvoDXtF3xMJsiPPbqGSmw        Tres Carnales Taqueria   \n",
       "24098  otGcwLlVcsYK73ULzrLXEA       Black Pearl Seafood Bar   \n",
       "17778  f9_TLVlUHBv0869CygEbZg                         Dadeo   \n",
       "5185   3Yogz58lIto-kceF2y-THg  Double Greeting Wonton House   \n",
       "59505  Rl0XbZP_8AfNgn4S6WfoQw             Careit Urban Deli   \n",
       "...                       ...                           ...   \n",
       "10282  Z2gGsSqf9KknTvMGp1yByw           Moxie's Grill & Bar   \n",
       "22939  sYRNtW049aogQi_NjMFSJw  El Rancho Spanish Restaurant   \n",
       "39151  Uc1_v_Z9aWMA4w_u4SoRXA                Refinery Grill   \n",
       "10723  9z0XNWznR6KXQSMBt00AHA                      Co Co Di   \n",
       "4601   0mELPrm26bXmBhdzJezAlQ               The Phat Noodle   \n",
       "\n",
       "                      address      city state postal_code   latitude  \\\n",
       "index                                                                  \n",
       "33550           10119 100A St  Edmonton    AB     T5J 0C8  53.541434   \n",
       "24098        10132 104 Street  Edmonton    AB     T5J 1A7  53.541740   \n",
       "17778     10548A 82 Avenue NW  Edmonton    AB     T6E 2A4  53.518408   \n",
       "5185       10212 96 Street NW  Edmonton    AB     T5H 2G7  53.544889   \n",
       "59505      10226 104th Street  Edmonton    AB     T5J 1B8  53.543689   \n",
       "...                       ...       ...   ...         ...        ...   \n",
       "10282   10628 Kingsway Avenue  Edmonton    AB     T5G 0W8  53.559295   \n",
       "22939    11810 87th Street NW  Edmonton    AB     T5B 3M9  53.570675   \n",
       "39151     10406 Mayfield Road  Edmonton    AB     T5P 4P4  53.546627   \n",
       "10723  11454 Jasper Avenue NW  Edmonton    AB     T5K 0M1  53.540929   \n",
       "4601      10347 Jasper Avenue  Edmonton    AB         T5J  53.540787   \n",
       "\n",
       "        longitude  stars_x  review_count  ...                 user_id stars_y  \\\n",
       "index                                     ...                                   \n",
       "33550 -113.491816      4.0           429  ...  BG9Iy_5gznP1KHfatXZ0lg       1   \n",
       "24098 -113.499502      4.0            80  ...  nC9V777rlZbKWm3m0QlXYg       3   \n",
       "17778 -113.502667      4.0           237  ...  P6q3d2JaMgwPPnZP9IhbeA       3   \n",
       "5185  -113.483042      4.0            52  ...  3oT-wLj8vNBhWGKlCvfCxA       2   \n",
       "59505 -113.499694      4.0             9  ...  AvXs8_0tuoKbuB4_9ePIZg       4   \n",
       "...           ...      ...           ...  ...                     ...     ...   \n",
       "10282 -113.503637      3.0            40  ...  4UU2qHHNFDlrktj78O354Q       1   \n",
       "22939 -113.474585      3.5            54  ...  -GQH3Eif2qCP07v0wFC1Pg       4   \n",
       "39151 -113.613707      4.0            46  ...  qAoekZw9MECmkFke-h99Jw       2   \n",
       "10723 -113.518766      3.5            45  ...  KuVMuEFuKNY26-4AFxjZAA       1   \n",
       "4601  -113.498825      3.5             6  ...  l9be6lRlJhumEM8ruMMJ7g       2   \n",
       "\n",
       "      useful funny cool                                               text  \\\n",
       "index                                                                        \n",
       "33550      0     0    0  If you are Claiming to be experts in  \"MEXICAN...   \n",
       "24098      1     0    0  Had a lovely meal out on the patio. I had the ...   \n",
       "17778      0     0    1  I think I had the fish poboy when I went. The ...   \n",
       "5185       2     0    0  You'd think with the other reviews that this p...   \n",
       "59505      1     0    1  What a great new addition of eateries to 104th...   \n",
       "...      ...   ...  ...                                                ...   \n",
       "10282      0     0    0  I'm a very picky eater.  2nd visit here and ye...   \n",
       "22939     15     4    4  I'm a bit shocked that no one has reviewed El ...   \n",
       "39151      0     0    0  Maybe good for Lunch and Supper but Breakfast ...   \n",
       "10723      1     4    0  I hate leaving bad reviews, but I hope that wi...   \n",
       "4601       1     1    0  I was not impressed with this place. I ordered...   \n",
       "\n",
       "                      date       neg       neu       pos  \n",
       "index                                                     \n",
       "33550  2020-07-07 06:53:15  0.348361  0.470583  0.181056  \n",
       "24098  2018-07-01 19:20:48  0.002162  0.019565  0.978273  \n",
       "17778  2017-05-07 03:52:51  0.480000  0.359089  0.160911  \n",
       "5185   2012-11-18 18:20:50  0.568168  0.304713  0.127119  \n",
       "59505  2016-07-11 03:16:29  0.002746  0.024336  0.972918  \n",
       "...                    ...       ...       ...       ...  \n",
       "10282  2010-08-06 18:56:45  0.977416  0.019802  0.002782  \n",
       "22939  2011-03-22 17:36:01  0.048177  0.550082  0.401741  \n",
       "39151  2018-08-12 19:43:04  0.839176  0.127481  0.033343  \n",
       "10723  2013-10-03 19:01:43  0.506006  0.331808  0.162185  \n",
       "4601   2013-01-19 07:51:51  0.797276  0.161659  0.041065  \n",
       "\n",
       "[20145 rows x 25 columns]"
      ]
     },
     "execution_count": 2,
     "metadata": {},
     "output_type": "execute_result"
    }
   ],
   "source": [
    "roberta = pd.read_csv('data/trained/roberta-model-scores.gz', index_col=0)\n",
    "vader_train = pd.read_csv('data/trained/vader-model-train-scores.gz', index_col=0)\n",
    "vader_test = pd.read_csv('data/trained/vader-model-test-scores.gz', index_col=0)\n",
    "roberta"
   ]
  },
  {
   "cell_type": "code",
   "execution_count": 3,
   "metadata": {
    "pycharm": {
     "name": "#%%\n"
    }
   },
   "outputs": [
    {
     "data": {
      "text/html": [
       "<div>\n",
       "<style scoped>\n",
       "    .dataframe tbody tr th:only-of-type {\n",
       "        vertical-align: middle;\n",
       "    }\n",
       "\n",
       "    .dataframe tbody tr th {\n",
       "        vertical-align: top;\n",
       "    }\n",
       "\n",
       "    .dataframe thead th {\n",
       "        text-align: right;\n",
       "    }\n",
       "</style>\n",
       "<table border=\"1\" class=\"dataframe\">\n",
       "  <thead>\n",
       "    <tr style=\"text-align: right;\">\n",
       "      <th></th>\n",
       "      <th>review_id</th>\n",
       "      <th>neg</th>\n",
       "      <th>neu</th>\n",
       "      <th>pos</th>\n",
       "      <th>compound</th>\n",
       "      <th>business_id</th>\n",
       "      <th>name</th>\n",
       "      <th>address</th>\n",
       "      <th>city</th>\n",
       "      <th>state</th>\n",
       "      <th>...</th>\n",
       "      <th>attributes</th>\n",
       "      <th>categories</th>\n",
       "      <th>hours</th>\n",
       "      <th>user_id</th>\n",
       "      <th>stars_y</th>\n",
       "      <th>useful</th>\n",
       "      <th>funny</th>\n",
       "      <th>cool</th>\n",
       "      <th>text</th>\n",
       "      <th>date</th>\n",
       "    </tr>\n",
       "  </thead>\n",
       "  <tbody>\n",
       "    <tr>\n",
       "      <th>0</th>\n",
       "      <td>CLnoJnso-R87s-7aKMXWSw</td>\n",
       "      <td>0.114</td>\n",
       "      <td>0.800</td>\n",
       "      <td>0.086</td>\n",
       "      <td>-0.3260</td>\n",
       "      <td>qHOVeIzwDB7YiGiEkGy-LQ</td>\n",
       "      <td>IHOP</td>\n",
       "      <td>10803 170th ST</td>\n",
       "      <td>Edmonton</td>\n",
       "      <td>AB</td>\n",
       "      <td>...</td>\n",
       "      <td>b'{\"RestaurantsAttire\": \"\\'casual\\'\", \"Restaur...</td>\n",
       "      <td>Breakfast &amp; Brunch, Restaurants, Burgers, Amer...</td>\n",
       "      <td>b'{\"Monday\": \"7:0-18:30\", \"Tuesday\": \"7:30-15:...</td>\n",
       "      <td>wFudYB4sjr5yj4R2-lyFyQ</td>\n",
       "      <td>2</td>\n",
       "      <td>1</td>\n",
       "      <td>0</td>\n",
       "      <td>0</td>\n",
       "      <td>Really not impressed.  Since this location jus...</td>\n",
       "      <td>2016-09-07 18:55:29</td>\n",
       "    </tr>\n",
       "    <tr>\n",
       "      <th>1</th>\n",
       "      <td>G9qOLm1fc2_73BkN8cCCrA</td>\n",
       "      <td>0.046</td>\n",
       "      <td>0.797</td>\n",
       "      <td>0.157</td>\n",
       "      <td>0.9863</td>\n",
       "      <td>Pftp2bkQD91tiUnnPD0FYA</td>\n",
       "      <td>Olympia Ethiopian Restaurant</td>\n",
       "      <td>15608 103 Avenue</td>\n",
       "      <td>Edmonton</td>\n",
       "      <td>AB</td>\n",
       "      <td>...</td>\n",
       "      <td>b'{\"RestaurantsPriceRange2\": \"2\", \"Restaurants...</td>\n",
       "      <td>Buffets, Cafes, Food, Restaurants, Ethiopian, ...</td>\n",
       "      <td>b'{\"Monday\": \"11:0-19:0\", \"Tuesday\": \"11:0-19:...</td>\n",
       "      <td>iEhpkdXhqA6ozUBwKYPPPA</td>\n",
       "      <td>3</td>\n",
       "      <td>4</td>\n",
       "      <td>0</td>\n",
       "      <td>0</td>\n",
       "      <td>Nice little place! Glad they got some better s...</td>\n",
       "      <td>2015-10-25 06:01:10</td>\n",
       "    </tr>\n",
       "    <tr>\n",
       "      <th>2</th>\n",
       "      <td>tlfsMB9qihR9wZHE-fgr8w</td>\n",
       "      <td>0.074</td>\n",
       "      <td>0.783</td>\n",
       "      <td>0.143</td>\n",
       "      <td>0.9885</td>\n",
       "      <td>jEvoDXtF3xMJsiPPbqGSmw</td>\n",
       "      <td>Tres Carnales Taqueria</td>\n",
       "      <td>10119 100A St</td>\n",
       "      <td>Edmonton</td>\n",
       "      <td>AB</td>\n",
       "      <td>...</td>\n",
       "      <td>b'{\"BikeParking\": \"False\", \"GoodForKids\": \"Tru...</td>\n",
       "      <td>Restaurants, Mexican</td>\n",
       "      <td>b'{\"Monday\": \"12:0-21:0\", \"Tuesday\": \"12:0-21:...</td>\n",
       "      <td>ZatiTUEcujWxDTXqIIyBKQ</td>\n",
       "      <td>2</td>\n",
       "      <td>5</td>\n",
       "      <td>0</td>\n",
       "      <td>1</td>\n",
       "      <td>This was my first visit to Tres Carnales. I wo...</td>\n",
       "      <td>2019-06-21 21:03:39</td>\n",
       "    </tr>\n",
       "    <tr>\n",
       "      <th>3</th>\n",
       "      <td>Lx5_aW_5-2uQUwB-qF6FFg</td>\n",
       "      <td>0.138</td>\n",
       "      <td>0.791</td>\n",
       "      <td>0.071</td>\n",
       "      <td>-0.8161</td>\n",
       "      <td>F-HzRgpiPQZiCFeZVDd2MQ</td>\n",
       "      <td>Noodle 42</td>\n",
       "      <td>13847 42 Street NW</td>\n",
       "      <td>Edmonton</td>\n",
       "      <td>AB</td>\n",
       "      <td>...</td>\n",
       "      <td>b'{\"RestaurantsAttire\": \"u\\'casual\\'\", \"Restau...</td>\n",
       "      <td>Chinese, Restaurants, Vietnamese</td>\n",
       "      <td>b'{\"Monday\": \"16:0-21:0\", \"Tuesday\": \"16:0-21:...</td>\n",
       "      <td>a5ESkMyWIhwPszOo8H66vQ</td>\n",
       "      <td>1</td>\n",
       "      <td>0</td>\n",
       "      <td>0</td>\n",
       "      <td>0</td>\n",
       "      <td>Had #63 (a combo plate). Very greasy, one item...</td>\n",
       "      <td>2011-04-13 20:00:15</td>\n",
       "    </tr>\n",
       "    <tr>\n",
       "      <th>4</th>\n",
       "      <td>IdGWwEyU9e5qskTFofQ3SA</td>\n",
       "      <td>0.035</td>\n",
       "      <td>0.761</td>\n",
       "      <td>0.204</td>\n",
       "      <td>0.9870</td>\n",
       "      <td>yLIn3po-fKb0T3UIoJdiyQ</td>\n",
       "      <td>Famoso Neapolitan Pizzeria</td>\n",
       "      <td>11750 Jasper Avenue NW</td>\n",
       "      <td>Edmonton</td>\n",
       "      <td>AB</td>\n",
       "      <td>...</td>\n",
       "      <td>b'{\"NoiseLevel\": \"u\\'average\\'\", \"GoodForKids\"...</td>\n",
       "      <td>Italian, Restaurants, Pizza</td>\n",
       "      <td>b'{\"Monday\": \"12:0-21:0\", \"Tuesday\": \"12:0-21:...</td>\n",
       "      <td>VjA1teP4BA2y9ZNzfihr0w</td>\n",
       "      <td>4</td>\n",
       "      <td>4</td>\n",
       "      <td>2</td>\n",
       "      <td>3</td>\n",
       "      <td>We were looking for good spaghetti and meatbal...</td>\n",
       "      <td>2017-08-19 04:19:16</td>\n",
       "    </tr>\n",
       "    <tr>\n",
       "      <th>...</th>\n",
       "      <td>...</td>\n",
       "      <td>...</td>\n",
       "      <td>...</td>\n",
       "      <td>...</td>\n",
       "      <td>...</td>\n",
       "      <td>...</td>\n",
       "      <td>...</td>\n",
       "      <td>...</td>\n",
       "      <td>...</td>\n",
       "      <td>...</td>\n",
       "      <td>...</td>\n",
       "      <td>...</td>\n",
       "      <td>...</td>\n",
       "      <td>...</td>\n",
       "      <td>...</td>\n",
       "      <td>...</td>\n",
       "      <td>...</td>\n",
       "      <td>...</td>\n",
       "      <td>...</td>\n",
       "      <td>...</td>\n",
       "      <td>...</td>\n",
       "    </tr>\n",
       "    <tr>\n",
       "      <th>20140</th>\n",
       "      <td>zZUR6tJuOtxmHGH2VrIUiw</td>\n",
       "      <td>0.055</td>\n",
       "      <td>0.872</td>\n",
       "      <td>0.072</td>\n",
       "      <td>0.8103</td>\n",
       "      <td>a4o7LF0Aeo6a7t379Kcjgw</td>\n",
       "      <td>Eddie's Donair &amp; Pizza</td>\n",
       "      <td>16757 91 Street NW</td>\n",
       "      <td>Edmonton</td>\n",
       "      <td>AB</td>\n",
       "      <td>...</td>\n",
       "      <td>b'{\"NoiseLevel\": \"u\\'quiet\\'\", \"HasTV\": \"True\"...</td>\n",
       "      <td>Pizza, French, Chicken Wings, Donairs, Food, R...</td>\n",
       "      <td>b'{\"Monday\": \"11:0-22:0\", \"Tuesday\": \"11:0-22:...</td>\n",
       "      <td>gYODgbiRz2mBfLi1VG02UA</td>\n",
       "      <td>2</td>\n",
       "      <td>4</td>\n",
       "      <td>1</td>\n",
       "      <td>0</td>\n",
       "      <td>Stopped into this little diner the other day.\\...</td>\n",
       "      <td>2012-01-22 20:35:27</td>\n",
       "    </tr>\n",
       "    <tr>\n",
       "      <th>20141</th>\n",
       "      <td>9ymQTA-M-cUgyllsdk4tBA</td>\n",
       "      <td>0.000</td>\n",
       "      <td>0.806</td>\n",
       "      <td>0.194</td>\n",
       "      <td>0.8555</td>\n",
       "      <td>YNcVAMg2u10Bad8qiFE-tw</td>\n",
       "      <td>Teriyaki Corner Japanese Bistro</td>\n",
       "      <td>1064-91 Street SW</td>\n",
       "      <td>Edmonton</td>\n",
       "      <td>AB</td>\n",
       "      <td>...</td>\n",
       "      <td>b'{\"BusinessParking\": \"{\\'garage\\': False, \\'s...</td>\n",
       "      <td>Japanese, Restaurants</td>\n",
       "      <td>b'{\"Monday\": \"11:30-21:0\", \"Tuesday\": \"11:30-2...</td>\n",
       "      <td>cyFN4LyugoFq0XGGLFPb3A</td>\n",
       "      <td>3</td>\n",
       "      <td>1</td>\n",
       "      <td>0</td>\n",
       "      <td>0</td>\n",
       "      <td>We went here for the first time the other nigh...</td>\n",
       "      <td>2014-03-21 18:45:20</td>\n",
       "    </tr>\n",
       "    <tr>\n",
       "      <th>20142</th>\n",
       "      <td>q_Ay4p7-HCAaybRiEQe1bg</td>\n",
       "      <td>0.000</td>\n",
       "      <td>0.584</td>\n",
       "      <td>0.416</td>\n",
       "      <td>0.9896</td>\n",
       "      <td>ZTcCAGRxxXAf_K6mgFoW0g</td>\n",
       "      <td>Dogwood Cafe</td>\n",
       "      <td>12130 River Valley Road</td>\n",
       "      <td>Edmonton</td>\n",
       "      <td>AB</td>\n",
       "      <td>...</td>\n",
       "      <td>b'{\"GoodForMeal\": \"{\\'dessert\\': False, \\'late...</td>\n",
       "      <td>Gastropubs, Cafes, Scandinavian, Restaurants</td>\n",
       "      <td>b'{\"Thursday\": \"16:0-21:0\", \"Friday\": \"16:0-21...</td>\n",
       "      <td>I1MHrxdr98VXT-Dj-vEXLQ</td>\n",
       "      <td>5</td>\n",
       "      <td>2</td>\n",
       "      <td>0</td>\n",
       "      <td>0</td>\n",
       "      <td>One of my favourite places to have brunch. sta...</td>\n",
       "      <td>2017-10-12 04:33:15</td>\n",
       "    </tr>\n",
       "    <tr>\n",
       "      <th>20143</th>\n",
       "      <td>Ey01QhCbC10mULHNqXGmUQ</td>\n",
       "      <td>0.039</td>\n",
       "      <td>0.781</td>\n",
       "      <td>0.180</td>\n",
       "      <td>0.9855</td>\n",
       "      <td>HYiLl8OWiiUSVJpOQyXVsA</td>\n",
       "      <td>Biera</td>\n",
       "      <td>9570 - 76th Avenue</td>\n",
       "      <td>Edmonton</td>\n",
       "      <td>AB</td>\n",
       "      <td>...</td>\n",
       "      <td>b'{\"GoodForDancing\": \"False\", \"RestaurantsGood...</td>\n",
       "      <td>Nightlife, Food, Gastropubs, Bars, Restaurants...</td>\n",
       "      <td>b'{\"Monday\": \"0:0-0:0\", \"Tuesday\": \"15:0-22:0\"...</td>\n",
       "      <td>poqTbV4MBIV2PT3OP02SHQ</td>\n",
       "      <td>2</td>\n",
       "      <td>0</td>\n",
       "      <td>0</td>\n",
       "      <td>0</td>\n",
       "      <td>This has been my one of my favourite restauran...</td>\n",
       "      <td>2019-08-26 02:45:09</td>\n",
       "    </tr>\n",
       "    <tr>\n",
       "      <th>20144</th>\n",
       "      <td>VcTXln9z_mh8Jo43oRyU2w</td>\n",
       "      <td>0.026</td>\n",
       "      <td>0.833</td>\n",
       "      <td>0.140</td>\n",
       "      <td>0.9828</td>\n",
       "      <td>mfy9mpgQtsWW45jFuwsPFQ</td>\n",
       "      <td>Won Jung Gak</td>\n",
       "      <td>9655 62 Avenue NW</td>\n",
       "      <td>Edmonton</td>\n",
       "      <td>AB</td>\n",
       "      <td>...</td>\n",
       "      <td>b'{\"HasTV\": \"True\", \"RestaurantsPriceRange2\": ...</td>\n",
       "      <td>Korean, Restaurants, Chinese, Food</td>\n",
       "      <td>b'{\"Monday\": \"11:45-21:0\", \"Wednesday\": \"11:45...</td>\n",
       "      <td>n59W9qVHr7kKkMM0ZCspWg</td>\n",
       "      <td>4</td>\n",
       "      <td>1</td>\n",
       "      <td>0</td>\n",
       "      <td>0</td>\n",
       "      <td>I've been looking for some cheap and plentiful...</td>\n",
       "      <td>2013-08-03 23:22:56</td>\n",
       "    </tr>\n",
       "  </tbody>\n",
       "</table>\n",
       "<p>20145 rows × 26 columns</p>\n",
       "</div>"
      ],
      "text/plain": [
       "                    review_id    neg    neu    pos  compound  \\\n",
       "0      CLnoJnso-R87s-7aKMXWSw  0.114  0.800  0.086   -0.3260   \n",
       "1      G9qOLm1fc2_73BkN8cCCrA  0.046  0.797  0.157    0.9863   \n",
       "2      tlfsMB9qihR9wZHE-fgr8w  0.074  0.783  0.143    0.9885   \n",
       "3      Lx5_aW_5-2uQUwB-qF6FFg  0.138  0.791  0.071   -0.8161   \n",
       "4      IdGWwEyU9e5qskTFofQ3SA  0.035  0.761  0.204    0.9870   \n",
       "...                       ...    ...    ...    ...       ...   \n",
       "20140  zZUR6tJuOtxmHGH2VrIUiw  0.055  0.872  0.072    0.8103   \n",
       "20141  9ymQTA-M-cUgyllsdk4tBA  0.000  0.806  0.194    0.8555   \n",
       "20142  q_Ay4p7-HCAaybRiEQe1bg  0.000  0.584  0.416    0.9896   \n",
       "20143  Ey01QhCbC10mULHNqXGmUQ  0.039  0.781  0.180    0.9855   \n",
       "20144  VcTXln9z_mh8Jo43oRyU2w  0.026  0.833  0.140    0.9828   \n",
       "\n",
       "                  business_id                             name  \\\n",
       "0      qHOVeIzwDB7YiGiEkGy-LQ                             IHOP   \n",
       "1      Pftp2bkQD91tiUnnPD0FYA     Olympia Ethiopian Restaurant   \n",
       "2      jEvoDXtF3xMJsiPPbqGSmw           Tres Carnales Taqueria   \n",
       "3      F-HzRgpiPQZiCFeZVDd2MQ                        Noodle 42   \n",
       "4      yLIn3po-fKb0T3UIoJdiyQ       Famoso Neapolitan Pizzeria   \n",
       "...                       ...                              ...   \n",
       "20140  a4o7LF0Aeo6a7t379Kcjgw           Eddie's Donair & Pizza   \n",
       "20141  YNcVAMg2u10Bad8qiFE-tw  Teriyaki Corner Japanese Bistro   \n",
       "20142  ZTcCAGRxxXAf_K6mgFoW0g                     Dogwood Cafe   \n",
       "20143  HYiLl8OWiiUSVJpOQyXVsA                            Biera   \n",
       "20144  mfy9mpgQtsWW45jFuwsPFQ                     Won Jung Gak   \n",
       "\n",
       "                       address      city state  ...  \\\n",
       "0               10803 170th ST  Edmonton    AB  ...   \n",
       "1             15608 103 Avenue  Edmonton    AB  ...   \n",
       "2                10119 100A St  Edmonton    AB  ...   \n",
       "3           13847 42 Street NW  Edmonton    AB  ...   \n",
       "4       11750 Jasper Avenue NW  Edmonton    AB  ...   \n",
       "...                        ...       ...   ...  ...   \n",
       "20140       16757 91 Street NW  Edmonton    AB  ...   \n",
       "20141        1064-91 Street SW  Edmonton    AB  ...   \n",
       "20142  12130 River Valley Road  Edmonton    AB  ...   \n",
       "20143       9570 - 76th Avenue  Edmonton    AB  ...   \n",
       "20144        9655 62 Avenue NW  Edmonton    AB  ...   \n",
       "\n",
       "                                              attributes  \\\n",
       "0      b'{\"RestaurantsAttire\": \"\\'casual\\'\", \"Restaur...   \n",
       "1      b'{\"RestaurantsPriceRange2\": \"2\", \"Restaurants...   \n",
       "2      b'{\"BikeParking\": \"False\", \"GoodForKids\": \"Tru...   \n",
       "3      b'{\"RestaurantsAttire\": \"u\\'casual\\'\", \"Restau...   \n",
       "4      b'{\"NoiseLevel\": \"u\\'average\\'\", \"GoodForKids\"...   \n",
       "...                                                  ...   \n",
       "20140  b'{\"NoiseLevel\": \"u\\'quiet\\'\", \"HasTV\": \"True\"...   \n",
       "20141  b'{\"BusinessParking\": \"{\\'garage\\': False, \\'s...   \n",
       "20142  b'{\"GoodForMeal\": \"{\\'dessert\\': False, \\'late...   \n",
       "20143  b'{\"GoodForDancing\": \"False\", \"RestaurantsGood...   \n",
       "20144  b'{\"HasTV\": \"True\", \"RestaurantsPriceRange2\": ...   \n",
       "\n",
       "                                              categories  \\\n",
       "0      Breakfast & Brunch, Restaurants, Burgers, Amer...   \n",
       "1      Buffets, Cafes, Food, Restaurants, Ethiopian, ...   \n",
       "2                                   Restaurants, Mexican   \n",
       "3                       Chinese, Restaurants, Vietnamese   \n",
       "4                            Italian, Restaurants, Pizza   \n",
       "...                                                  ...   \n",
       "20140  Pizza, French, Chicken Wings, Donairs, Food, R...   \n",
       "20141                              Japanese, Restaurants   \n",
       "20142       Gastropubs, Cafes, Scandinavian, Restaurants   \n",
       "20143  Nightlife, Food, Gastropubs, Bars, Restaurants...   \n",
       "20144                 Korean, Restaurants, Chinese, Food   \n",
       "\n",
       "                                                   hours  \\\n",
       "0      b'{\"Monday\": \"7:0-18:30\", \"Tuesday\": \"7:30-15:...   \n",
       "1      b'{\"Monday\": \"11:0-19:0\", \"Tuesday\": \"11:0-19:...   \n",
       "2      b'{\"Monday\": \"12:0-21:0\", \"Tuesday\": \"12:0-21:...   \n",
       "3      b'{\"Monday\": \"16:0-21:0\", \"Tuesday\": \"16:0-21:...   \n",
       "4      b'{\"Monday\": \"12:0-21:0\", \"Tuesday\": \"12:0-21:...   \n",
       "...                                                  ...   \n",
       "20140  b'{\"Monday\": \"11:0-22:0\", \"Tuesday\": \"11:0-22:...   \n",
       "20141  b'{\"Monday\": \"11:30-21:0\", \"Tuesday\": \"11:30-2...   \n",
       "20142  b'{\"Thursday\": \"16:0-21:0\", \"Friday\": \"16:0-21...   \n",
       "20143  b'{\"Monday\": \"0:0-0:0\", \"Tuesday\": \"15:0-22:0\"...   \n",
       "20144  b'{\"Monday\": \"11:45-21:0\", \"Wednesday\": \"11:45...   \n",
       "\n",
       "                      user_id  stars_y  useful funny cool  \\\n",
       "0      wFudYB4sjr5yj4R2-lyFyQ        2       1     0    0   \n",
       "1      iEhpkdXhqA6ozUBwKYPPPA        3       4     0    0   \n",
       "2      ZatiTUEcujWxDTXqIIyBKQ        2       5     0    1   \n",
       "3      a5ESkMyWIhwPszOo8H66vQ        1       0     0    0   \n",
       "4      VjA1teP4BA2y9ZNzfihr0w        4       4     2    3   \n",
       "...                       ...      ...     ...   ...  ...   \n",
       "20140  gYODgbiRz2mBfLi1VG02UA        2       4     1    0   \n",
       "20141  cyFN4LyugoFq0XGGLFPb3A        3       1     0    0   \n",
       "20142  I1MHrxdr98VXT-Dj-vEXLQ        5       2     0    0   \n",
       "20143  poqTbV4MBIV2PT3OP02SHQ        2       0     0    0   \n",
       "20144  n59W9qVHr7kKkMM0ZCspWg        4       1     0    0   \n",
       "\n",
       "                                                    text                 date  \n",
       "0      Really not impressed.  Since this location jus...  2016-09-07 18:55:29  \n",
       "1      Nice little place! Glad they got some better s...  2015-10-25 06:01:10  \n",
       "2      This was my first visit to Tres Carnales. I wo...  2019-06-21 21:03:39  \n",
       "3      Had #63 (a combo plate). Very greasy, one item...  2011-04-13 20:00:15  \n",
       "4      We were looking for good spaghetti and meatbal...  2017-08-19 04:19:16  \n",
       "...                                                  ...                  ...  \n",
       "20140  Stopped into this little diner the other day.\\...  2012-01-22 20:35:27  \n",
       "20141  We went here for the first time the other nigh...  2014-03-21 18:45:20  \n",
       "20142  One of my favourite places to have brunch. sta...  2017-10-12 04:33:15  \n",
       "20143  This has been my one of my favourite restauran...  2019-08-26 02:45:09  \n",
       "20144  I've been looking for some cheap and plentiful...  2013-08-03 23:22:56  \n",
       "\n",
       "[20145 rows x 26 columns]"
      ]
     },
     "execution_count": 3,
     "metadata": {},
     "output_type": "execute_result"
    }
   ],
   "source": [
    "vader_test"
   ]
  },
  {
   "cell_type": "markdown",
   "metadata": {
    "pycharm": {
     "name": "#%% md\n"
    }
   },
   "source": [
    "# Plotting sentiment with star rating"
   ]
  },
  {
   "cell_type": "code",
   "execution_count": 118,
   "metadata": {
    "pycharm": {
     "name": "#%%\n"
    }
   },
   "outputs": [],
   "source": [
    "def plotter(df, output,  compound=True):\n",
    "    #It's plotting time. seaborn style.\n",
    "\n",
    "    if compound==True:\n",
    "        fig , axes = plt.subplots(1,4,figsize = (36,12))\n",
    "    else:\n",
    "        fig , axes = plt.subplots(1,3,figsize = (36,12))\n",
    "    \n",
    "    sns.barplot(data=df, x='stars_y', y= 'pos', ax=axes[0])\n",
    "    sns.barplot(data=df, x='stars_y', y= 'neg', ax=axes[1])\n",
    "    sns.barplot(data=df, x='stars_y', y= 'neu', ax=axes[2])      \n",
    "\n",
    "    axes[0].set(xlabel='Review Given', ylabel='Positive Classification' )\n",
    "    axes[1].set(xlabel='Review Given', ylabel='Negative Classification')\n",
    "    axes[2].set(xlabel='Review Given', ylabel='Neutral Classification')\n",
    "\n",
    "\n",
    "    axes[0].set_title('Positive Reviews in relation to Stars')\n",
    "    axes[1].set_title('Negative Reviews in relation to Stars')\n",
    "    axes[2].set_title('Neutral Reviews in relation to Stars')\n",
    "    \n",
    "    if compound==True:\n",
    "        sns.barplot(data=df, x='stars_y', y= 'compound', ax=axes[3])\n",
    "        axes[3].set_title('Compound Scores in relation to Stars')\n",
    "    #plt.show()\n",
    "    \n",
    "    \n",
    "    plt.savefig(output)\n",
    "\n",
    "#plotter function for models"
   ]
  },
  {
   "cell_type": "code",
   "execution_count": 119,
   "metadata": {
    "pycharm": {
     "name": "#%%\n"
    }
   },
   "outputs": [
    {
     "data": {
      "image/png": "[encoded data removed]",
      "text/plain": [
       "<Figure size 2592x864 with 3 Axes>"
      ]
     },
     "metadata": {},
     "output_type": "display_data"
    }
   ],
   "source": [
    "try:\n",
    "    plotter(roberta, \"visuals/roberta.svg\", compound=False)\n",
    "except:\n",
    "    print('exception occured')"
   ]
  },
  {
   "cell_type": "code",
   "execution_count": 78,
   "metadata": {
    "pycharm": {
     "name": "#%%\n"
    }
   },
   "outputs": [
    {
     "data": {
      "image/png": "[encoded data removed]",
      "text/plain": [
       "<Figure size 1728x576 with 4 Axes>"
      ]
     },
     "metadata": {
      "needs_background": "light"
     },
     "output_type": "display_data"
    }
   ],
   "source": [
    "plotter(vader_train,\"visuals/vader_train.svg\", compound=True)"
   ]
  },
  {
   "cell_type": "code",
   "execution_count": 79,
   "metadata": {
    "pycharm": {
     "name": "#%%\n"
    }
   },
   "outputs": [
    {
     "data": {
      "image/png": "[encoded data removed]",
      "text/plain": [
       "<Figure size 1728x576 with 4 Axes>"
      ]
     },
     "metadata": {
      "needs_background": "light"
     },
     "output_type": "display_data"
    }
   ],
   "source": [
    "plotter(vader_test,\"visuals/vader_test.svg\", compound=True)"
   ]
  },
  {
   "cell_type": "markdown",
   "metadata": {
    "pycharm": {
     "name": "#%% md\n"
    }
   },
   "source": [
    "# Computing Optimal Compound Score Threshholds"
   ]
  },
  {
   "cell_type": "code",
   "execution_count": 8,
   "metadata": {
    "pycharm": {
     "name": "#%%\n"
    }
   },
   "outputs": [],
   "source": [
    "# Assigns labels based on star ratings as a baseline\n",
    "def assign_rating(df):\n",
    "    if df['stars_y'] == 3:\n",
    "        return \"neutral\"\n",
    "    elif df['stars_y'] > 3:\n",
    "        return \"positive\"\n",
    "    else:\n",
    "        return \"negative\"\n",
    "\n",
    "vader_train['label'] = vader_train.apply(assign_rating, axis=1)\n",
    "vader_test['label'] = vader_test.apply(assign_rating, axis=1)\n",
    "roberta['label'] = roberta.apply(assign_rating, axis=1)"
   ]
  },
  {
   "cell_type": "code",
   "execution_count": 9,
   "metadata": {
    "pycharm": {
     "name": "#%%\n"
    }
   },
   "outputs": [],
   "source": [
    "threshholds = [(-0.03,0.03), (-0.04,0.04), (-0.05,0.05), (-0.06,0.06), (-0.07,0.07)]\n",
    "scores = {}"
   ]
  },
  {
   "cell_type": "code",
   "execution_count": 10,
   "metadata": {
    "pycharm": {
     "name": "#%%\n"
    }
   },
   "outputs": [],
   "source": [
    "def classify(df, threshholds):\n",
    "    negative = threshholds[0]\n",
    "    neutral = threshholds[1]\n",
    "    positive = threshholds[2]\n",
    "\n",
    "    if negative[0] <= df['compound'] <= negative[1]:\n",
    "        return 'negative'\n",
    "    elif neutral[0] < df['compound'] < neutral[1]:\n",
    "        return 'neutral'\n",
    "    elif positive[0] <= df['compound'] <= positive[1]:\n",
    "        return 'positive'\n",
    "    else:\n",
    "        return None\n"
   ]
  },
  {
   "cell_type": "code",
   "execution_count": 11,
   "metadata": {
    "pycharm": {
     "name": "#%%\n"
    }
   },
   "outputs": [],
   "source": [
    "for threshold in threshholds:\n",
    "    # creates the thresholds\n",
    "    negative = [-1, threshold[0]]\n",
    "    neutral = threshold\n",
    "    positive = [threshold[1], 1]\n",
    "\n",
    "    # puts it into classification thresholds\n",
    "    classification = [negative, neutral, positive]\n",
    "\n",
    "    vader_train['prediction'] = vader_train.apply(classify, threshholds=classification, axis=1)\n",
    "    scores[threshold] = (vader_train['prediction'] == vader_train['label']).sum()/vader_train.shape[0]\n",
    "\n"
   ]
  },
  {
   "cell_type": "code",
   "execution_count": 12,
   "metadata": {
    "pycharm": {
     "name": "#%%\n"
    }
   },
   "outputs": [
    {
     "name": "stdout",
     "output_type": "stream",
     "text": [
      "{(-0.07, 0.07): 0.7324851605216688,\n",
      " (-0.06, 0.06): 0.7325277109971704,\n",
      " (-0.05, 0.05): 0.7326766376614259,\n",
      " (-0.04, 0.04): 0.7327830138501797,\n",
      " (-0.03, 0.03): 0.732761738612429}\n"
     ]
    }
   ],
   "source": [
    "pprint(scores)\n",
    "optimal_boundary = [(-1, -0.04), (-0.04, 0.04), (0.04,1)]"
   ]
  },
  {
   "cell_type": "markdown",
   "metadata": {
    "pycharm": {
     "name": "#%% md\n"
    }
   },
   "source": [
    "\n",
    "Looking at the classification scores, we have the best predictive accuracy on the train set with a (-0.04, 0.04) threshold. We will apply this threshold to our analysis"
   ]
  },
  {
   "cell_type": "markdown",
   "metadata": {
    "pycharm": {
     "name": "#%% md\n"
    }
   },
   "source": [
    "# Metrics Evaluation"
   ]
  },
  {
   "cell_type": "code",
   "execution_count": 13,
   "metadata": {
    "pycharm": {
     "name": "#%%\n"
    }
   },
   "outputs": [],
   "source": [
    "vader_test['prediction'] = vader_test.apply(classify, threshholds=optimal_boundary, axis=1)"
   ]
  },
  {
   "cell_type": "code",
   "execution_count": 14,
   "metadata": {
    "pycharm": {
     "name": "#%%\n"
    }
   },
   "outputs": [
    {
     "data": {
      "text/plain": [
       "index\n",
       "33550     neutral\n",
       "24098    positive\n",
       "17778    negative\n",
       "5185     negative\n",
       "59505    positive\n",
       "Name: prediction, dtype: object"
      ]
     },
     "execution_count": 14,
     "metadata": {},
     "output_type": "execute_result"
    }
   ],
   "source": [
    "def classify_roberta(df):\n",
    "    index = np.argmax(df[['neg','neu','pos']])\n",
    "    if index == 0:\n",
    "        return 'negative'\n",
    "    elif index == 1:\n",
    "        return 'neutral'\n",
    "    elif index == 2:\n",
    "        return 'positive'\n",
    "    else:\n",
    "        return None\n",
    "roberta['prediction'] = roberta.apply(classify_roberta, axis=1)\n",
    "roberta['prediction'].head(5)"
   ]
  },
  {
   "cell_type": "code",
   "execution_count": 19,
   "metadata": {
    "pycharm": {
     "name": "#%%\n"
    }
   },
   "outputs": [
    {
     "name": "stdout",
     "output_type": "stream",
     "text": [
      "vader test accuracy score: 0.7356167783569124\n",
      "roberta test accuracy score: 0.8132539091586002\n"
     ]
    }
   ],
   "source": [
    "vader_test_score = (vader_test['prediction'] == vader_test['label']).sum()/vader_test.shape[0]\n",
    "roberta_test_score = (roberta['prediction'] == roberta['label']).sum()/roberta.shape[0]\n",
    "\n",
    "print('vader test accuracy score:', vader_test_score)\n",
    "print('roberta test accuracy score:', roberta_test_score)"
   ]
  },
  {
   "cell_type": "markdown",
   "metadata": {
    "pycharm": {
     "name": "#%% md\n"
    }
   },
   "source": [
    "The vader model has a correct classification rate of 73.56% which is very similar to the classification rate in the training set.\n",
    "\n",
    "The pretrained roberta model beats out the vader test accuracy by ~ 8 percentage points"
   ]
  },
  {
   "cell_type": "code",
   "execution_count": 23,
   "metadata": {
    "pycharm": {
     "name": "#%%\n"
    }
   },
   "outputs": [
    {
     "data": {
      "text/plain": [
       "array([[ 1746,   124,  2031],\n",
       "       [  271,    32,  2649],\n",
       "       [  190,    61, 13041]])"
      ]
     },
     "execution_count": 23,
     "metadata": {},
     "output_type": "execute_result"
    }
   ],
   "source": [
    "confusion_matrix(vader_test['label'], vader_test['prediction'], labels=['negative', 'neutral', 'positive'])"
   ]
  },
  {
   "cell_type": "markdown",
   "metadata": {
    "pycharm": {
     "name": "#%% md\n"
    }
   },
   "source": [
    "$C_{ij}$ is the observations in group i, predicted to be in group j"
   ]
  },
  {
   "cell_type": "markdown",
   "metadata": {
    "pycharm": {
     "name": "#%% md\n"
    }
   },
   "source": [
    "Vader classification has difficulties telling apart negative vs positive prediction for labels that are negative and has a tendency to classify neutral labels as positive.\n",
    "\n",
    "This model overall has a bias towards positive predictions"
   ]
  },
  {
   "cell_type": "code",
   "execution_count": 24,
   "metadata": {
    "pycharm": {
     "name": "#%%\n"
    }
   },
   "outputs": [
    {
     "data": {
      "text/plain": [
       "array([[ 3177,   389,   419],\n",
       "       [  608,   388,  2025],\n",
       "       [  123,   198, 12818]])"
      ]
     },
     "execution_count": 24,
     "metadata": {},
     "output_type": "execute_result"
    }
   ],
   "source": [
    "confusion_matrix(roberta['label'], roberta['prediction'], labels=['negative', 'neutral', 'positive'])"
   ]
  },
  {
   "cell_type": "markdown",
   "metadata": {
    "pycharm": {
     "name": "#%% md\n"
    }
   },
   "source": [
    "Roberta classification is better at distinguising between positive and negative labels. It does have difficulties with neutral labels, generally classifying it as positive"
   ]
  },
  {
   "cell_type": "markdown",
   "metadata": {
    "pycharm": {
     "name": "#%% md\n"
    }
   },
   "source": [
    "# Analysis of misclassified labels"
   ]
  },
  {
   "cell_type": "markdown",
   "metadata": {
    "pycharm": {
     "name": "#%% md\n"
    }
   },
   "source": []
  },
  {
   "cell_type": "code",
   "execution_count": 27,
   "metadata": {
    "pycharm": {
     "name": "#%%\n"
    }
   },
   "outputs": [],
   "source": [
    "vader_misclass = vader_test[vader_test['label'] != vader_test['prediction']]\n",
    "roberta_misclass = roberta[roberta['label'] != roberta['prediction']]"
   ]
  },
  {
   "cell_type": "code",
   "execution_count": 29,
   "metadata": {
    "pycharm": {
     "name": "#%%\n"
    }
   },
   "outputs": [
    {
     "data": {
      "text/plain": [
       "\"Nice little place! Glad they got some better signage. Otherwise, it's not that easy to spot, with it being a house and all.\\n\\nIt's small, and the menu is small, but the flavors speak volumes. I wasn't all that enthusiastic about the vegan buffet--I love my meat--but we went for it anyway and ordered a side dish of raw beef. Sorry, can't remember the name of it, and probably couldn't spell it anyway.\\n\\nI'm pleased and surprised by how much I enjoyed the buffet. Especially the potato stew and lentils! I ate LOTS of that! I think I would have liked the meat dish if it wasn't quite so spicy. I couldn't taste the beef. I'm not one who likes a lot of spice, so maybe that's just about personal preferences.\\n\\nThis place is a three for these reasons: The family serving us were friendly and sweet, but were so intent on educating us on 'Teff', their star ingredient, they'd forget drink orders. They were otherwise a little inattentive. We'd have to call them from the counter to get another beer or tea. Plus they kept the front door wide open, letting in the night's chill and summer's leftover bugs. I was cold, and something bit me. We kept having to wave away no-see-ums while we chatted.\\n\\nHaving said that, this is the place I'll be bringing my vegan sister to for her birthday. She'll love it!\""
      ]
     },
     "execution_count": 29,
     "metadata": {},
     "output_type": "execute_result"
    }
   ],
   "source": [
    "vader_misclass.iloc[0]['text']"
   ]
  },
  {
   "cell_type": "code",
   "execution_count": 35,
   "metadata": {
    "pycharm": {
     "name": "#%%\n"
    }
   },
   "outputs": [
    {
     "name": "stdout",
     "output_type": "stream",
     "text": [
      "star rating:  3 \n",
      "label:  neutral \n",
      " prediction: positive\n"
     ]
    }
   ],
   "source": [
    "print('star rating: ', vader_misclass.iloc[0]['stars_y'], '\\n'\n",
    "    \"label: \", vader_misclass.iloc[0]['label'],'\\n', \"prediction:\", vader_misclass.iloc[0]['prediction'])"
   ]
  },
  {
   "cell_type": "markdown",
   "metadata": {
    "pycharm": {
     "name": "#%% md\n"
    }
   },
   "source": [
    "Conceptually, this review does give both positive and negative sentiment, the misclassification here is reasonable"
   ]
  },
  {
   "cell_type": "code",
   "execution_count": 36,
   "metadata": {
    "pycharm": {
     "name": "#%%\n"
    }
   },
   "outputs": [
    {
     "data": {
      "text/plain": [
       "'If you are Claiming to be experts in  \"MEXICAN FOOD RESTAURANT\" please at least don\\'t sell dumb down version of Americanized Mexican Food. Remember that many Canadians have Vacationed in many part of Southern Mexico, both Atlantic coast side, and Pacific coastal areas.  I personally love the seafood from the Pacific areas (It differs in many ways from the common supply of Atlantic Tilapias and other cheap fishes full of Contaminated Mercury in The gulf of Mexico. If are showing people that your place will be a great experience, don\\'t just fill up with trinkets. You should at least mimic the \"REAL MEXICAN RECIPES\" .\\nYou probably know \"CARNALES\" means brothers? How can a Canadian, an Asian and a Mexican be blood brothers?  People that drink while eating in your restaurant, are not in their right minds to realize that they are being duped with water down, under cooked, and way smaller portions to consider this place a MEXICAN GASTRONOMICAL EXPERIENCE. You should focus on selling beer at best. I felt obligated last summer to leave a generous tip 33% to the waitress, think, if the owner is like this with the promotion of his food, I can only Imagine what the working conditions must be like for the employees who have to face at the tables.\\nKesh Mani'"
      ]
     },
     "execution_count": 36,
     "metadata": {},
     "output_type": "execute_result"
    }
   ],
   "source": [
    "roberta_misclass.iloc[0]['text']"
   ]
  },
  {
   "cell_type": "code",
   "execution_count": 38,
   "metadata": {
    "pycharm": {
     "name": "#%%\n"
    }
   },
   "outputs": [
    {
     "name": "stdout",
     "output_type": "stream",
     "text": [
      "star rating:  1 \n",
      " label:  negative \n",
      " prediction: neutral\n"
     ]
    }
   ],
   "source": [
    "print('star rating: ', roberta_misclass.iloc[0]['stars_y'], '\\n',\n",
    "      \"label: \", roberta_misclass.iloc[0]['label'],'\\n', \"prediction:\", roberta_misclass.iloc[0]['prediction'])"
   ]
  },
  {
   "cell_type": "markdown",
   "metadata": {},
   "source": [
    "# WORD DENSITY ANALYSIS"
   ]
  },
  {
   "cell_type": "markdown",
   "metadata": {},
   "source": [
    "We can also check most frequent words said by customers over the restaurant dataset."
   ]
  },
  {
   "cell_type": "code",
   "execution_count": 81,
   "metadata": {},
   "outputs": [],
   "source": [
    "from nltk.corpus import stopwords\n",
    "stop=set(stopwords.words('english'))"
   ]
  },
  {
   "cell_type": "code",
   "execution_count": 82,
   "metadata": {},
   "outputs": [
    {
     "data": {
      "text/plain": [
       "index\n",
       "33550    If you are Claiming to be experts in  \"MEXICAN...\n",
       "24098    Had a lovely meal out on the patio. I had the ...\n",
       "17778    I think I had the fish poboy when I went. The ...\n",
       "5185     You'd think with the other reviews that this p...\n",
       "59505    What a great new addition of eateries to 104th...\n",
       "                               ...                        \n",
       "10282    I'm a very picky eater.  2nd visit here and ye...\n",
       "22939    I'm a bit shocked that no one has reviewed El ...\n",
       "39151    Maybe good for Lunch and Supper but Breakfast ...\n",
       "10723    I hate leaving bad reviews, but I hope that wi...\n",
       "4601     I was not impressed with this place. I ordered...\n",
       "Name: text, Length: 20145, dtype: object"
      ]
     },
     "execution_count": 82,
     "metadata": {},
     "output_type": "execute_result"
    }
   ],
   "source": [
    "roberta['text']"
   ]
  },
  {
   "cell_type": "code",
   "execution_count": 83,
   "metadata": {},
   "outputs": [],
   "source": [
    "corpus=[]\n",
    "roberta1= roberta['text'].str.lower().str.split()\n",
    "roberta1=roberta1.values.tolist()\n",
    "corpus=[word for i in roberta1 for word in i]\n",
    "\n",
    "from collections import defaultdict\n",
    "dic=defaultdict(int)\n",
    "for word in corpus:\n",
    "    if word in stop:\n",
    "        dic[word]+=1"
   ]
  },
  {
   "cell_type": "code",
   "execution_count": 98,
   "metadata": {},
   "outputs": [],
   "source": [
    "from collections import Counter\n",
    "\n",
    "counter=Counter(corpus)\n",
    "most=counter.most_common()\n",
    "\n",
    "x, y= [], []\n",
    "for word,count in most[:50]:\n",
    "    if (word not in stop):\n",
    "        x.append(word)\n",
    "        y.append(count)"
   ]
  },
  {
   "cell_type": "code",
   "execution_count": 111,
   "metadata": {
    "scrolled": true
   },
   "outputs": [
    {
     "data": {
      "image/png": "[encoded data removed]",
      "text/plain": [
       "<Figure size 576x360 with 1 Axes>"
      ]
     },
     "metadata": {},
     "output_type": "display_data"
    }
   ],
   "source": [
    "sns.set(rc={'figure.figsize':(8,5)})\n",
    "sns.barplot(x=y,y=x).set(title='Word Density Analysis for Restaurant Reviews in Edmonton')\n",
    "plt.savefig(\"visuals/WDA.svg\")"
   ]
  },
  {
   "cell_type": "markdown",
   "metadata": {},
   "source": [
    "As we can see here, the past customers also talks about the place(possibly the location of each restaurant). We can do an N-gram analysis to see contiguos sequence of words along the dataset"
   ]
  },
  {
   "cell_type": "markdown",
   "metadata": {},
   "source": [
    "## N-GRAM Analysis"
   ]
  },
  {
   "cell_type": "code",
   "execution_count": 114,
   "metadata": {},
   "outputs": [],
   "source": [
    "def get_top_ngram(corpus, n=None):\n",
    "    vec = CountVectorizer(ngram_range=(n, n)).fit(corpus)\n",
    "    bag_of_words = vec.transform(corpus)\n",
    "    sum_words = bag_of_words.sum(axis=0)\n",
    "    words_freq = [(word, sum_words[0, idx])\n",
    "                  for word, idx in vec.vocabulary_.items()]\n",
    "    words_freq =sorted(words_freq, key = lambda x: x[1], reverse=True)\n",
    "    return words_freq[:10]"
   ]
  },
  {
   "cell_type": "code",
   "execution_count": 115,
   "metadata": {},
   "outputs": [],
   "source": [
    "top_tri_grams=get_top_ngram(roberta['text'],n=3)\n",
    "x,y=map(list,zip(*top_tri_grams))"
   ]
  },
  {
   "cell_type": "code",
   "execution_count": 117,
   "metadata": {},
   "outputs": [
    {
     "data": {
      "image/png": "[encoded data removed]",
      "text/plain": [
       "<Figure size 576x360 with 1 Axes>"
      ]
     },
     "metadata": {},
     "output_type": "display_data"
    }
   ],
   "source": [
    "sns.set(rc={'figure.figsize':(8,5)})\n",
    "sns.barplot(x=y,y=x).set(title='N-Gram Analysis for Restaurant Reviews in Edmonton')\n",
    "plt.savefig(\"visuals/Ngram_Analysis.svg\")"
   ]
  },
  {
   "cell_type": "markdown",
   "metadata": {},
   "source": [
    "we can see in the N-gram analysis that people take consideration the place and the service on top of food quality."
   ]
  }
 ],
 "metadata": {
  "kernelspec": {
   "display_name": "Python 3 (ipykernel)",
   "language": "python",
   "name": "python3"
  },
  "language_info": {
   "codemirror_mode": {
    "name": "ipython",
    "version": 3
   },
   "file_extension": ".py",
   "mimetype": "text/x-python",
   "name": "python",
   "nbconvert_exporter": "python",
   "pygments_lexer": "ipython3",
   "version": "3.9.7"
  }
 },
 "nbformat": 4,
 "nbformat_minor": 1
}
