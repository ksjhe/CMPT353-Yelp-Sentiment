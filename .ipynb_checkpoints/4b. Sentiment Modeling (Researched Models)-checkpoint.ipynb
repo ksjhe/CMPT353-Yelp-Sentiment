{
 "cells": [
  {
   "cell_type": "markdown",
   "id": "78f60b02",
   "metadata": {},
   "source": [
    "# SENTIMENT MODELING PART 2 (VADER,ROBERTA)\n",
    "\n",
    "The notebook 4a. Classifies using Native Bayes, In this notebook, we are handling the data and feeding it through two NLP techniques: \n",
    "1. Vader Scoring\n",
    "2. Roberta Pretrained NLP models"
   ]
  },
  {
   "cell_type": "code",
   "execution_count": 4,
   "id": "37f33db7",
   "metadata": {},
   "outputs": [],
   "source": [
    "import pandas as pd\n",
    "import numpy as np\n",
    "import matplotlib.pyplot as plt\n",
    "import seaborn as sns\n",
    "\n",
    "#adding ntlk for NLP training\n",
    "import nltk"
   ]
  },
  {
   "cell_type": "code",
   "execution_count": 144,
   "id": "b06e9d69",
   "metadata": {},
   "outputs": [
    {
     "data": {
      "text/html": [
       "<div>\n",
       "<style scoped>\n",
       "    .dataframe tbody tr th:only-of-type {\n",
       "        vertical-align: middle;\n",
       "    }\n",
       "\n",
       "    .dataframe tbody tr th {\n",
       "        vertical-align: top;\n",
       "    }\n",
       "\n",
       "    .dataframe thead th {\n",
       "        text-align: right;\n",
       "    }\n",
       "</style>\n",
       "<table border=\"1\" class=\"dataframe\">\n",
       "  <thead>\n",
       "    <tr style=\"text-align: right;\">\n",
       "      <th></th>\n",
       "      <th>business_id</th>\n",
       "      <th>name</th>\n",
       "      <th>address</th>\n",
       "      <th>city</th>\n",
       "      <th>state</th>\n",
       "      <th>postal_code</th>\n",
       "      <th>latitude</th>\n",
       "      <th>longitude</th>\n",
       "      <th>stars_x</th>\n",
       "      <th>review_count</th>\n",
       "      <th>...</th>\n",
       "      <th>categories</th>\n",
       "      <th>hours</th>\n",
       "      <th>review_id</th>\n",
       "      <th>user_id</th>\n",
       "      <th>stars_y</th>\n",
       "      <th>useful</th>\n",
       "      <th>funny</th>\n",
       "      <th>cool</th>\n",
       "      <th>text</th>\n",
       "      <th>date</th>\n",
       "    </tr>\n",
       "  </thead>\n",
       "  <tbody>\n",
       "    <tr>\n",
       "      <th>0</th>\n",
       "      <td>WKMJwqnfZKsAae75RMP6jA</td>\n",
       "      <td>Roast Coffeehouse and Wine Bar</td>\n",
       "      <td>10359 104 Street NW</td>\n",
       "      <td>Edmonton</td>\n",
       "      <td>AB</td>\n",
       "      <td>T5J 1B9</td>\n",
       "      <td>53.546045</td>\n",
       "      <td>-113.499169</td>\n",
       "      <td>4.0</td>\n",
       "      <td>40</td>\n",
       "      <td>...</td>\n",
       "      <td>Coffee &amp; Tea, Food, Cafes, Bars, Wine Bars, Re...</td>\n",
       "      <td>{'Monday': '8:0-18:0', 'Tuesday': '8:0-18:0', ...</td>\n",
       "      <td>uwPhE21CZLlp1kkSMPvvYw</td>\n",
       "      <td>5OnQqP3q2_9auNdDKpLdsw</td>\n",
       "      <td>3</td>\n",
       "      <td>0</td>\n",
       "      <td>0</td>\n",
       "      <td>0</td>\n",
       "      <td>So much to like about this place--the beautifu...</td>\n",
       "      <td>2012-11-06 23:35:15</td>\n",
       "    </tr>\n",
       "    <tr>\n",
       "      <th>1</th>\n",
       "      <td>WKMJwqnfZKsAae75RMP6jA</td>\n",
       "      <td>Roast Coffeehouse and Wine Bar</td>\n",
       "      <td>10359 104 Street NW</td>\n",
       "      <td>Edmonton</td>\n",
       "      <td>AB</td>\n",
       "      <td>T5J 1B9</td>\n",
       "      <td>53.546045</td>\n",
       "      <td>-113.499169</td>\n",
       "      <td>4.0</td>\n",
       "      <td>40</td>\n",
       "      <td>...</td>\n",
       "      <td>Coffee &amp; Tea, Food, Cafes, Bars, Wine Bars, Re...</td>\n",
       "      <td>{'Monday': '8:0-18:0', 'Tuesday': '8:0-18:0', ...</td>\n",
       "      <td>bAy8ROEYO_3aTBhW5LoR4g</td>\n",
       "      <td>7qFH1RkPivVRcwxLwhyixg</td>\n",
       "      <td>4</td>\n",
       "      <td>2</td>\n",
       "      <td>0</td>\n",
       "      <td>1</td>\n",
       "      <td>I'm not a coffee connoisseur so I'm not review...</td>\n",
       "      <td>2013-05-28 23:16:30</td>\n",
       "    </tr>\n",
       "    <tr>\n",
       "      <th>2</th>\n",
       "      <td>WKMJwqnfZKsAae75RMP6jA</td>\n",
       "      <td>Roast Coffeehouse and Wine Bar</td>\n",
       "      <td>10359 104 Street NW</td>\n",
       "      <td>Edmonton</td>\n",
       "      <td>AB</td>\n",
       "      <td>T5J 1B9</td>\n",
       "      <td>53.546045</td>\n",
       "      <td>-113.499169</td>\n",
       "      <td>4.0</td>\n",
       "      <td>40</td>\n",
       "      <td>...</td>\n",
       "      <td>Coffee &amp; Tea, Food, Cafes, Bars, Wine Bars, Re...</td>\n",
       "      <td>{'Monday': '8:0-18:0', 'Tuesday': '8:0-18:0', ...</td>\n",
       "      <td>zPDHE7TrXs7EJT06qD8yTA</td>\n",
       "      <td>FLeyjgc05C2V6QI9nVQ48Q</td>\n",
       "      <td>4</td>\n",
       "      <td>0</td>\n",
       "      <td>0</td>\n",
       "      <td>0</td>\n",
       "      <td>I really loved it here, makes me wish I lived ...</td>\n",
       "      <td>2013-09-04 19:49:33</td>\n",
       "    </tr>\n",
       "    <tr>\n",
       "      <th>3</th>\n",
       "      <td>WKMJwqnfZKsAae75RMP6jA</td>\n",
       "      <td>Roast Coffeehouse and Wine Bar</td>\n",
       "      <td>10359 104 Street NW</td>\n",
       "      <td>Edmonton</td>\n",
       "      <td>AB</td>\n",
       "      <td>T5J 1B9</td>\n",
       "      <td>53.546045</td>\n",
       "      <td>-113.499169</td>\n",
       "      <td>4.0</td>\n",
       "      <td>40</td>\n",
       "      <td>...</td>\n",
       "      <td>Coffee &amp; Tea, Food, Cafes, Bars, Wine Bars, Re...</td>\n",
       "      <td>{'Monday': '8:0-18:0', 'Tuesday': '8:0-18:0', ...</td>\n",
       "      <td>84niL3fvJMlFBE2hd2qOVQ</td>\n",
       "      <td>R-c5M0iJkMxxTxIqTQQZ8w</td>\n",
       "      <td>2</td>\n",
       "      <td>1</td>\n",
       "      <td>0</td>\n",
       "      <td>0</td>\n",
       "      <td>The kids who work at Roast are friendly.  They...</td>\n",
       "      <td>2013-07-14 21:38:06</td>\n",
       "    </tr>\n",
       "    <tr>\n",
       "      <th>4</th>\n",
       "      <td>WKMJwqnfZKsAae75RMP6jA</td>\n",
       "      <td>Roast Coffeehouse and Wine Bar</td>\n",
       "      <td>10359 104 Street NW</td>\n",
       "      <td>Edmonton</td>\n",
       "      <td>AB</td>\n",
       "      <td>T5J 1B9</td>\n",
       "      <td>53.546045</td>\n",
       "      <td>-113.499169</td>\n",
       "      <td>4.0</td>\n",
       "      <td>40</td>\n",
       "      <td>...</td>\n",
       "      <td>Coffee &amp; Tea, Food, Cafes, Bars, Wine Bars, Re...</td>\n",
       "      <td>{'Monday': '8:0-18:0', 'Tuesday': '8:0-18:0', ...</td>\n",
       "      <td>pLnTjS90gUlsq2tAjI9prA</td>\n",
       "      <td>G3h8pIclwUbuu3itJqF7ug</td>\n",
       "      <td>4</td>\n",
       "      <td>7</td>\n",
       "      <td>0</td>\n",
       "      <td>4</td>\n",
       "      <td>With a Toast to Roast, I say welcome to the E-...</td>\n",
       "      <td>2012-09-11 23:54:24</td>\n",
       "    </tr>\n",
       "  </tbody>\n",
       "</table>\n",
       "<p>5 rows × 22 columns</p>\n",
       "</div>"
      ],
      "text/plain": [
       "              business_id                            name  \\\n",
       "0  WKMJwqnfZKsAae75RMP6jA  Roast Coffeehouse and Wine Bar   \n",
       "1  WKMJwqnfZKsAae75RMP6jA  Roast Coffeehouse and Wine Bar   \n",
       "2  WKMJwqnfZKsAae75RMP6jA  Roast Coffeehouse and Wine Bar   \n",
       "3  WKMJwqnfZKsAae75RMP6jA  Roast Coffeehouse and Wine Bar   \n",
       "4  WKMJwqnfZKsAae75RMP6jA  Roast Coffeehouse and Wine Bar   \n",
       "\n",
       "               address      city state postal_code   latitude   longitude  \\\n",
       "0  10359 104 Street NW  Edmonton    AB     T5J 1B9  53.546045 -113.499169   \n",
       "1  10359 104 Street NW  Edmonton    AB     T5J 1B9  53.546045 -113.499169   \n",
       "2  10359 104 Street NW  Edmonton    AB     T5J 1B9  53.546045 -113.499169   \n",
       "3  10359 104 Street NW  Edmonton    AB     T5J 1B9  53.546045 -113.499169   \n",
       "4  10359 104 Street NW  Edmonton    AB     T5J 1B9  53.546045 -113.499169   \n",
       "\n",
       "   stars_x  review_count  ...  \\\n",
       "0      4.0            40  ...   \n",
       "1      4.0            40  ...   \n",
       "2      4.0            40  ...   \n",
       "3      4.0            40  ...   \n",
       "4      4.0            40  ...   \n",
       "\n",
       "                                          categories  \\\n",
       "0  Coffee & Tea, Food, Cafes, Bars, Wine Bars, Re...   \n",
       "1  Coffee & Tea, Food, Cafes, Bars, Wine Bars, Re...   \n",
       "2  Coffee & Tea, Food, Cafes, Bars, Wine Bars, Re...   \n",
       "3  Coffee & Tea, Food, Cafes, Bars, Wine Bars, Re...   \n",
       "4  Coffee & Tea, Food, Cafes, Bars, Wine Bars, Re...   \n",
       "\n",
       "                                               hours               review_id  \\\n",
       "0  {'Monday': '8:0-18:0', 'Tuesday': '8:0-18:0', ...  uwPhE21CZLlp1kkSMPvvYw   \n",
       "1  {'Monday': '8:0-18:0', 'Tuesday': '8:0-18:0', ...  bAy8ROEYO_3aTBhW5LoR4g   \n",
       "2  {'Monday': '8:0-18:0', 'Tuesday': '8:0-18:0', ...  zPDHE7TrXs7EJT06qD8yTA   \n",
       "3  {'Monday': '8:0-18:0', 'Tuesday': '8:0-18:0', ...  84niL3fvJMlFBE2hd2qOVQ   \n",
       "4  {'Monday': '8:0-18:0', 'Tuesday': '8:0-18:0', ...  pLnTjS90gUlsq2tAjI9prA   \n",
       "\n",
       "                  user_id stars_y useful  funny  cool  \\\n",
       "0  5OnQqP3q2_9auNdDKpLdsw       3      0      0     0   \n",
       "1  7qFH1RkPivVRcwxLwhyixg       4      2      0     1   \n",
       "2  FLeyjgc05C2V6QI9nVQ48Q       4      0      0     0   \n",
       "3  R-c5M0iJkMxxTxIqTQQZ8w       2      1      0     0   \n",
       "4  G3h8pIclwUbuu3itJqF7ug       4      7      0     4   \n",
       "\n",
       "                                                text                date  \n",
       "0  So much to like about this place--the beautifu... 2012-11-06 23:35:15  \n",
       "1  I'm not a coffee connoisseur so I'm not review... 2013-05-28 23:16:30  \n",
       "2  I really loved it here, makes me wish I lived ... 2013-09-04 19:49:33  \n",
       "3  The kids who work at Roast are friendly.  They... 2013-07-14 21:38:06  \n",
       "4  With a Toast to Roast, I say welcome to the E-... 2012-09-11 23:54:24  \n",
       "\n",
       "[5 rows x 22 columns]"
      ]
     },
     "execution_count": 144,
     "metadata": {},
     "output_type": "execute_result"
    }
   ],
   "source": [
    "#we look at the data to make sure that all information is there.\n",
    "df = pd.read_parquet('data/edmonton_cleaned.parquet', engine='auto')\n",
    "df.head(5)"
   ]
  },
  {
   "cell_type": "code",
   "execution_count": 72,
   "id": "49c122f0",
   "metadata": {},
   "outputs": [],
   "source": [
    "def plotter(df):\n",
    "    #It's plotting time. seaborn style.\n",
    "\n",
    "    fig , axes = plt.subplots(1,4,figsize = (24,8))\n",
    "    sns.barplot(data=df, x='stars_y', y= 'pos', ax=axes[0])\n",
    "    sns.barplot(data=df, x='stars_y', y= 'neg', ax=axes[1])\n",
    "    sns.barplot(data=df, x='stars_y', y= 'neu', ax=axes[2])\n",
    "    sns.barplot(data=df, x='stars_y', y= 'compound', ax=axes[3])\n",
    "\n",
    "    axes[0].set(xlabel='Review Given', ylabel='Positive Classification' )\n",
    "    axes[1].set(xlabel='Review Given', ylabel='Negative Classification')\n",
    "    axes[2].set(xlabel='Review Given', ylabel='Neutral Classification')\n",
    "\n",
    "\n",
    "    axes[0].set_title('Positive Reviews in relation to Stars')\n",
    "    axes[1].set_title('Negative Reviews in relation to Stars')\n",
    "    axes[2].set_title('Neutral Reviews in relation to Stars')\n",
    "    plt.show()\n",
    "    \n",
    "#plotter function for models"
   ]
  },
  {
   "cell_type": "markdown",
   "id": "cc0b6e34",
   "metadata": {},
   "source": [
    "## 1. VADER model\n",
    "\n",
    "VADER (Valence Aware Dictionary for sEntiment Reasoning) is a model used for sentiment analysis that is sensitive to both polarity(positive/negative) and intensity (strength) of emotions.\n",
    "\n",
    "citation:\n",
    "\n",
    "C. Hutto and E. Gilbert, “VADER: A Parsimonious Rule-Based Model for Sentiment Analysis of Social Media Text”, ICWSM, vol. 8, no. 1, pp. 216-225, May 2014.\n",
    "\n",
    "this kind of uses a bag of words approach:\n",
    "1. We remove stop words.\n",
    "2. We score each tokens(words) and combine the total score.\n",
    "\n",
    "<b>\n",
    "<p style=\"color:maroon\"> note with this technique, the relationship between words are removed, taking a very important part of the human speech. </p>\n",
    "</b>"
   ]
  },
  {
   "cell_type": "code",
   "execution_count": 6,
   "id": "b2bb394c",
   "metadata": {},
   "outputs": [],
   "source": [
    "from nltk.sentiment import SentimentIntensityAnalyzer\n",
    "from tqdm.notebook import tqdm\n",
    "\n",
    "sia = SentimentIntensityAnalyzer()\n",
    "#the analyzer object. we can run it on text and see analyzer."
   ]
  },
  {
   "cell_type": "code",
   "execution_count": 7,
   "id": "3a0c3ffd",
   "metadata": {},
   "outputs": [
    {
     "data": {
      "text/plain": [
       "{'neg': 0.0, 'neu': 0.358, 'pos': 0.642, 'compound': 0.8745}"
      ]
     },
     "execution_count": 7,
     "metadata": {},
     "output_type": "execute_result"
    }
   ],
   "source": [
    "examplepos = \"I love this bar! Best place ever yum!\"\n",
    "\n",
    "sia.polarity_scores(examplepos)\n",
    "\n",
    "#compound score give the compounding value of the sentence. \n",
    "#range is from -1 to 1. -1 is very negative, 1 is very positive."
   ]
  },
  {
   "cell_type": "code",
   "execution_count": 8,
   "id": "27d84d65",
   "metadata": {},
   "outputs": [
    {
     "data": {
      "text/plain": [
       "{'neg': 0.679, 'neu': 0.321, 'pos': 0.0, 'compound': -0.9136}"
      ]
     },
     "execution_count": 8,
     "metadata": {},
     "output_type": "execute_result"
    }
   ],
   "source": [
    "exampleneg = \"disgusting, I would never eat here again. Gross gross gross yuck.\"\n",
    "sia.polarity_scores(exampleneg)"
   ]
  },
  {
   "cell_type": "code",
   "execution_count": 9,
   "id": "505b6dad",
   "metadata": {},
   "outputs": [
    {
     "name": "stdout",
     "output_type": "stream",
     "text": [
      "So much to like about this place--the beautiful Mercer Building location, the spaciousness, the lovely, friendly baristas. But there are a couple of important cons for me. Biggest being, the music is constant and too loud, ruining everything you go to a coffee shop to do: read, work, reflect, or enjoy a good conversation. When I asked for it to be turned down, they told me they can't--it just plays at one level all the time, and the speakers  are everywhere so you can't get away from it. It sucks.\n",
      "\n",
      "Secondly, if you're a tea drinker, you're out of luck. They don't serve the tea in pots, but huge, sloppy individual filters--it makes your beverage totally ungainly, hard to drink and is really off putting.\n",
      "\n",
      "Pros: gluten free goodies and yummy Italian sodas. I'd love to spend more time here, but the music usually drives me out after 10 minutes.\n",
      "{'neg': 0.055, 'neu': 0.717, 'pos': 0.228, 'compound': 0.9862}\n"
     ]
    }
   ],
   "source": [
    "exampledf = df['text'][0]\n",
    "print(exampledf)\n",
    "print(sia.polarity_scores(exampledf))"
   ]
  },
  {
   "cell_type": "code",
   "execution_count": 10,
   "id": "9fee68ba",
   "metadata": {},
   "outputs": [
    {
     "name": "stdout",
     "output_type": "stream",
     "text": [
      "As several other reviewers have observed, this place looks very good. One wants to like it. The management, however, is so clueless that I have decided to permanently give it a pass. There are so many really good places in this area where the management knows how to retain good people that one need not spend time in a place where the servers seem to change on a daily basis.\n",
      "\n",
      "When I buy high-priced coffee, I like to have it in a real mug, not a cardboard cup that I could get at any fast-food joint. When the people here mistakenly put mine in a cardboard cup, I did not ask for a new coffee. Instead, I politely pointed it out in the hopes that they would get it right the next time. In return, I got an argument and nasty looks from the crew at the counter. Also, no matter now many people they have at the counter, they manage to keep even small groups of customers waiting on long lines.\n",
      "\n",
      "Yesterday was the kicker. I asked for a decaf coffee and told there was no decaf. Even your average diner will usually ask a customer if he or she wants to wait while they brew up a pot of decaf. And this is a fancy café? I then asked if they had decaf espresso and was told that this too was all out. The person telling me this clearly had no idea of her surroundings and thought she was working in some civil service office: nope, we ain't got it, too bad!\n",
      "\n",
      "With so many good options down the block, this place should stop relying on their decor.\n",
      "{'neg': 0.092, 'neu': 0.823, 'pos': 0.085, 'compound': -0.3041}\n"
     ]
    }
   ],
   "source": [
    "exampledf = df['text'][21]\n",
    "print(exampledf)\n",
    "print(sia.polarity_scores(exampledf))"
   ]
  },
  {
   "cell_type": "code",
   "execution_count": 151,
   "id": "6b0c9e80",
   "metadata": {},
   "outputs": [],
   "source": [
    "from sklearn.model_selection import train_test_split\n",
    "\n",
    "train, test = train_test_split(df, test_size=0.3)\n",
    "#we keep 30% for testing"
   ]
  },
  {
   "cell_type": "code",
   "execution_count": 39,
   "id": "4609a25c",
   "metadata": {},
   "outputs": [],
   "source": [
    "#trainer function for the dataframe, returns df with \n",
    "def trainerVader(df):\n",
    "    #creating a dict for the results of pos,neu,negative training.\n",
    "    res= {}\n",
    "    for i,row in tqdm(df.iterrows(),total=len(df)):\n",
    "        text = row['text']\n",
    "        Bid = row['business_id']\n",
    "        res[Bid] = sia.polarity_scores(text)\n",
    "        \n",
    "    return df"
   ]
  },
  {
   "cell_type": "code",
   "execution_count": 40,
   "id": "6f68fb49",
   "metadata": {},
   "outputs": [
    {
     "data": {
      "application/vnd.jupyter.widget-view+json": {
       "model_id": "bbe7d46a63b842048cd0d62dd9723cf4",
       "version_major": 2,
       "version_minor": 0
      },
      "text/plain": [
       "  0%|          | 0/47003 [00:00<?, ?it/s]"
      ]
     },
     "metadata": {},
     "output_type": "display_data"
    }
   ],
   "source": [
    "dfscorevaders = trainerVader(train)\n",
    "# 1 minute on 16 seconds training time on my desktop computer."
   ]
  },
  {
   "cell_type": "code",
   "execution_count": 47,
   "id": "557113b4",
   "metadata": {},
   "outputs": [],
   "source": [
    "dfscorevaders = pd.DataFrame(res).T.reset_index().rename(columns={'index': 'business_id'})"
   ]
  },
  {
   "cell_type": "code",
   "execution_count": 49,
   "id": "8b275fe1",
   "metadata": {},
   "outputs": [],
   "source": [
    "dfscorevaders = dfscorevaders.merge(train,how = 'left')"
   ]
  },
  {
   "cell_type": "code",
   "execution_count": 50,
   "id": "6163db58",
   "metadata": {},
   "outputs": [
    {
     "data": {
      "text/html": [
       "<div>\n",
       "<style scoped>\n",
       "    .dataframe tbody tr th:only-of-type {\n",
       "        vertical-align: middle;\n",
       "    }\n",
       "\n",
       "    .dataframe tbody tr th {\n",
       "        vertical-align: top;\n",
       "    }\n",
       "\n",
       "    .dataframe thead th {\n",
       "        text-align: right;\n",
       "    }\n",
       "</style>\n",
       "<table border=\"1\" class=\"dataframe\">\n",
       "  <thead>\n",
       "    <tr style=\"text-align: right;\">\n",
       "      <th></th>\n",
       "      <th>business_id</th>\n",
       "      <th>neg</th>\n",
       "      <th>neu</th>\n",
       "      <th>pos</th>\n",
       "      <th>compound</th>\n",
       "      <th>name</th>\n",
       "      <th>address</th>\n",
       "      <th>city</th>\n",
       "      <th>state</th>\n",
       "      <th>postal_code</th>\n",
       "      <th>...</th>\n",
       "      <th>categories</th>\n",
       "      <th>hours</th>\n",
       "      <th>review_id</th>\n",
       "      <th>user_id</th>\n",
       "      <th>stars_y</th>\n",
       "      <th>useful</th>\n",
       "      <th>funny</th>\n",
       "      <th>cool</th>\n",
       "      <th>text</th>\n",
       "      <th>date</th>\n",
       "    </tr>\n",
       "  </thead>\n",
       "  <tbody>\n",
       "    <tr>\n",
       "      <th>0</th>\n",
       "      <td>jZoeTGRfhG9n_Jo6VMqwxw</td>\n",
       "      <td>0.000</td>\n",
       "      <td>0.928</td>\n",
       "      <td>0.072</td>\n",
       "      <td>0.4389</td>\n",
       "      <td>Sushi Wasabi</td>\n",
       "      <td>5714 111 Street NW</td>\n",
       "      <td>Edmonton</td>\n",
       "      <td>AB</td>\n",
       "      <td>T6H 3G1</td>\n",
       "      <td>...</td>\n",
       "      <td>Restaurants, Sushi Bars, Japanese</td>\n",
       "      <td>{'Tuesday': '17:0-21:0', 'Wednesday': '17:0-21...</td>\n",
       "      <td>vvDAxmQDfKiLX8ft5neR1A</td>\n",
       "      <td>bkyer3ffv0wmpAmaukyd1g</td>\n",
       "      <td>4</td>\n",
       "      <td>1</td>\n",
       "      <td>1</td>\n",
       "      <td>1</td>\n",
       "      <td>Fantastic sushi. I have been to this restauran...</td>\n",
       "      <td>2016-08-01 00:02:27</td>\n",
       "    </tr>\n",
       "    <tr>\n",
       "      <th>1</th>\n",
       "      <td>jZoeTGRfhG9n_Jo6VMqwxw</td>\n",
       "      <td>0.000</td>\n",
       "      <td>0.928</td>\n",
       "      <td>0.072</td>\n",
       "      <td>0.4389</td>\n",
       "      <td>Sushi Wasabi</td>\n",
       "      <td>5714 111 Street NW</td>\n",
       "      <td>Edmonton</td>\n",
       "      <td>AB</td>\n",
       "      <td>T6H 3G1</td>\n",
       "      <td>...</td>\n",
       "      <td>Restaurants, Sushi Bars, Japanese</td>\n",
       "      <td>{'Tuesday': '17:0-21:0', 'Wednesday': '17:0-21...</td>\n",
       "      <td>FQTb9ZO0ZGF568Z2EBDaEw</td>\n",
       "      <td>gMyac2WN_INQojPmHEZ4Rw</td>\n",
       "      <td>1</td>\n",
       "      <td>0</td>\n",
       "      <td>0</td>\n",
       "      <td>0</td>\n",
       "      <td>Disappointing service. Lost a customer! I want...</td>\n",
       "      <td>2019-02-17 15:21:38</td>\n",
       "    </tr>\n",
       "    <tr>\n",
       "      <th>2</th>\n",
       "      <td>jZoeTGRfhG9n_Jo6VMqwxw</td>\n",
       "      <td>0.000</td>\n",
       "      <td>0.928</td>\n",
       "      <td>0.072</td>\n",
       "      <td>0.4389</td>\n",
       "      <td>Sushi Wasabi</td>\n",
       "      <td>5714 111 Street NW</td>\n",
       "      <td>Edmonton</td>\n",
       "      <td>AB</td>\n",
       "      <td>T6H 3G1</td>\n",
       "      <td>...</td>\n",
       "      <td>Restaurants, Sushi Bars, Japanese</td>\n",
       "      <td>{'Tuesday': '17:0-21:0', 'Wednesday': '17:0-21...</td>\n",
       "      <td>4k7_wgETMemLjL2PYv6XiA</td>\n",
       "      <td>0P_wUAKVI8HfKxb4OAHOHA</td>\n",
       "      <td>4</td>\n",
       "      <td>0</td>\n",
       "      <td>0</td>\n",
       "      <td>0</td>\n",
       "      <td>This restaurant is very cute and cozy. It's lo...</td>\n",
       "      <td>2015-02-04 21:23:43</td>\n",
       "    </tr>\n",
       "    <tr>\n",
       "      <th>3</th>\n",
       "      <td>jZoeTGRfhG9n_Jo6VMqwxw</td>\n",
       "      <td>0.000</td>\n",
       "      <td>0.928</td>\n",
       "      <td>0.072</td>\n",
       "      <td>0.4389</td>\n",
       "      <td>Sushi Wasabi</td>\n",
       "      <td>5714 111 Street NW</td>\n",
       "      <td>Edmonton</td>\n",
       "      <td>AB</td>\n",
       "      <td>T6H 3G1</td>\n",
       "      <td>...</td>\n",
       "      <td>Restaurants, Sushi Bars, Japanese</td>\n",
       "      <td>{'Tuesday': '17:0-21:0', 'Wednesday': '17:0-21...</td>\n",
       "      <td>rIhVkTJT9w5rCUktjkqAJQ</td>\n",
       "      <td>ACKqVTOTAZylVeuzvcVqhA</td>\n",
       "      <td>5</td>\n",
       "      <td>1</td>\n",
       "      <td>0</td>\n",
       "      <td>0</td>\n",
       "      <td>Great place to have real Japanese food. Nabe u...</td>\n",
       "      <td>2017-02-05 18:02:03</td>\n",
       "    </tr>\n",
       "    <tr>\n",
       "      <th>4</th>\n",
       "      <td>jZoeTGRfhG9n_Jo6VMqwxw</td>\n",
       "      <td>0.000</td>\n",
       "      <td>0.928</td>\n",
       "      <td>0.072</td>\n",
       "      <td>0.4389</td>\n",
       "      <td>Sushi Wasabi</td>\n",
       "      <td>5714 111 Street NW</td>\n",
       "      <td>Edmonton</td>\n",
       "      <td>AB</td>\n",
       "      <td>T6H 3G1</td>\n",
       "      <td>...</td>\n",
       "      <td>Restaurants, Sushi Bars, Japanese</td>\n",
       "      <td>{'Tuesday': '17:0-21:0', 'Wednesday': '17:0-21...</td>\n",
       "      <td>a6Vrh-CI_XHRlEAYLJ32Mg</td>\n",
       "      <td>hQgWwIjEbn47nN2BIr_LyA</td>\n",
       "      <td>5</td>\n",
       "      <td>1</td>\n",
       "      <td>0</td>\n",
       "      <td>0</td>\n",
       "      <td>Hands down my favorite sushi restaurant in Edm...</td>\n",
       "      <td>2015-05-03 01:05:54</td>\n",
       "    </tr>\n",
       "    <tr>\n",
       "      <th>...</th>\n",
       "      <td>...</td>\n",
       "      <td>...</td>\n",
       "      <td>...</td>\n",
       "      <td>...</td>\n",
       "      <td>...</td>\n",
       "      <td>...</td>\n",
       "      <td>...</td>\n",
       "      <td>...</td>\n",
       "      <td>...</td>\n",
       "      <td>...</td>\n",
       "      <td>...</td>\n",
       "      <td>...</td>\n",
       "      <td>...</td>\n",
       "      <td>...</td>\n",
       "      <td>...</td>\n",
       "      <td>...</td>\n",
       "      <td>...</td>\n",
       "      <td>...</td>\n",
       "      <td>...</td>\n",
       "      <td>...</td>\n",
       "      <td>...</td>\n",
       "    </tr>\n",
       "    <tr>\n",
       "      <th>46998</th>\n",
       "      <td>P_HGB651eBBjsWRWT9IYjQ</td>\n",
       "      <td>0.000</td>\n",
       "      <td>1.000</td>\n",
       "      <td>0.000</td>\n",
       "      <td>0.0000</td>\n",
       "      <td>Spirits On Jasper</td>\n",
       "      <td>11314 Jasper Avenue NW</td>\n",
       "      <td>Edmonton</td>\n",
       "      <td>AB</td>\n",
       "      <td>T5K 0L8</td>\n",
       "      <td>...</td>\n",
       "      <td>Food, Beer, Wine &amp; Spirits</td>\n",
       "      <td>{'Monday': '10:0-2:0', 'Tuesday': '10:0-2:0', ...</td>\n",
       "      <td>Lwexr5ScZUv4eQyR_NVu6A</td>\n",
       "      <td>NoB_mtbwrz4aZ2-z5Tpfdg</td>\n",
       "      <td>3</td>\n",
       "      <td>3</td>\n",
       "      <td>5</td>\n",
       "      <td>1</td>\n",
       "      <td>Spirits on Jasper is my usual liquor store, pu...</td>\n",
       "      <td>2008-11-07 22:40:18</td>\n",
       "    </tr>\n",
       "    <tr>\n",
       "      <th>46999</th>\n",
       "      <td>g-Q7m7G3Xrez_Vc2T4wqNQ</td>\n",
       "      <td>0.000</td>\n",
       "      <td>0.586</td>\n",
       "      <td>0.414</td>\n",
       "      <td>0.9339</td>\n",
       "      <td>Namaste India</td>\n",
       "      <td>7626 144th Avenue Nw</td>\n",
       "      <td>Edmonton</td>\n",
       "      <td>AB</td>\n",
       "      <td>T5C 2R7</td>\n",
       "      <td>...</td>\n",
       "      <td>Gluten-Free, Vegan, Restaurants, Indian</td>\n",
       "      <td>{'Monday': '0:0-0:0', 'Tuesday': '10:0-22:0', ...</td>\n",
       "      <td>jIlENo45VdokzDR2v5Dp9g</td>\n",
       "      <td>4N6Ge3BYTnLBe7t1A4XGiQ</td>\n",
       "      <td>5</td>\n",
       "      <td>0</td>\n",
       "      <td>0</td>\n",
       "      <td>0</td>\n",
       "      <td>BEST value takeout in Edmonton - the Aloo Gobi...</td>\n",
       "      <td>2019-03-26 23:27:50</td>\n",
       "    </tr>\n",
       "    <tr>\n",
       "      <th>47000</th>\n",
       "      <td>0mELPrm26bXmBhdzJezAlQ</td>\n",
       "      <td>0.061</td>\n",
       "      <td>0.764</td>\n",
       "      <td>0.174</td>\n",
       "      <td>0.9502</td>\n",
       "      <td>The Phat Noodle</td>\n",
       "      <td>10347 Jasper Avenue</td>\n",
       "      <td>Edmonton</td>\n",
       "      <td>AB</td>\n",
       "      <td>T5J</td>\n",
       "      <td>...</td>\n",
       "      <td>Restaurants, Vietnamese</td>\n",
       "      <td>{'Monday': '11:0-20:0', 'Tuesday': '11:0-20:0'...</td>\n",
       "      <td>WMeVwgPy9mZAfK2GTXv8Kg</td>\n",
       "      <td>GHfmwO7r-XX5fo9vTXmEwA</td>\n",
       "      <td>3</td>\n",
       "      <td>4</td>\n",
       "      <td>0</td>\n",
       "      <td>0</td>\n",
       "      <td>Having opened recently, decided to give this p...</td>\n",
       "      <td>2012-08-14 17:58:33</td>\n",
       "    </tr>\n",
       "    <tr>\n",
       "      <th>47001</th>\n",
       "      <td>0mELPrm26bXmBhdzJezAlQ</td>\n",
       "      <td>0.061</td>\n",
       "      <td>0.764</td>\n",
       "      <td>0.174</td>\n",
       "      <td>0.9502</td>\n",
       "      <td>The Phat Noodle</td>\n",
       "      <td>10347 Jasper Avenue</td>\n",
       "      <td>Edmonton</td>\n",
       "      <td>AB</td>\n",
       "      <td>T5J</td>\n",
       "      <td>...</td>\n",
       "      <td>Restaurants, Vietnamese</td>\n",
       "      <td>{'Monday': '11:0-20:0', 'Tuesday': '11:0-20:0'...</td>\n",
       "      <td>y9OZsOB_2T4vDa00QZvm1Q</td>\n",
       "      <td>nXgklazuzxsn_X8DxOJsEg</td>\n",
       "      <td>3</td>\n",
       "      <td>1</td>\n",
       "      <td>0</td>\n",
       "      <td>1</td>\n",
       "      <td>good for quick pit stop on a short lunch break...</td>\n",
       "      <td>2013-04-05 18:56:50</td>\n",
       "    </tr>\n",
       "    <tr>\n",
       "      <th>47002</th>\n",
       "      <td>0mELPrm26bXmBhdzJezAlQ</td>\n",
       "      <td>0.061</td>\n",
       "      <td>0.764</td>\n",
       "      <td>0.174</td>\n",
       "      <td>0.9502</td>\n",
       "      <td>The Phat Noodle</td>\n",
       "      <td>10347 Jasper Avenue</td>\n",
       "      <td>Edmonton</td>\n",
       "      <td>AB</td>\n",
       "      <td>T5J</td>\n",
       "      <td>...</td>\n",
       "      <td>Restaurants, Vietnamese</td>\n",
       "      <td>{'Monday': '11:0-20:0', 'Tuesday': '11:0-20:0'...</td>\n",
       "      <td>cakpLZAx2PAO5ndXn1KDLg</td>\n",
       "      <td>l9be6lRlJhumEM8ruMMJ7g</td>\n",
       "      <td>2</td>\n",
       "      <td>1</td>\n",
       "      <td>1</td>\n",
       "      <td>0</td>\n",
       "      <td>I was not impressed with this place. I ordered...</td>\n",
       "      <td>2013-01-19 07:51:51</td>\n",
       "    </tr>\n",
       "  </tbody>\n",
       "</table>\n",
       "<p>47003 rows × 26 columns</p>\n",
       "</div>"
      ],
      "text/plain": [
       "                  business_id    neg    neu    pos  compound  \\\n",
       "0      jZoeTGRfhG9n_Jo6VMqwxw  0.000  0.928  0.072    0.4389   \n",
       "1      jZoeTGRfhG9n_Jo6VMqwxw  0.000  0.928  0.072    0.4389   \n",
       "2      jZoeTGRfhG9n_Jo6VMqwxw  0.000  0.928  0.072    0.4389   \n",
       "3      jZoeTGRfhG9n_Jo6VMqwxw  0.000  0.928  0.072    0.4389   \n",
       "4      jZoeTGRfhG9n_Jo6VMqwxw  0.000  0.928  0.072    0.4389   \n",
       "...                       ...    ...    ...    ...       ...   \n",
       "46998  P_HGB651eBBjsWRWT9IYjQ  0.000  1.000  0.000    0.0000   \n",
       "46999  g-Q7m7G3Xrez_Vc2T4wqNQ  0.000  0.586  0.414    0.9339   \n",
       "47000  0mELPrm26bXmBhdzJezAlQ  0.061  0.764  0.174    0.9502   \n",
       "47001  0mELPrm26bXmBhdzJezAlQ  0.061  0.764  0.174    0.9502   \n",
       "47002  0mELPrm26bXmBhdzJezAlQ  0.061  0.764  0.174    0.9502   \n",
       "\n",
       "                    name                 address      city state postal_code  \\\n",
       "0           Sushi Wasabi      5714 111 Street NW  Edmonton    AB     T6H 3G1   \n",
       "1           Sushi Wasabi      5714 111 Street NW  Edmonton    AB     T6H 3G1   \n",
       "2           Sushi Wasabi      5714 111 Street NW  Edmonton    AB     T6H 3G1   \n",
       "3           Sushi Wasabi      5714 111 Street NW  Edmonton    AB     T6H 3G1   \n",
       "4           Sushi Wasabi      5714 111 Street NW  Edmonton    AB     T6H 3G1   \n",
       "...                  ...                     ...       ...   ...         ...   \n",
       "46998  Spirits On Jasper  11314 Jasper Avenue NW  Edmonton    AB     T5K 0L8   \n",
       "46999      Namaste India    7626 144th Avenue Nw  Edmonton    AB     T5C 2R7   \n",
       "47000    The Phat Noodle     10347 Jasper Avenue  Edmonton    AB         T5J   \n",
       "47001    The Phat Noodle     10347 Jasper Avenue  Edmonton    AB         T5J   \n",
       "47002    The Phat Noodle     10347 Jasper Avenue  Edmonton    AB         T5J   \n",
       "\n",
       "       ...                               categories  \\\n",
       "0      ...        Restaurants, Sushi Bars, Japanese   \n",
       "1      ...        Restaurants, Sushi Bars, Japanese   \n",
       "2      ...        Restaurants, Sushi Bars, Japanese   \n",
       "3      ...        Restaurants, Sushi Bars, Japanese   \n",
       "4      ...        Restaurants, Sushi Bars, Japanese   \n",
       "...    ...                                      ...   \n",
       "46998  ...               Food, Beer, Wine & Spirits   \n",
       "46999  ...  Gluten-Free, Vegan, Restaurants, Indian   \n",
       "47000  ...                  Restaurants, Vietnamese   \n",
       "47001  ...                  Restaurants, Vietnamese   \n",
       "47002  ...                  Restaurants, Vietnamese   \n",
       "\n",
       "                                                   hours  \\\n",
       "0      {'Tuesday': '17:0-21:0', 'Wednesday': '17:0-21...   \n",
       "1      {'Tuesday': '17:0-21:0', 'Wednesday': '17:0-21...   \n",
       "2      {'Tuesday': '17:0-21:0', 'Wednesday': '17:0-21...   \n",
       "3      {'Tuesday': '17:0-21:0', 'Wednesday': '17:0-21...   \n",
       "4      {'Tuesday': '17:0-21:0', 'Wednesday': '17:0-21...   \n",
       "...                                                  ...   \n",
       "46998  {'Monday': '10:0-2:0', 'Tuesday': '10:0-2:0', ...   \n",
       "46999  {'Monday': '0:0-0:0', 'Tuesday': '10:0-22:0', ...   \n",
       "47000  {'Monday': '11:0-20:0', 'Tuesday': '11:0-20:0'...   \n",
       "47001  {'Monday': '11:0-20:0', 'Tuesday': '11:0-20:0'...   \n",
       "47002  {'Monday': '11:0-20:0', 'Tuesday': '11:0-20:0'...   \n",
       "\n",
       "                    review_id                 user_id  stars_y useful funny  \\\n",
       "0      vvDAxmQDfKiLX8ft5neR1A  bkyer3ffv0wmpAmaukyd1g        4      1     1   \n",
       "1      FQTb9ZO0ZGF568Z2EBDaEw  gMyac2WN_INQojPmHEZ4Rw        1      0     0   \n",
       "2      4k7_wgETMemLjL2PYv6XiA  0P_wUAKVI8HfKxb4OAHOHA        4      0     0   \n",
       "3      rIhVkTJT9w5rCUktjkqAJQ  ACKqVTOTAZylVeuzvcVqhA        5      1     0   \n",
       "4      a6Vrh-CI_XHRlEAYLJ32Mg  hQgWwIjEbn47nN2BIr_LyA        5      1     0   \n",
       "...                       ...                     ...      ...    ...   ...   \n",
       "46998  Lwexr5ScZUv4eQyR_NVu6A  NoB_mtbwrz4aZ2-z5Tpfdg        3      3     5   \n",
       "46999  jIlENo45VdokzDR2v5Dp9g  4N6Ge3BYTnLBe7t1A4XGiQ        5      0     0   \n",
       "47000  WMeVwgPy9mZAfK2GTXv8Kg  GHfmwO7r-XX5fo9vTXmEwA        3      4     0   \n",
       "47001  y9OZsOB_2T4vDa00QZvm1Q  nXgklazuzxsn_X8DxOJsEg        3      1     0   \n",
       "47002  cakpLZAx2PAO5ndXn1KDLg  l9be6lRlJhumEM8ruMMJ7g        2      1     1   \n",
       "\n",
       "      cool                                               text  \\\n",
       "0        1  Fantastic sushi. I have been to this restauran...   \n",
       "1        0  Disappointing service. Lost a customer! I want...   \n",
       "2        0  This restaurant is very cute and cozy. It's lo...   \n",
       "3        0  Great place to have real Japanese food. Nabe u...   \n",
       "4        0  Hands down my favorite sushi restaurant in Edm...   \n",
       "...    ...                                                ...   \n",
       "46998    1  Spirits on Jasper is my usual liquor store, pu...   \n",
       "46999    0  BEST value takeout in Edmonton - the Aloo Gobi...   \n",
       "47000    0  Having opened recently, decided to give this p...   \n",
       "47001    1  good for quick pit stop on a short lunch break...   \n",
       "47002    0  I was not impressed with this place. I ordered...   \n",
       "\n",
       "                     date  \n",
       "0     2016-08-01 00:02:27  \n",
       "1     2019-02-17 15:21:38  \n",
       "2     2015-02-04 21:23:43  \n",
       "3     2017-02-05 18:02:03  \n",
       "4     2015-05-03 01:05:54  \n",
       "...                   ...  \n",
       "46998 2008-11-07 22:40:18  \n",
       "46999 2019-03-26 23:27:50  \n",
       "47000 2012-08-14 17:58:33  \n",
       "47001 2013-04-05 18:56:50  \n",
       "47002 2013-01-19 07:51:51  \n",
       "\n",
       "[47003 rows x 26 columns]"
      ]
     },
     "execution_count": 50,
     "metadata": {},
     "output_type": "execute_result"
    }
   ],
   "source": [
    "dfscorevaders"
   ]
  },
  {
   "cell_type": "code",
   "execution_count": 73,
   "id": "8fa55e03",
   "metadata": {},
   "outputs": [
    {
     "data": {
      "image/png": "[encoded data removed]",
      "text/plain": [
       "<Figure size 1728x576 with 4 Axes>"
      ]
     },
     "metadata": {
      "needs_background": "light"
     },
     "output_type": "display_data"
    }
   ],
   "source": [
    "plotter(dfscorevaders)"
   ]
  },
  {
   "cell_type": "code",
   "execution_count": 57,
   "id": "9857ae6b",
   "metadata": {},
   "outputs": [
    {
     "data": {
      "application/vnd.jupyter.widget-view+json": {
       "model_id": "0302a90eae0540aaa6412b75a3a5d177",
       "version_major": 2,
       "version_minor": 0
      },
      "text/plain": [
       "  0%|          | 0/20145 [00:00<?, ?it/s]"
      ]
     },
     "metadata": {},
     "output_type": "display_data"
    }
   ],
   "source": [
    "dfscoreVaderTest = trainerVader(test)"
   ]
  },
  {
   "cell_type": "code",
   "execution_count": 62,
   "id": "ed5d4fad",
   "metadata": {},
   "outputs": [
    {
     "data": {
      "image/png": "[encoded data removed]",
      "text/plain": [
       "<Figure size 1152x288 with 3 Axes>"
      ]
     },
     "metadata": {
      "needs_background": "light"
     },
     "output_type": "display_data"
    }
   ],
   "source": [
    "dfscoreVaderTest = pd.DataFrame(res).T.reset_index().rename(columns={'index': 'business_id'})\n",
    "dfscoreVaderTest = dfscoreVaderTest.merge(test,how = 'left')\n",
    "plotter(dfscoreVaderTest)"
   ]
  },
  {
   "cell_type": "markdown",
   "id": "eaf9f439",
   "metadata": {},
   "source": [
    "<b><p style=\"color:blue\">Test data agrees with train data, and also classifies properly, with proportionally lower stars the negative sentiment goes up, and positive classification goes up as stars goes up</p></b>"
   ]
  },
  {
   "cell_type": "markdown",
   "id": "84206050",
   "metadata": {},
   "source": [
    "<b><p style=\"color:maroon\">Based on the plots above, looks like negative reviews does make a difference in relation to stars.\n",
    "    though the positive side, the vader scoring is not as strong of a model with the data on hand</p></b>"
   ]
  },
  {
   "cell_type": "markdown",
   "id": "df3da7a9",
   "metadata": {},
   "source": [
    "## 2. RoBERTa NLP models\n",
    "RoBERTa: A Robustly Optimized BERT Pretraining Approach\n",
    "\n",
    "cite: \n",
    "arXiv:1907.11692 [cs.CL]\n",
    "(or arXiv:1907.11692v1 [cs.CL] for this version)\n",
    "https://doi.org/10.48550/arXiv.1907.11692\n",
    "\n",
    "These models are researched and links sentiment scoring to related words in the model sentence."
   ]
  },
  {
   "cell_type": "code",
   "execution_count": 52,
   "id": "735ba77b",
   "metadata": {},
   "outputs": [],
   "source": [
    "#note: must have transformers installed from hugging-face & pytorch by META AI\n",
    "#pip install transformers\n",
    "#pip install torch"
   ]
  },
  {
   "cell_type": "code",
   "execution_count": 53,
   "id": "056d1700",
   "metadata": {},
   "outputs": [],
   "source": [
    "from transformers import AutoTokenizer\n",
    "from transformers import AutoModelForSequenceClassification\n",
    "from scipy.special import softmax"
   ]
  },
  {
   "cell_type": "code",
   "execution_count": 54,
   "id": "c426bdd1",
   "metadata": {},
   "outputs": [],
   "source": [
    "model = f\"cardiffnlp/twitter-roberta-base-sentiment\"\n",
    "tokenizer = AutoTokenizer.from_pretrained(model)\n",
    "model = AutoModelForSequenceClassification.from_pretrained(model)"
   ]
  },
  {
   "cell_type": "code",
   "execution_count": 55,
   "id": "7d11f7dc",
   "metadata": {},
   "outputs": [
    {
     "name": "stdout",
     "output_type": "stream",
     "text": [
      "example sentence:  I love this bar! Best place ever yum!\n",
      "tensor([[-1.9768, -1.2123,  4.0664]], grad_fn=<AddmmBackward0>)\n"
     ]
    }
   ],
   "source": [
    "#prints the data to a tensor object.\n",
    "encoded_sample = tokenizer(examplepos,return_tensors='pt')\n",
    "outputpos = model(**encoded_sample)\n",
    "print(\"example sentence: \", examplepos)\n",
    "print(outputpos.logits)\n",
    "#here we can see a tensor object with probability values neg, neutral,positive, with backpropgation for the gradient fn."
   ]
  },
  {
   "cell_type": "code",
   "execution_count": 15,
   "id": "edfa63a2",
   "metadata": {},
   "outputs": [
    {
     "name": "stdout",
     "output_type": "stream",
     "text": [
      "example sentence:  I love this bar! Best place ever yum!\n",
      "tensor([[ 3.1243, -0.8634, -2.4053]], grad_fn=<AddmmBackward0>)\n"
     ]
    }
   ],
   "source": [
    "#prints the data to a tensor object.\n",
    "encoded_sample = tokenizer(exampleneg,return_tensors='pt')\n",
    "outputneg = model(**encoded_sample)\n",
    "print(\"example sentence: \", examplepos)\n",
    "print(outputneg.logits)\n",
    "#here we can see a tensor object with probability values neg, neutral,positive, with backpropgation for the gradient fn."
   ]
  },
  {
   "cell_type": "code",
   "execution_count": 16,
   "id": "67887559",
   "metadata": {},
   "outputs": [
    {
     "name": "stdout",
     "output_type": "stream",
     "text": [
      "disgusting, I would never eat here again. Gross gross gross yuck.\n",
      "{'neg': 0.97798574, 'neu': 0.018133963, 'pos': 0.0038802617}\n",
      "I love this bar! Best place ever yum!\n",
      "{'neg': 0.00235627, 'neu': 0.0050610565, 'pos': 0.9925828}\n"
     ]
    }
   ],
   "source": [
    "#we convert the tensor object to a numpy for analysis\n",
    "scorespos = outputpos[0][0].detach().numpy()\n",
    "scoresneg = outputneg[0][0].detach().numpy()\n",
    "#adding softmax layer for last part of NN.\n",
    "scorespos = softmax(scorespos)\n",
    "scoresneg = softmax(scoresneg)\n",
    "\n",
    "encoded_sample = tokenizer(exampleneg,return_tensors='pt')\n",
    "output = model(**encoded_sample)\n",
    "scores = output[0][0].detach().numpy()\n",
    "scores = softmax(scores)\n",
    "scores_dict_neg = {\n",
    "    'neg' : scoresneg[0],\n",
    "    'neu' : scoresneg[1],\n",
    "    'pos' : scoresneg[2]\n",
    "}\n",
    "\n",
    "scores_dict_pos = {\n",
    "    'neg' : scorespos[0],\n",
    "    'neu' : scorespos[1],\n",
    "    'pos' : scorespos[2]\n",
    "}\n",
    "\n",
    "\n",
    "print(exampleneg)\n",
    "print(scores_dict_neg)\n",
    "\n",
    "print(examplepos)\n",
    "print(scores_dict_pos)\n",
    "\n",
    "\n",
    "\n",
    "#here we can see that it is much more accurate than the VADER technique.\n",
    "#We are now going to put this model on a function for general access."
   ]
  },
  {
   "cell_type": "code",
   "execution_count": 17,
   "id": "3121413b",
   "metadata": {},
   "outputs": [],
   "source": [
    "def polarity_score(text):\n",
    "    \n",
    "    encoded_text = tokenizer(text,return_tensors='pt', truncation=True, max_length=512)\n",
    "    #encoded_text = tokenizer(text,return_tensors='pt')\n",
    "    output = model(**encoded_text)\n",
    "    scores = output[0][0].detach().numpy()\n",
    "    scores = softmax(scores)\n",
    "    \n",
    "    scores_dict = {\n",
    "    'neg' : scores[0],\n",
    "    'neu' : scores[1],\n",
    "    'pos' : scores[2]\n",
    "    }\n",
    "    \n",
    "    return scores_dict\n",
    "\n",
    "    "
   ]
  },
  {
   "cell_type": "code",
   "execution_count": 18,
   "id": "955bf173",
   "metadata": {},
   "outputs": [
    {
     "name": "stdout",
     "output_type": "stream",
     "text": [
      "So much to like about this place--the beautiful Mercer Building location, the spaciousness, the lovely, friendly baristas. But there are a couple of important cons for me. Biggest being, the music is constant and too loud, ruining everything you go to a coffee shop to do: read, work, reflect, or enjoy a good conversation. When I asked for it to be turned down, they told me they can't--it just plays at one level all the time, and the speakers  are everywhere so you can't get away from it. It sucks.\n",
      "\n",
      "Secondly, if you're a tea drinker, you're out of luck. They don't serve the tea in pots, but huge, sloppy individual filters--it makes your beverage totally ungainly, hard to drink and is really off putting.\n",
      "\n",
      "Pros: gluten free goodies and yummy Italian sodas. I'd love to spend more time here, but the music usually drives me out after 10 minutes.\n",
      "{'neg': 0.70344096, 'neu': 0.20645857, 'pos': 0.090100564}\n"
     ]
    }
   ],
   "source": [
    "print(train['text'][0])\n",
    "print(polarity_score(train['text'][0]))"
   ]
  },
  {
   "cell_type": "code",
   "execution_count": 148,
   "id": "ee492b56",
   "metadata": {},
   "outputs": [
    {
     "name": "stdout",
     "output_type": "stream",
     "text": [
      "When you think of pretzels you likely think of the little hard kind that come in a bag (kinda like chips) or the ones that hang in those spinner machines (covered in salt) at sporting events. Unfortunately in Canada, that's generally the extent of our pretzel experience. Thankfully Zwick's is on the scene to forever change Edmonton's severely lacking pretzel scene. It's something that you didn't even know that you needed. (But you absolutely do!) They were even featured on Big Food Bucket List in season two!\n",
      "\n",
      "You'll find Zwick's in Westmount (in a small area that is particularly packed with amazing food) and you'll spot their tiny location when you see their turquoise signage. The space is very small and there isn't much to it. The walls are painted with black chalkboard paint, turning almost every inch of wall space into the menu. (Whoever writes the menu has very nice printing!) There's a large communal table that takes up the rest of the tiny space, which makes it possible to eat-in should you want to. The staff is friendly and the restaurant is almost always lined up and busy. I visited on a Saturday evening with full intentions of building an entire dinner meal out of pretzels.\n",
      "Each pretzel is made fresh-to-order so sometimes there's a bit of a wait while your food gets prepared. Because of this, Zwick's will give you a buzzer so that you can wait outside (again, the inside space is very small) which will alert you once your food is ready.\n",
      "I started my journey with a drink and was delighted to find an array of housemade sodas on the menu - but especially the Strawberry Apple Shrub ($3.00). As far as I know, Zwick's is the only place in Edmonton that serves shrub, which is very exciting. What is \"shrub\" you ask? Now stay with me because this is going to get a bit weird. Shrub is a drinking vinegar. The acidic syrup is mixed with fruit creating a beverage that is full of depth and complexity. It's really interesting; you get that slight vinegar flavour but it's incredibly enjoyable. Non-alcoholic cocktails have come a very long way in recent years. The shrub at Zwick's is truly wonderful and refreshing, and I loved the way that it tasted like real, fresh strawberries. (Plus vinegar and strawberries are totally friends already - have you tried balsamic black pepper strawberries? They're fabulous.)\n",
      "\n",
      "Next, let's talk about the pretzels. These dough twists originated in Germany and have been around for a very long time. Zwick's makes regular-sized pretzels but also nubs that come in a bag, all hand-rolled. There are basic, dusted, and cheese varieties (ten different flavours in total!). Personally, I'm a huge fan of the cheese pretzels... Because CHEESE! There are three different Cheese Pretzels ($3.00 each) and I ordered one of each for a full \"flight\" of cheese pretzels. (I highly recommend doing this for maximum life enjoyment.) They also offer eleven different Dips ($1.00 each) which are a must. Each pretzel is freshly baked, warm and soft, and positively covered in cheese. If you're a fan of crispy fried cheese bits (who isn't?) this is the snack for you. First up, the Spicy Scallion & Mozza, which is probably the most popular pretzel at Zwick's. Covered in a garlic chili sauce, mozzarella, scallions, baked, and then painted with garlic butter... This pretzel is a masterpiece. It's got heat and is packed with flavour. I love this one. Next is the Guajillo Feta, which I also loved. The guajillo chili brings a light heat and I enjoyed the saltiness from the feta. Lastly, the Cheddar & Black Pepper feels like a great classic. I mean, melty cheddar cheese? It doesn't get much better. All three of these pretzels are absolutely perfect. There are a lot of dips to choose from and I grabbed the Zesty Tomato and Dill & Onion Cream. They were both very delicious and complimented the pretzels well. (They also have cheese dips if you want even more cheese.)\n",
      "\n",
      "I wanted to order something from the Sides section of the menu to round out our meal. The Dill, Pea & Potato Salad ($3.50) seemed like a good bet. This simple salad was decently nice. The potato chunks were tender and I liked the pops of bright green peas. I would have liked it to be a bit more flavourful but this was a good way to make the meal feel like more than just bread products.\n",
      "\n",
      "Next, I rolled on over to the Sausages section because I absolutely had to try the Pizza Zweenie (Zweenie topped with zesty tomato sauce, mozzarella, parmesan & pepperoni - $7.00), which is something new that they've recently started serving. It's a smoked pork weenie on pretzel bun - covered in pizza toppings! The weenie itself was very juicy, flavourful, and nicely snappy. And you certainly can't go wrong with heaping amounts of pizza stuff. I really liked the tiny pepperoni. You know that your mouth wants this.\n",
      "\n",
      "I saved the best for last. It's time for the best thing on the menu at Zwick's: from the Sandwichzel section (yes, sandwiches made out of a pretzel bun) you'll find t\n",
      "{'neg': 0.0064767282, 'neu': 0.06577304, 'pos': 0.9277503}\n"
     ]
    }
   ],
   "source": [
    "print(train['text'][49221])\n",
    "print(polarity_score(train['text'][49221]))"
   ]
  },
  {
   "cell_type": "code",
   "execution_count": null,
   "id": "8a7a0925",
   "metadata": {},
   "outputs": [],
   "source": [
    "res= {}\n",
    "for i,row in tqdm(train.iterrows(),total=len(train)):\n",
    "    text = row['text']\n",
    "    Bid = row['business_id']\n",
    "    res[Bid] = polarity_score(text)\n",
    "#the data was cut to 75% to lessen load times, data was ran through RoBERTa model for 3&1/2 hours spitting out sentiment scores."
   ]
  },
  {
   "cell_type": "code",
   "execution_count": 23,
   "id": "bc3f3aaa",
   "metadata": {},
   "outputs": [],
   "source": [
    "dfscoreBert.to_parquet('data/edmonton_trained.parquet')"
   ]
  },
  {
   "cell_type": "code",
   "execution_count": 25,
   "id": "3f7d73e4",
   "metadata": {},
   "outputs": [],
   "source": [
    "dfscoreBert = pd.DataFrame(res).T.reset_index().rename(columns={'index': 'business_id'})\n",
    "dfscoreBert = dfscoreBert.merge(train,how = 'left')\n",
    "\n",
    "dfscoreBert.to_csv('data/trained-data.csv')"
   ]
  },
  {
   "cell_type": "code",
   "execution_count": 28,
   "id": "cd9d9369",
   "metadata": {},
   "outputs": [
    {
     "data": {
      "image/png": "[encoded data removed]",
      "text/plain": [
       "<Figure size 1152x288 with 3 Axes>"
      ]
     },
     "metadata": {
      "needs_background": "light"
     },
     "output_type": "display_data"
    }
   ],
   "source": [
    "plotter(dfscoreBert)"
   ]
  },
  {
   "cell_type": "code",
   "execution_count": null,
   "id": "1b5fc360",
   "metadata": {},
   "outputs": [],
   "source": [
    "traineddata = dfscoreBert.groupby([\"business_id\",\"name\",\"latitude\",\"longitude\"])[\"pos\"].mean().reset_index()\n",
    "\n",
    "traineddata.to_csv('data/trained-groupbyAVGpos-data.csv')"
   ]
  },
  {
   "cell_type": "markdown",
   "id": "2eafc320",
   "metadata": {},
   "source": [
    "## INTERACTIVE MAP OF AVERAGE POSITIVE SENTIMENTS OF RESTAURANTS IN EDMONTON\n",
    "\n",
    "[map of edmonton with positively rated restaurants](https://datastudio.google.com/s/ulcwcPpFe0w)"
   ]
  },
  {
   "cell_type": "markdown",
   "id": "ae781382",
   "metadata": {},
   "source": [
    "## RoBERTa results vs Vader Results"
   ]
  },
  {
   "cell_type": "code",
   "execution_count": null,
   "id": "77609f09",
   "metadata": {},
   "outputs": [],
   "source": []
  }
 ],
 "metadata": {
  "kernelspec": {
   "display_name": "Python 3 (ipykernel)",
   "language": "python",
   "name": "python3"
  },
  "language_info": {
   "codemirror_mode": {
    "name": "ipython",
    "version": 3
   },
   "file_extension": ".py",
   "mimetype": "text/x-python",
   "name": "python",
   "nbconvert_exporter": "python",
   "pygments_lexer": "ipython3",
   "version": "3.9.7"
  }
 },
 "nbformat": 4,
 "nbformat_minor": 5
}
