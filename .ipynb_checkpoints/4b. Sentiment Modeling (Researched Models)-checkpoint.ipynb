{
 "cells": [
  {
   "cell_type": "markdown",
   "id": "78f60b02",
   "metadata": {},
   "source": [
    "# SENTIMENT MODELING PART 2 (VADER,ROBERTA)\n",
    "\n",
    "The notebook 4a. Classifies using Native Bayes, In this notebook, we are handling the data and feeding it through two NLP techniques: \n",
    "1. Vader Scoring\n",
    "2. Roberta Pretrained NLP models"
   ]
  },
  {
   "cell_type": "code",
   "execution_count": 1,
   "id": "37f33db7",
   "metadata": {},
   "outputs": [],
   "source": [
    "import pandas as pd\n",
    "import numpy as np\n",
    "import matplotlib.pyplot as plt\n",
    "import seaborn as sns\n",
    "\n",
    "#adding ntlk for NLP training\n",
    "import nltk"
   ]
  },
  {
   "cell_type": "code",
   "execution_count": 2,
   "id": "b06e9d69",
   "metadata": {},
   "outputs": [
    {
     "data": {
      "text/html": [
       "<div>\n",
       "<style scoped>\n",
       "    .dataframe tbody tr th:only-of-type {\n",
       "        vertical-align: middle;\n",
       "    }\n",
       "\n",
       "    .dataframe tbody tr th {\n",
       "        vertical-align: top;\n",
       "    }\n",
       "\n",
       "    .dataframe thead th {\n",
       "        text-align: right;\n",
       "    }\n",
       "</style>\n",
       "<table border=\"1\" class=\"dataframe\">\n",
       "  <thead>\n",
       "    <tr style=\"text-align: right;\">\n",
       "      <th></th>\n",
       "      <th>business_id</th>\n",
       "      <th>name</th>\n",
       "      <th>address</th>\n",
       "      <th>city</th>\n",
       "      <th>state</th>\n",
       "      <th>postal_code</th>\n",
       "      <th>latitude</th>\n",
       "      <th>longitude</th>\n",
       "      <th>stars_x</th>\n",
       "      <th>review_count</th>\n",
       "      <th>...</th>\n",
       "      <th>categories</th>\n",
       "      <th>hours</th>\n",
       "      <th>review_id</th>\n",
       "      <th>user_id</th>\n",
       "      <th>stars_y</th>\n",
       "      <th>useful</th>\n",
       "      <th>funny</th>\n",
       "      <th>cool</th>\n",
       "      <th>text</th>\n",
       "      <th>date</th>\n",
       "    </tr>\n",
       "  </thead>\n",
       "  <tbody>\n",
       "    <tr>\n",
       "      <th>0</th>\n",
       "      <td>WKMJwqnfZKsAae75RMP6jA</td>\n",
       "      <td>Roast Coffeehouse and Wine Bar</td>\n",
       "      <td>10359 104 Street NW</td>\n",
       "      <td>Edmonton</td>\n",
       "      <td>AB</td>\n",
       "      <td>T5J 1B9</td>\n",
       "      <td>53.546045</td>\n",
       "      <td>-113.499169</td>\n",
       "      <td>4.0</td>\n",
       "      <td>40</td>\n",
       "      <td>...</td>\n",
       "      <td>Coffee &amp; Tea, Food, Cafes, Bars, Wine Bars, Re...</td>\n",
       "      <td>{'Monday': '8:0-18:0', 'Tuesday': '8:0-18:0', ...</td>\n",
       "      <td>uwPhE21CZLlp1kkSMPvvYw</td>\n",
       "      <td>5OnQqP3q2_9auNdDKpLdsw</td>\n",
       "      <td>3</td>\n",
       "      <td>0</td>\n",
       "      <td>0</td>\n",
       "      <td>0</td>\n",
       "      <td>So much to like about this place--the beautifu...</td>\n",
       "      <td>2012-11-06 23:35:15</td>\n",
       "    </tr>\n",
       "    <tr>\n",
       "      <th>1</th>\n",
       "      <td>WKMJwqnfZKsAae75RMP6jA</td>\n",
       "      <td>Roast Coffeehouse and Wine Bar</td>\n",
       "      <td>10359 104 Street NW</td>\n",
       "      <td>Edmonton</td>\n",
       "      <td>AB</td>\n",
       "      <td>T5J 1B9</td>\n",
       "      <td>53.546045</td>\n",
       "      <td>-113.499169</td>\n",
       "      <td>4.0</td>\n",
       "      <td>40</td>\n",
       "      <td>...</td>\n",
       "      <td>Coffee &amp; Tea, Food, Cafes, Bars, Wine Bars, Re...</td>\n",
       "      <td>{'Monday': '8:0-18:0', 'Tuesday': '8:0-18:0', ...</td>\n",
       "      <td>bAy8ROEYO_3aTBhW5LoR4g</td>\n",
       "      <td>7qFH1RkPivVRcwxLwhyixg</td>\n",
       "      <td>4</td>\n",
       "      <td>2</td>\n",
       "      <td>0</td>\n",
       "      <td>1</td>\n",
       "      <td>I'm not a coffee connoisseur so I'm not review...</td>\n",
       "      <td>2013-05-28 23:16:30</td>\n",
       "    </tr>\n",
       "    <tr>\n",
       "      <th>2</th>\n",
       "      <td>WKMJwqnfZKsAae75RMP6jA</td>\n",
       "      <td>Roast Coffeehouse and Wine Bar</td>\n",
       "      <td>10359 104 Street NW</td>\n",
       "      <td>Edmonton</td>\n",
       "      <td>AB</td>\n",
       "      <td>T5J 1B9</td>\n",
       "      <td>53.546045</td>\n",
       "      <td>-113.499169</td>\n",
       "      <td>4.0</td>\n",
       "      <td>40</td>\n",
       "      <td>...</td>\n",
       "      <td>Coffee &amp; Tea, Food, Cafes, Bars, Wine Bars, Re...</td>\n",
       "      <td>{'Monday': '8:0-18:0', 'Tuesday': '8:0-18:0', ...</td>\n",
       "      <td>zPDHE7TrXs7EJT06qD8yTA</td>\n",
       "      <td>FLeyjgc05C2V6QI9nVQ48Q</td>\n",
       "      <td>4</td>\n",
       "      <td>0</td>\n",
       "      <td>0</td>\n",
       "      <td>0</td>\n",
       "      <td>I really loved it here, makes me wish I lived ...</td>\n",
       "      <td>2013-09-04 19:49:33</td>\n",
       "    </tr>\n",
       "    <tr>\n",
       "      <th>3</th>\n",
       "      <td>WKMJwqnfZKsAae75RMP6jA</td>\n",
       "      <td>Roast Coffeehouse and Wine Bar</td>\n",
       "      <td>10359 104 Street NW</td>\n",
       "      <td>Edmonton</td>\n",
       "      <td>AB</td>\n",
       "      <td>T5J 1B9</td>\n",
       "      <td>53.546045</td>\n",
       "      <td>-113.499169</td>\n",
       "      <td>4.0</td>\n",
       "      <td>40</td>\n",
       "      <td>...</td>\n",
       "      <td>Coffee &amp; Tea, Food, Cafes, Bars, Wine Bars, Re...</td>\n",
       "      <td>{'Monday': '8:0-18:0', 'Tuesday': '8:0-18:0', ...</td>\n",
       "      <td>84niL3fvJMlFBE2hd2qOVQ</td>\n",
       "      <td>R-c5M0iJkMxxTxIqTQQZ8w</td>\n",
       "      <td>2</td>\n",
       "      <td>1</td>\n",
       "      <td>0</td>\n",
       "      <td>0</td>\n",
       "      <td>The kids who work at Roast are friendly.  They...</td>\n",
       "      <td>2013-07-14 21:38:06</td>\n",
       "    </tr>\n",
       "    <tr>\n",
       "      <th>4</th>\n",
       "      <td>WKMJwqnfZKsAae75RMP6jA</td>\n",
       "      <td>Roast Coffeehouse and Wine Bar</td>\n",
       "      <td>10359 104 Street NW</td>\n",
       "      <td>Edmonton</td>\n",
       "      <td>AB</td>\n",
       "      <td>T5J 1B9</td>\n",
       "      <td>53.546045</td>\n",
       "      <td>-113.499169</td>\n",
       "      <td>4.0</td>\n",
       "      <td>40</td>\n",
       "      <td>...</td>\n",
       "      <td>Coffee &amp; Tea, Food, Cafes, Bars, Wine Bars, Re...</td>\n",
       "      <td>{'Monday': '8:0-18:0', 'Tuesday': '8:0-18:0', ...</td>\n",
       "      <td>pLnTjS90gUlsq2tAjI9prA</td>\n",
       "      <td>G3h8pIclwUbuu3itJqF7ug</td>\n",
       "      <td>4</td>\n",
       "      <td>7</td>\n",
       "      <td>0</td>\n",
       "      <td>4</td>\n",
       "      <td>With a Toast to Roast, I say welcome to the E-...</td>\n",
       "      <td>2012-09-11 23:54:24</td>\n",
       "    </tr>\n",
       "  </tbody>\n",
       "</table>\n",
       "<p>5 rows × 22 columns</p>\n",
       "</div>"
      ],
      "text/plain": [
       "              business_id                            name  \\\n",
       "0  WKMJwqnfZKsAae75RMP6jA  Roast Coffeehouse and Wine Bar   \n",
       "1  WKMJwqnfZKsAae75RMP6jA  Roast Coffeehouse and Wine Bar   \n",
       "2  WKMJwqnfZKsAae75RMP6jA  Roast Coffeehouse and Wine Bar   \n",
       "3  WKMJwqnfZKsAae75RMP6jA  Roast Coffeehouse and Wine Bar   \n",
       "4  WKMJwqnfZKsAae75RMP6jA  Roast Coffeehouse and Wine Bar   \n",
       "\n",
       "               address      city state postal_code   latitude   longitude  \\\n",
       "0  10359 104 Street NW  Edmonton    AB     T5J 1B9  53.546045 -113.499169   \n",
       "1  10359 104 Street NW  Edmonton    AB     T5J 1B9  53.546045 -113.499169   \n",
       "2  10359 104 Street NW  Edmonton    AB     T5J 1B9  53.546045 -113.499169   \n",
       "3  10359 104 Street NW  Edmonton    AB     T5J 1B9  53.546045 -113.499169   \n",
       "4  10359 104 Street NW  Edmonton    AB     T5J 1B9  53.546045 -113.499169   \n",
       "\n",
       "   stars_x  review_count  ...  \\\n",
       "0      4.0            40  ...   \n",
       "1      4.0            40  ...   \n",
       "2      4.0            40  ...   \n",
       "3      4.0            40  ...   \n",
       "4      4.0            40  ...   \n",
       "\n",
       "                                          categories  \\\n",
       "0  Coffee & Tea, Food, Cafes, Bars, Wine Bars, Re...   \n",
       "1  Coffee & Tea, Food, Cafes, Bars, Wine Bars, Re...   \n",
       "2  Coffee & Tea, Food, Cafes, Bars, Wine Bars, Re...   \n",
       "3  Coffee & Tea, Food, Cafes, Bars, Wine Bars, Re...   \n",
       "4  Coffee & Tea, Food, Cafes, Bars, Wine Bars, Re...   \n",
       "\n",
       "                                               hours               review_id  \\\n",
       "0  {'Monday': '8:0-18:0', 'Tuesday': '8:0-18:0', ...  uwPhE21CZLlp1kkSMPvvYw   \n",
       "1  {'Monday': '8:0-18:0', 'Tuesday': '8:0-18:0', ...  bAy8ROEYO_3aTBhW5LoR4g   \n",
       "2  {'Monday': '8:0-18:0', 'Tuesday': '8:0-18:0', ...  zPDHE7TrXs7EJT06qD8yTA   \n",
       "3  {'Monday': '8:0-18:0', 'Tuesday': '8:0-18:0', ...  84niL3fvJMlFBE2hd2qOVQ   \n",
       "4  {'Monday': '8:0-18:0', 'Tuesday': '8:0-18:0', ...  pLnTjS90gUlsq2tAjI9prA   \n",
       "\n",
       "                  user_id stars_y useful  funny  cool  \\\n",
       "0  5OnQqP3q2_9auNdDKpLdsw       3      0      0     0   \n",
       "1  7qFH1RkPivVRcwxLwhyixg       4      2      0     1   \n",
       "2  FLeyjgc05C2V6QI9nVQ48Q       4      0      0     0   \n",
       "3  R-c5M0iJkMxxTxIqTQQZ8w       2      1      0     0   \n",
       "4  G3h8pIclwUbuu3itJqF7ug       4      7      0     4   \n",
       "\n",
       "                                                text                date  \n",
       "0  So much to like about this place--the beautifu... 2012-11-06 23:35:15  \n",
       "1  I'm not a coffee connoisseur so I'm not review... 2013-05-28 23:16:30  \n",
       "2  I really loved it here, makes me wish I lived ... 2013-09-04 19:49:33  \n",
       "3  The kids who work at Roast are friendly.  They... 2013-07-14 21:38:06  \n",
       "4  With a Toast to Roast, I say welcome to the E-... 2012-09-11 23:54:24  \n",
       "\n",
       "[5 rows x 22 columns]"
      ]
     },
     "execution_count": 2,
     "metadata": {},
     "output_type": "execute_result"
    }
   ],
   "source": [
    "#we look at the data to make sure that all information is there.\n",
    "df = pd.read_parquet('data/edmonton_cleaned.parquet', engine='auto')\n",
    "df.head(5)"
   ]
  },
  {
   "cell_type": "code",
   "execution_count": 3,
   "id": "49c122f0",
   "metadata": {},
   "outputs": [],
   "source": [
    "def plotter(df):\n",
    "    #It's plotting time. seaborn style.\n",
    "\n",
    "    fig , axes = plt.subplots(1,4,figsize = (24,8))\n",
    "    sns.barplot(data=df, x='stars_y', y= 'pos', ax=axes[0])\n",
    "    sns.barplot(data=df, x='stars_y', y= 'neg', ax=axes[1])\n",
    "    sns.barplot(data=df, x='stars_y', y= 'neu', ax=axes[2])\n",
    "    sns.barplot(data=df, x='stars_y', y= 'compound', ax=axes[3])\n",
    "\n",
    "    axes[0].set(xlabel='Review Given', ylabel='Positive Classification' )\n",
    "    axes[1].set(xlabel='Review Given', ylabel='Negative Classification')\n",
    "    axes[2].set(xlabel='Review Given', ylabel='Neutral Classification')\n",
    "\n",
    "\n",
    "    axes[0].set_title('Positive Reviews in relation to Stars')\n",
    "    axes[1].set_title('Negative Reviews in relation to Stars')\n",
    "    axes[2].set_title('Neutral Reviews in relation to Stars')\n",
    "    plt.show()\n",
    "    \n",
    "#plotter function for models"
   ]
  },
  {
   "cell_type": "markdown",
   "id": "cc0b6e34",
   "metadata": {},
   "source": [
    "## 1. VADER model\n",
    "\n",
    "VADER (Valence Aware Dictionary for sEntiment Reasoning) is a model used for sentiment analysis that is sensitive to both polarity(positive/negative) and intensity (strength) of emotions.\n",
    "\n",
    "citation:\n",
    "\n",
    "C. Hutto and E. Gilbert, “VADER: A Parsimonious Rule-Based Model for Sentiment Analysis of Social Media Text”, ICWSM, vol. 8, no. 1, pp. 216-225, May 2014.\n",
    "\n",
    "this kind of uses a bag of words approach:\n",
    "1. We remove stop words.\n",
    "2. We score each tokens(words) and combine the total score.\n",
    "\n",
    "<b>\n",
    "<p style=\"color:maroon\"> note with this technique, the relationship between words are removed, taking a very important part of the human speech. </p>\n",
    "</b>"
   ]
  },
  {
   "cell_type": "code",
   "execution_count": 4,
   "id": "b2bb394c",
   "metadata": {},
   "outputs": [],
   "source": [
    "from nltk.sentiment import SentimentIntensityAnalyzer\n",
    "from tqdm.notebook import tqdm\n",
    "\n",
    "sia = SentimentIntensityAnalyzer()\n",
    "#the analyzer object. we can run it on text and see analyzer."
   ]
  },
  {
   "cell_type": "code",
   "execution_count": 5,
   "id": "3a0c3ffd",
   "metadata": {},
   "outputs": [
    {
     "data": {
      "text/plain": [
       "{'neg': 0.0, 'neu': 0.358, 'pos': 0.642, 'compound': 0.8745}"
      ]
     },
     "execution_count": 5,
     "metadata": {},
     "output_type": "execute_result"
    }
   ],
   "source": [
    "examplepos = \"I love this bar! Best place ever yum!\"\n",
    "\n",
    "sia.polarity_scores(examplepos)\n",
    "\n",
    "#compound score give the compounding value of the sentence. \n",
    "#range is from -1 to 1. -1 is very negative, 1 is very positive."
   ]
  },
  {
   "cell_type": "code",
   "execution_count": 6,
   "id": "27d84d65",
   "metadata": {},
   "outputs": [
    {
     "data": {
      "text/plain": [
       "{'neg': 0.679, 'neu': 0.321, 'pos': 0.0, 'compound': -0.9136}"
      ]
     },
     "execution_count": 6,
     "metadata": {},
     "output_type": "execute_result"
    }
   ],
   "source": [
    "exampleneg = \"disgusting, I would never eat here again. Gross gross gross yuck.\"\n",
    "sia.polarity_scores(exampleneg)"
   ]
  },
  {
   "cell_type": "code",
   "execution_count": 7,
   "id": "505b6dad",
   "metadata": {},
   "outputs": [
    {
     "name": "stdout",
     "output_type": "stream",
     "text": [
      "So much to like about this place--the beautiful Mercer Building location, the spaciousness, the lovely, friendly baristas. But there are a couple of important cons for me. Biggest being, the music is constant and too loud, ruining everything you go to a coffee shop to do: read, work, reflect, or enjoy a good conversation. When I asked for it to be turned down, they told me they can't--it just plays at one level all the time, and the speakers  are everywhere so you can't get away from it. It sucks.\n",
      "\n",
      "Secondly, if you're a tea drinker, you're out of luck. They don't serve the tea in pots, but huge, sloppy individual filters--it makes your beverage totally ungainly, hard to drink and is really off putting.\n",
      "\n",
      "Pros: gluten free goodies and yummy Italian sodas. I'd love to spend more time here, but the music usually drives me out after 10 minutes.\n",
      "{'neg': 0.055, 'neu': 0.717, 'pos': 0.228, 'compound': 0.9862}\n"
     ]
    }
   ],
   "source": [
    "exampledf = df['text'][0]\n",
    "print(exampledf)\n",
    "print(sia.polarity_scores(exampledf))"
   ]
  },
  {
   "cell_type": "code",
   "execution_count": 8,
   "id": "9fee68ba",
   "metadata": {},
   "outputs": [
    {
     "name": "stdout",
     "output_type": "stream",
     "text": [
      "As several other reviewers have observed, this place looks very good. One wants to like it. The management, however, is so clueless that I have decided to permanently give it a pass. There are so many really good places in this area where the management knows how to retain good people that one need not spend time in a place where the servers seem to change on a daily basis.\n",
      "\n",
      "When I buy high-priced coffee, I like to have it in a real mug, not a cardboard cup that I could get at any fast-food joint. When the people here mistakenly put mine in a cardboard cup, I did not ask for a new coffee. Instead, I politely pointed it out in the hopes that they would get it right the next time. In return, I got an argument and nasty looks from the crew at the counter. Also, no matter now many people they have at the counter, they manage to keep even small groups of customers waiting on long lines.\n",
      "\n",
      "Yesterday was the kicker. I asked for a decaf coffee and told there was no decaf. Even your average diner will usually ask a customer if he or she wants to wait while they brew up a pot of decaf. And this is a fancy café? I then asked if they had decaf espresso and was told that this too was all out. The person telling me this clearly had no idea of her surroundings and thought she was working in some civil service office: nope, we ain't got it, too bad!\n",
      "\n",
      "With so many good options down the block, this place should stop relying on their decor.\n",
      "{'neg': 0.092, 'neu': 0.823, 'pos': 0.085, 'compound': -0.3041}\n"
     ]
    }
   ],
   "source": [
    "exampledf = df['text'][21]\n",
    "print(exampledf)\n",
    "print(sia.polarity_scores(exampledf))"
   ]
  },
  {
   "cell_type": "code",
   "execution_count": 22,
   "id": "6b0c9e80",
   "metadata": {},
   "outputs": [],
   "source": [
    "from sklearn.model_selection import train_test_split\n",
    "\n",
    "train, test = train_test_split(df, test_size=0.3)\n",
    "#we keep 30% for testing"
   ]
  },
  {
   "cell_type": "code",
   "execution_count": 23,
   "id": "4609a25c",
   "metadata": {},
   "outputs": [],
   "source": [
    "#trainer function for the dataframe, returns df with \n",
    "def trainerVader(df):\n",
    "    #creating a dict for the results of pos,neu,negative training.\n",
    "    res= {}\n",
    "    for i,row in tqdm(df.iterrows(),total=len(df)):\n",
    "        text = row['text']\n",
    "        Bid = row['business_id']\n",
    "        res[Bid] = sia.polarity_scores(text)\n",
    "    df = pd.DataFrame(res).T.reset_index().rename(columns={'index': 'business_id'})\n",
    "        \n",
    "    return df"
   ]
  },
  {
   "cell_type": "code",
   "execution_count": 24,
   "id": "6f68fb49",
   "metadata": {},
   "outputs": [
    {
     "data": {
      "application/vnd.jupyter.widget-view+json": {
       "model_id": "ddfbbb34ff1a40bda28ea16516b1a86f",
       "version_major": 2,
       "version_minor": 0
      },
      "text/plain": [
       "  0%|          | 0/47003 [00:00<?, ?it/s]"
      ]
     },
     "metadata": {},
     "output_type": "display_data"
    }
   ],
   "source": [
    "dfscorevaders = trainerVader(train)\n",
    "# 1 minute on 16 seconds training time on my desktop computer."
   ]
  },
  {
   "cell_type": "code",
   "execution_count": 25,
   "id": "8b275fe1",
   "metadata": {},
   "outputs": [],
   "source": [
    "dfscorevaders = dfscorevaders.merge(train,how = 'left')"
   ]
  },
  {
   "cell_type": "code",
   "execution_count": 26,
   "id": "6163db58",
   "metadata": {},
   "outputs": [
    {
     "data": {
      "text/html": [
       "<div>\n",
       "<style scoped>\n",
       "    .dataframe tbody tr th:only-of-type {\n",
       "        vertical-align: middle;\n",
       "    }\n",
       "\n",
       "    .dataframe tbody tr th {\n",
       "        vertical-align: top;\n",
       "    }\n",
       "\n",
       "    .dataframe thead th {\n",
       "        text-align: right;\n",
       "    }\n",
       "</style>\n",
       "<table border=\"1\" class=\"dataframe\">\n",
       "  <thead>\n",
       "    <tr style=\"text-align: right;\">\n",
       "      <th></th>\n",
       "      <th>business_id</th>\n",
       "      <th>neg</th>\n",
       "      <th>neu</th>\n",
       "      <th>pos</th>\n",
       "      <th>compound</th>\n",
       "      <th>name</th>\n",
       "      <th>address</th>\n",
       "      <th>city</th>\n",
       "      <th>state</th>\n",
       "      <th>postal_code</th>\n",
       "      <th>...</th>\n",
       "      <th>categories</th>\n",
       "      <th>hours</th>\n",
       "      <th>review_id</th>\n",
       "      <th>user_id</th>\n",
       "      <th>stars_y</th>\n",
       "      <th>useful</th>\n",
       "      <th>funny</th>\n",
       "      <th>cool</th>\n",
       "      <th>text</th>\n",
       "      <th>date</th>\n",
       "    </tr>\n",
       "  </thead>\n",
       "  <tbody>\n",
       "    <tr>\n",
       "      <th>0</th>\n",
       "      <td>qoD6-nDDfEuNPRJipJxpOA</td>\n",
       "      <td>0.019</td>\n",
       "      <td>0.774</td>\n",
       "      <td>0.207</td>\n",
       "      <td>0.9713</td>\n",
       "      <td>OEB Breakfast</td>\n",
       "      <td>10174 100A Street</td>\n",
       "      <td>Edmonton</td>\n",
       "      <td>AB</td>\n",
       "      <td>T5J 0H3</td>\n",
       "      <td>...</td>\n",
       "      <td>Breakfast &amp; Brunch, Restaurants</td>\n",
       "      <td>{'Monday': '0:0-0:0', 'Tuesday': '8:0-14:45', ...</td>\n",
       "      <td>8b_K8GQ0liQXEvSDngJt0Q</td>\n",
       "      <td>qley6BLcmK9a4Z9QXg1bwA</td>\n",
       "      <td>4</td>\n",
       "      <td>1</td>\n",
       "      <td>0</td>\n",
       "      <td>0</td>\n",
       "      <td>Location can be tough for parking, especially ...</td>\n",
       "      <td>2019-02-25 20:05:37</td>\n",
       "    </tr>\n",
       "    <tr>\n",
       "      <th>1</th>\n",
       "      <td>qoD6-nDDfEuNPRJipJxpOA</td>\n",
       "      <td>0.019</td>\n",
       "      <td>0.774</td>\n",
       "      <td>0.207</td>\n",
       "      <td>0.9713</td>\n",
       "      <td>OEB Breakfast</td>\n",
       "      <td>10174 100A Street</td>\n",
       "      <td>Edmonton</td>\n",
       "      <td>AB</td>\n",
       "      <td>T5J 0H3</td>\n",
       "      <td>...</td>\n",
       "      <td>Breakfast &amp; Brunch, Restaurants</td>\n",
       "      <td>{'Monday': '0:0-0:0', 'Tuesday': '8:0-14:45', ...</td>\n",
       "      <td>SBVE36nDOkp716LSmHXBMA</td>\n",
       "      <td>vmV33I-KrkItfw4fCGJjyg</td>\n",
       "      <td>5</td>\n",
       "      <td>0</td>\n",
       "      <td>0</td>\n",
       "      <td>0</td>\n",
       "      <td>Great place to breakfast. Very chic. The lobst...</td>\n",
       "      <td>2019-09-07 17:30:54</td>\n",
       "    </tr>\n",
       "    <tr>\n",
       "      <th>2</th>\n",
       "      <td>qoD6-nDDfEuNPRJipJxpOA</td>\n",
       "      <td>0.019</td>\n",
       "      <td>0.774</td>\n",
       "      <td>0.207</td>\n",
       "      <td>0.9713</td>\n",
       "      <td>OEB Breakfast</td>\n",
       "      <td>10174 100A Street</td>\n",
       "      <td>Edmonton</td>\n",
       "      <td>AB</td>\n",
       "      <td>T5J 0H3</td>\n",
       "      <td>...</td>\n",
       "      <td>Breakfast &amp; Brunch, Restaurants</td>\n",
       "      <td>{'Monday': '0:0-0:0', 'Tuesday': '8:0-14:45', ...</td>\n",
       "      <td>V4bYR3QusR6tw_tVJQXgKg</td>\n",
       "      <td>FUEj72GgelQrBWh6TDYaOA</td>\n",
       "      <td>4</td>\n",
       "      <td>0</td>\n",
       "      <td>0</td>\n",
       "      <td>0</td>\n",
       "      <td>Try the poutine - just beyond. Best holindase ...</td>\n",
       "      <td>2019-06-17 19:36:34</td>\n",
       "    </tr>\n",
       "    <tr>\n",
       "      <th>3</th>\n",
       "      <td>qoD6-nDDfEuNPRJipJxpOA</td>\n",
       "      <td>0.019</td>\n",
       "      <td>0.774</td>\n",
       "      <td>0.207</td>\n",
       "      <td>0.9713</td>\n",
       "      <td>OEB Breakfast</td>\n",
       "      <td>10174 100A Street</td>\n",
       "      <td>Edmonton</td>\n",
       "      <td>AB</td>\n",
       "      <td>T5J 0H3</td>\n",
       "      <td>...</td>\n",
       "      <td>Breakfast &amp; Brunch, Restaurants</td>\n",
       "      <td>{'Monday': '0:0-0:0', 'Tuesday': '8:0-14:45', ...</td>\n",
       "      <td>9p4ge3ZXuI9K9Q_siZa1qw</td>\n",
       "      <td>BmkW3AEVsF5RvL5dHRHHsg</td>\n",
       "      <td>4</td>\n",
       "      <td>1</td>\n",
       "      <td>0</td>\n",
       "      <td>0</td>\n",
       "      <td>Great place to hang out with friends on a satu...</td>\n",
       "      <td>2018-12-24 03:03:51</td>\n",
       "    </tr>\n",
       "    <tr>\n",
       "      <th>4</th>\n",
       "      <td>qoD6-nDDfEuNPRJipJxpOA</td>\n",
       "      <td>0.019</td>\n",
       "      <td>0.774</td>\n",
       "      <td>0.207</td>\n",
       "      <td>0.9713</td>\n",
       "      <td>OEB Breakfast</td>\n",
       "      <td>10174 100A Street</td>\n",
       "      <td>Edmonton</td>\n",
       "      <td>AB</td>\n",
       "      <td>T5J 0H3</td>\n",
       "      <td>...</td>\n",
       "      <td>Breakfast &amp; Brunch, Restaurants</td>\n",
       "      <td>{'Monday': '0:0-0:0', 'Tuesday': '8:0-14:45', ...</td>\n",
       "      <td>WA_BCKA_EgjLnvsyyHdiUg</td>\n",
       "      <td>GgvDaphMJy8RMnaggwMQhA</td>\n",
       "      <td>5</td>\n",
       "      <td>1</td>\n",
       "      <td>0</td>\n",
       "      <td>0</td>\n",
       "      <td>OEB and Yelp are great match!!!\\nMy first time...</td>\n",
       "      <td>2020-01-21 23:07:51</td>\n",
       "    </tr>\n",
       "    <tr>\n",
       "      <th>...</th>\n",
       "      <td>...</td>\n",
       "      <td>...</td>\n",
       "      <td>...</td>\n",
       "      <td>...</td>\n",
       "      <td>...</td>\n",
       "      <td>...</td>\n",
       "      <td>...</td>\n",
       "      <td>...</td>\n",
       "      <td>...</td>\n",
       "      <td>...</td>\n",
       "      <td>...</td>\n",
       "      <td>...</td>\n",
       "      <td>...</td>\n",
       "      <td>...</td>\n",
       "      <td>...</td>\n",
       "      <td>...</td>\n",
       "      <td>...</td>\n",
       "      <td>...</td>\n",
       "      <td>...</td>\n",
       "      <td>...</td>\n",
       "      <td>...</td>\n",
       "    </tr>\n",
       "    <tr>\n",
       "      <th>46998</th>\n",
       "      <td>d0kmmhxGXPUvOiY7w9-9Jw</td>\n",
       "      <td>0.130</td>\n",
       "      <td>0.816</td>\n",
       "      <td>0.055</td>\n",
       "      <td>-0.7984</td>\n",
       "      <td>Meiningful Fusion Restaurant</td>\n",
       "      <td>10338 81st Avenue NW</td>\n",
       "      <td>Edmonton</td>\n",
       "      <td>AB</td>\n",
       "      <td>T6E 1X2</td>\n",
       "      <td>...</td>\n",
       "      <td>Asian Fusion, Restaurants, Karaoke, Nightlife,...</td>\n",
       "      <td>{'Monday': '11:0-22:0', 'Tuesday': '11:0-22:0'...</td>\n",
       "      <td>KW8UxlScQyA6oSJqxoQykQ</td>\n",
       "      <td>3oT-wLj8vNBhWGKlCvfCxA</td>\n",
       "      <td>1</td>\n",
       "      <td>1</td>\n",
       "      <td>0</td>\n",
       "      <td>0</td>\n",
       "      <td>Don't order from this place on Skip The Dishes...</td>\n",
       "      <td>2017-08-16 02:13:48</td>\n",
       "    </tr>\n",
       "    <tr>\n",
       "      <th>46999</th>\n",
       "      <td>d0kmmhxGXPUvOiY7w9-9Jw</td>\n",
       "      <td>0.130</td>\n",
       "      <td>0.816</td>\n",
       "      <td>0.055</td>\n",
       "      <td>-0.7984</td>\n",
       "      <td>Meiningful Fusion Restaurant</td>\n",
       "      <td>10338 81st Avenue NW</td>\n",
       "      <td>Edmonton</td>\n",
       "      <td>AB</td>\n",
       "      <td>T6E 1X2</td>\n",
       "      <td>...</td>\n",
       "      <td>Asian Fusion, Restaurants, Karaoke, Nightlife,...</td>\n",
       "      <td>{'Monday': '11:0-22:0', 'Tuesday': '11:0-22:0'...</td>\n",
       "      <td>277ocTHSlaM30ur3PupcFQ</td>\n",
       "      <td>iKySrNjBDOrJen5gICn7kA</td>\n",
       "      <td>1</td>\n",
       "      <td>0</td>\n",
       "      <td>0</td>\n",
       "      <td>0</td>\n",
       "      <td>I ordered tomato fish pot for take out. And ho...</td>\n",
       "      <td>2017-08-19 22:45:30</td>\n",
       "    </tr>\n",
       "    <tr>\n",
       "      <th>47000</th>\n",
       "      <td>iD2u4XbAu7dsWHXFOlfx_g</td>\n",
       "      <td>0.015</td>\n",
       "      <td>0.750</td>\n",
       "      <td>0.235</td>\n",
       "      <td>0.9838</td>\n",
       "      <td>Culina To Go</td>\n",
       "      <td>12019 A 102 Avenue</td>\n",
       "      <td>Edmonton</td>\n",
       "      <td>AB</td>\n",
       "      <td>T5K 0R8</td>\n",
       "      <td>...</td>\n",
       "      <td>Restaurants, Sandwiches, Event Planning &amp; Serv...</td>\n",
       "      <td>{'Monday': '10:0-18:0', 'Tuesday': '10:0-18:0'...</td>\n",
       "      <td>oLi9LO0Q2_Xpiei-chJeAg</td>\n",
       "      <td>PBEMX_BYOqxwul8eguVd7Q</td>\n",
       "      <td>5</td>\n",
       "      <td>0</td>\n",
       "      <td>0</td>\n",
       "      <td>0</td>\n",
       "      <td>Culina to Go makes me realize I've come to exp...</td>\n",
       "      <td>2019-06-21 04:59:29</td>\n",
       "    </tr>\n",
       "    <tr>\n",
       "      <th>47001</th>\n",
       "      <td>EAnolhCCaHz4UC8tTBAmuQ</td>\n",
       "      <td>0.067</td>\n",
       "      <td>0.676</td>\n",
       "      <td>0.257</td>\n",
       "      <td>0.8735</td>\n",
       "      <td>Marble Slab Oxford</td>\n",
       "      <td>15274 - 127 Street NW</td>\n",
       "      <td>Edmonton</td>\n",
       "      <td>AB</td>\n",
       "      <td>T6V 0C5</td>\n",
       "      <td>...</td>\n",
       "      <td>Food, Ice Cream &amp; Frozen Yogurt</td>\n",
       "      <td>{'Monday': '12:0-21:0', 'Tuesday': '12:0-21:0'...</td>\n",
       "      <td>UJMnz83n8OFEWsc63BsgsQ</td>\n",
       "      <td>kRlC4Got8Uo9RHdEcWVMuA</td>\n",
       "      <td>4</td>\n",
       "      <td>2</td>\n",
       "      <td>0</td>\n",
       "      <td>1</td>\n",
       "      <td>Creamy, cold, flavourful and sweet. There is n...</td>\n",
       "      <td>2016-04-04 20:02:29</td>\n",
       "    </tr>\n",
       "    <tr>\n",
       "      <th>47002</th>\n",
       "      <td>EAnolhCCaHz4UC8tTBAmuQ</td>\n",
       "      <td>0.067</td>\n",
       "      <td>0.676</td>\n",
       "      <td>0.257</td>\n",
       "      <td>0.8735</td>\n",
       "      <td>Marble Slab Oxford</td>\n",
       "      <td>15274 - 127 Street NW</td>\n",
       "      <td>Edmonton</td>\n",
       "      <td>AB</td>\n",
       "      <td>T6V 0C5</td>\n",
       "      <td>...</td>\n",
       "      <td>Food, Ice Cream &amp; Frozen Yogurt</td>\n",
       "      <td>{'Monday': '12:0-21:0', 'Tuesday': '12:0-21:0'...</td>\n",
       "      <td>OUBS4cibP0_4BU3MatTT0w</td>\n",
       "      <td>KT5nUNdgVFGZP3ewI-r7cA</td>\n",
       "      <td>3</td>\n",
       "      <td>0</td>\n",
       "      <td>0</td>\n",
       "      <td>0</td>\n",
       "      <td>Great ice cream but the place is dirty. The fl...</td>\n",
       "      <td>2019-04-22 22:35:24</td>\n",
       "    </tr>\n",
       "  </tbody>\n",
       "</table>\n",
       "<p>47003 rows × 26 columns</p>\n",
       "</div>"
      ],
      "text/plain": [
       "                  business_id    neg    neu    pos  compound  \\\n",
       "0      qoD6-nDDfEuNPRJipJxpOA  0.019  0.774  0.207    0.9713   \n",
       "1      qoD6-nDDfEuNPRJipJxpOA  0.019  0.774  0.207    0.9713   \n",
       "2      qoD6-nDDfEuNPRJipJxpOA  0.019  0.774  0.207    0.9713   \n",
       "3      qoD6-nDDfEuNPRJipJxpOA  0.019  0.774  0.207    0.9713   \n",
       "4      qoD6-nDDfEuNPRJipJxpOA  0.019  0.774  0.207    0.9713   \n",
       "...                       ...    ...    ...    ...       ...   \n",
       "46998  d0kmmhxGXPUvOiY7w9-9Jw  0.130  0.816  0.055   -0.7984   \n",
       "46999  d0kmmhxGXPUvOiY7w9-9Jw  0.130  0.816  0.055   -0.7984   \n",
       "47000  iD2u4XbAu7dsWHXFOlfx_g  0.015  0.750  0.235    0.9838   \n",
       "47001  EAnolhCCaHz4UC8tTBAmuQ  0.067  0.676  0.257    0.8735   \n",
       "47002  EAnolhCCaHz4UC8tTBAmuQ  0.067  0.676  0.257    0.8735   \n",
       "\n",
       "                               name                address      city state  \\\n",
       "0                     OEB Breakfast      10174 100A Street  Edmonton    AB   \n",
       "1                     OEB Breakfast      10174 100A Street  Edmonton    AB   \n",
       "2                     OEB Breakfast      10174 100A Street  Edmonton    AB   \n",
       "3                     OEB Breakfast      10174 100A Street  Edmonton    AB   \n",
       "4                     OEB Breakfast      10174 100A Street  Edmonton    AB   \n",
       "...                             ...                    ...       ...   ...   \n",
       "46998  Meiningful Fusion Restaurant   10338 81st Avenue NW  Edmonton    AB   \n",
       "46999  Meiningful Fusion Restaurant   10338 81st Avenue NW  Edmonton    AB   \n",
       "47000                  Culina To Go     12019 A 102 Avenue  Edmonton    AB   \n",
       "47001            Marble Slab Oxford  15274 - 127 Street NW  Edmonton    AB   \n",
       "47002            Marble Slab Oxford  15274 - 127 Street NW  Edmonton    AB   \n",
       "\n",
       "      postal_code  ...                                         categories  \\\n",
       "0         T5J 0H3  ...                    Breakfast & Brunch, Restaurants   \n",
       "1         T5J 0H3  ...                    Breakfast & Brunch, Restaurants   \n",
       "2         T5J 0H3  ...                    Breakfast & Brunch, Restaurants   \n",
       "3         T5J 0H3  ...                    Breakfast & Brunch, Restaurants   \n",
       "4         T5J 0H3  ...                    Breakfast & Brunch, Restaurants   \n",
       "...           ...  ...                                                ...   \n",
       "46998     T6E 1X2  ...  Asian Fusion, Restaurants, Karaoke, Nightlife,...   \n",
       "46999     T6E 1X2  ...  Asian Fusion, Restaurants, Karaoke, Nightlife,...   \n",
       "47000     T5K 0R8  ...  Restaurants, Sandwiches, Event Planning & Serv...   \n",
       "47001     T6V 0C5  ...                    Food, Ice Cream & Frozen Yogurt   \n",
       "47002     T6V 0C5  ...                    Food, Ice Cream & Frozen Yogurt   \n",
       "\n",
       "                                                   hours  \\\n",
       "0      {'Monday': '0:0-0:0', 'Tuesday': '8:0-14:45', ...   \n",
       "1      {'Monday': '0:0-0:0', 'Tuesday': '8:0-14:45', ...   \n",
       "2      {'Monday': '0:0-0:0', 'Tuesday': '8:0-14:45', ...   \n",
       "3      {'Monday': '0:0-0:0', 'Tuesday': '8:0-14:45', ...   \n",
       "4      {'Monday': '0:0-0:0', 'Tuesday': '8:0-14:45', ...   \n",
       "...                                                  ...   \n",
       "46998  {'Monday': '11:0-22:0', 'Tuesday': '11:0-22:0'...   \n",
       "46999  {'Monday': '11:0-22:0', 'Tuesday': '11:0-22:0'...   \n",
       "47000  {'Monday': '10:0-18:0', 'Tuesday': '10:0-18:0'...   \n",
       "47001  {'Monday': '12:0-21:0', 'Tuesday': '12:0-21:0'...   \n",
       "47002  {'Monday': '12:0-21:0', 'Tuesday': '12:0-21:0'...   \n",
       "\n",
       "                    review_id                 user_id  stars_y useful funny  \\\n",
       "0      8b_K8GQ0liQXEvSDngJt0Q  qley6BLcmK9a4Z9QXg1bwA        4      1     0   \n",
       "1      SBVE36nDOkp716LSmHXBMA  vmV33I-KrkItfw4fCGJjyg        5      0     0   \n",
       "2      V4bYR3QusR6tw_tVJQXgKg  FUEj72GgelQrBWh6TDYaOA        4      0     0   \n",
       "3      9p4ge3ZXuI9K9Q_siZa1qw  BmkW3AEVsF5RvL5dHRHHsg        4      1     0   \n",
       "4      WA_BCKA_EgjLnvsyyHdiUg  GgvDaphMJy8RMnaggwMQhA        5      1     0   \n",
       "...                       ...                     ...      ...    ...   ...   \n",
       "46998  KW8UxlScQyA6oSJqxoQykQ  3oT-wLj8vNBhWGKlCvfCxA        1      1     0   \n",
       "46999  277ocTHSlaM30ur3PupcFQ  iKySrNjBDOrJen5gICn7kA        1      0     0   \n",
       "47000  oLi9LO0Q2_Xpiei-chJeAg  PBEMX_BYOqxwul8eguVd7Q        5      0     0   \n",
       "47001  UJMnz83n8OFEWsc63BsgsQ  kRlC4Got8Uo9RHdEcWVMuA        4      2     0   \n",
       "47002  OUBS4cibP0_4BU3MatTT0w  KT5nUNdgVFGZP3ewI-r7cA        3      0     0   \n",
       "\n",
       "      cool                                               text  \\\n",
       "0        0  Location can be tough for parking, especially ...   \n",
       "1        0  Great place to breakfast. Very chic. The lobst...   \n",
       "2        0  Try the poutine - just beyond. Best holindase ...   \n",
       "3        0  Great place to hang out with friends on a satu...   \n",
       "4        0  OEB and Yelp are great match!!!\\nMy first time...   \n",
       "...    ...                                                ...   \n",
       "46998    0  Don't order from this place on Skip The Dishes...   \n",
       "46999    0  I ordered tomato fish pot for take out. And ho...   \n",
       "47000    0  Culina to Go makes me realize I've come to exp...   \n",
       "47001    1  Creamy, cold, flavourful and sweet. There is n...   \n",
       "47002    0  Great ice cream but the place is dirty. The fl...   \n",
       "\n",
       "                     date  \n",
       "0     2019-02-25 20:05:37  \n",
       "1     2019-09-07 17:30:54  \n",
       "2     2019-06-17 19:36:34  \n",
       "3     2018-12-24 03:03:51  \n",
       "4     2020-01-21 23:07:51  \n",
       "...                   ...  \n",
       "46998 2017-08-16 02:13:48  \n",
       "46999 2017-08-19 22:45:30  \n",
       "47000 2019-06-21 04:59:29  \n",
       "47001 2016-04-04 20:02:29  \n",
       "47002 2019-04-22 22:35:24  \n",
       "\n",
       "[47003 rows x 26 columns]"
      ]
     },
     "execution_count": 26,
     "metadata": {},
     "output_type": "execute_result"
    }
   ],
   "source": [
    "dfscorevaders"
   ]
  },
  {
   "cell_type": "code",
   "execution_count": 29,
   "id": "8fa55e03",
   "metadata": {},
   "outputs": [
    {
     "data": {
      "image/png": "[encoded data removed]",
      "text/plain": [
       "<Figure size 1728x576 with 4 Axes>"
      ]
     },
     "metadata": {
      "needs_background": "light"
     },
     "output_type": "display_data"
    }
   ],
   "source": [
    "plotter(dfscorevaders)"
   ]
  },
  {
   "cell_type": "code",
   "execution_count": 28,
   "id": "9857ae6b",
   "metadata": {},
   "outputs": [
    {
     "data": {
      "application/vnd.jupyter.widget-view+json": {
       "model_id": "20290f655f7a4bd89a29001baa788009",
       "version_major": 2,
       "version_minor": 0
      },
      "text/plain": [
       "  0%|          | 0/20145 [00:00<?, ?it/s]"
      ]
     },
     "metadata": {},
     "output_type": "display_data"
    }
   ],
   "source": [
    "dfscoreVaderTest = trainerVader(test)"
   ]
  },
  {
   "cell_type": "code",
   "execution_count": 30,
   "id": "ed5d4fad",
   "metadata": {},
   "outputs": [
    {
     "data": {
      "image/png": "[encoded data removed]",
      "text/plain": [
       "<Figure size 1728x576 with 4 Axes>"
      ]
     },
     "metadata": {
      "needs_background": "light"
     },
     "output_type": "display_data"
    }
   ],
   "source": [
    "dfscoreVaderTest = dfscoreVaderTest.merge(test,how = 'left')\n",
    "plotter(dfscoreVaderTest)"
   ]
  },
  {
   "cell_type": "markdown",
   "id": "eaf9f439",
   "metadata": {},
   "source": [
    "<b><p style=\"color:blue\">Test data agrees with train data, and also classifies properly, with proportionally lower stars the negative sentiment goes up, and positive classification goes up as stars goes up</p></b>"
   ]
  },
  {
   "cell_type": "markdown",
   "id": "84206050",
   "metadata": {},
   "source": [
    "<b><p style=\"color:maroon\">Based on the plots above, looks like negative reviews does make a difference in relation to stars.\n",
    "    though the positive side, the vader scoring is not as strong of a model with the data on hand</p></b>"
   ]
  },
  {
   "cell_type": "markdown",
   "id": "df3da7a9",
   "metadata": {},
   "source": [
    "## 2. RoBERTa NLP models\n",
    "RoBERTa: A Robustly Optimized BERT Pretraining Approach\n",
    "\n",
    "cite: \n",
    "arXiv:1907.11692 [cs.CL]\n",
    "(or arXiv:1907.11692v1 [cs.CL] for this version)\n",
    "https://doi.org/10.48550/arXiv.1907.11692\n",
    "\n",
    "These models are researched and links sentiment scoring to related words in the model sentence."
   ]
  },
  {
   "cell_type": "code",
   "execution_count": null,
   "id": "735ba77b",
   "metadata": {},
   "outputs": [],
   "source": [
    "#note: must have transformers installed from hugging-face & pytorch by META AI\n",
    "#pip install transformers\n",
    "#pip install torch"
   ]
  },
  {
   "cell_type": "code",
   "execution_count": 31,
   "id": "056d1700",
   "metadata": {},
   "outputs": [],
   "source": [
    "from transformers import AutoTokenizer\n",
    "from transformers import AutoModelForSequenceClassification\n",
    "from scipy.special import softmax"
   ]
  },
  {
   "cell_type": "code",
   "execution_count": 32,
   "id": "c426bdd1",
   "metadata": {},
   "outputs": [],
   "source": [
    "model = f\"cardiffnlp/twitter-roberta-base-sentiment\"\n",
    "tokenizer = AutoTokenizer.from_pretrained(model)\n",
    "model = AutoModelForSequenceClassification.from_pretrained(model)"
   ]
  },
  {
   "cell_type": "code",
   "execution_count": 33,
   "id": "7d11f7dc",
   "metadata": {},
   "outputs": [
    {
     "name": "stdout",
     "output_type": "stream",
     "text": [
      "example sentence:  I love this bar! Best place ever yum!\n",
      "tensor([[-1.9768, -1.2123,  4.0664]], grad_fn=<AddmmBackward0>)\n"
     ]
    }
   ],
   "source": [
    "#prints the data to a tensor object.\n",
    "encoded_sample = tokenizer(examplepos,return_tensors='pt')\n",
    "outputpos = model(**encoded_sample)\n",
    "print(\"example sentence: \", examplepos)\n",
    "print(outputpos.logits)\n",
    "#here we can see a tensor object with probability values neg, neutral,positive, with backpropgation for the gradient fn."
   ]
  },
  {
   "cell_type": "code",
   "execution_count": 34,
   "id": "edfa63a2",
   "metadata": {},
   "outputs": [
    {
     "name": "stdout",
     "output_type": "stream",
     "text": [
      "example sentence:  I love this bar! Best place ever yum!\n",
      "tensor([[ 3.1243, -0.8634, -2.4053]], grad_fn=<AddmmBackward0>)\n"
     ]
    }
   ],
   "source": [
    "#prints the data to a tensor object.\n",
    "encoded_sample = tokenizer(exampleneg,return_tensors='pt')\n",
    "outputneg = model(**encoded_sample)\n",
    "print(\"example sentence: \", examplepos)\n",
    "print(outputneg.logits)\n",
    "#here we can see a tensor object with probability values neg, neutral,positive, with backpropgation for the gradient fn."
   ]
  },
  {
   "cell_type": "code",
   "execution_count": 35,
   "id": "67887559",
   "metadata": {},
   "outputs": [
    {
     "name": "stdout",
     "output_type": "stream",
     "text": [
      "disgusting, I would never eat here again. Gross gross gross yuck.\n",
      "{'neg': 0.97798574, 'neu': 0.018133963, 'pos': 0.0038802617}\n",
      "I love this bar! Best place ever yum!\n",
      "{'neg': 0.00235627, 'neu': 0.0050610565, 'pos': 0.9925828}\n"
     ]
    }
   ],
   "source": [
    "#we convert the tensor object to a numpy for analysis\n",
    "scorespos = outputpos[0][0].detach().numpy()\n",
    "scoresneg = outputneg[0][0].detach().numpy()\n",
    "#adding softmax layer for last part of NN.\n",
    "scorespos = softmax(scorespos)\n",
    "scoresneg = softmax(scoresneg)\n",
    "\n",
    "encoded_sample = tokenizer(exampleneg,return_tensors='pt')\n",
    "output = model(**encoded_sample)\n",
    "scores = output[0][0].detach().numpy()\n",
    "scores = softmax(scores)\n",
    "scores_dict_neg = {\n",
    "    'neg' : scoresneg[0],\n",
    "    'neu' : scoresneg[1],\n",
    "    'pos' : scoresneg[2]\n",
    "}\n",
    "\n",
    "scores_dict_pos = {\n",
    "    'neg' : scorespos[0],\n",
    "    'neu' : scorespos[1],\n",
    "    'pos' : scorespos[2]\n",
    "}\n",
    "\n",
    "\n",
    "print(exampleneg)\n",
    "print(scores_dict_neg)\n",
    "\n",
    "print(examplepos)\n",
    "print(scores_dict_pos)\n",
    "\n",
    "\n",
    "\n",
    "#here we can see that it is much more accurate than the VADER technique.\n",
    "#We are now going to put this model on a function for general access."
   ]
  },
  {
   "cell_type": "code",
   "execution_count": 36,
   "id": "3121413b",
   "metadata": {},
   "outputs": [],
   "source": [
    "def polarity_score(text):\n",
    "    \n",
    "    encoded_text = tokenizer(text,return_tensors='pt', truncation=True, max_length=512)\n",
    "    #encoded_text = tokenizer(text,return_tensors='pt')\n",
    "    output = model(**encoded_text)\n",
    "    scores = output[0][0].detach().numpy()\n",
    "    scores = softmax(scores)\n",
    "    \n",
    "    scores_dict = {\n",
    "    'neg' : scores[0],\n",
    "    'neu' : scores[1],\n",
    "    'pos' : scores[2]\n",
    "    }\n",
    "    \n",
    "    return scores_dict\n",
    "\n",
    "    "
   ]
  },
  {
   "cell_type": "code",
   "execution_count": 37,
   "id": "955bf173",
   "metadata": {},
   "outputs": [
    {
     "name": "stdout",
     "output_type": "stream",
     "text": [
      "So much to like about this place--the beautiful Mercer Building location, the spaciousness, the lovely, friendly baristas. But there are a couple of important cons for me. Biggest being, the music is constant and too loud, ruining everything you go to a coffee shop to do: read, work, reflect, or enjoy a good conversation. When I asked for it to be turned down, they told me they can't--it just plays at one level all the time, and the speakers  are everywhere so you can't get away from it. It sucks.\n",
      "\n",
      "Secondly, if you're a tea drinker, you're out of luck. They don't serve the tea in pots, but huge, sloppy individual filters--it makes your beverage totally ungainly, hard to drink and is really off putting.\n",
      "\n",
      "Pros: gluten free goodies and yummy Italian sodas. I'd love to spend more time here, but the music usually drives me out after 10 minutes.\n",
      "{'neg': 0.70344096, 'neu': 0.20645857, 'pos': 0.090100564}\n"
     ]
    }
   ],
   "source": [
    "print(train['text'][0])\n",
    "print(polarity_score(train['text'][0]))"
   ]
  },
  {
   "cell_type": "code",
   "execution_count": 38,
   "id": "ee492b56",
   "metadata": {},
   "outputs": [
    {
     "name": "stdout",
     "output_type": "stream",
     "text": [
      "When you think of pretzels you likely think of the little hard kind that come in a bag (kinda like chips) or the ones that hang in those spinner machines (covered in salt) at sporting events. Unfortunately in Canada, that's generally the extent of our pretzel experience. Thankfully Zwick's is on the scene to forever change Edmonton's severely lacking pretzel scene. It's something that you didn't even know that you needed. (But you absolutely do!) They were even featured on Big Food Bucket List in season two!\n",
      "\n",
      "You'll find Zwick's in Westmount (in a small area that is particularly packed with amazing food) and you'll spot their tiny location when you see their turquoise signage. The space is very small and there isn't much to it. The walls are painted with black chalkboard paint, turning almost every inch of wall space into the menu. (Whoever writes the menu has very nice printing!) There's a large communal table that takes up the rest of the tiny space, which makes it possible to eat-in should you want to. The staff is friendly and the restaurant is almost always lined up and busy. I visited on a Saturday evening with full intentions of building an entire dinner meal out of pretzels.\n",
      "Each pretzel is made fresh-to-order so sometimes there's a bit of a wait while your food gets prepared. Because of this, Zwick's will give you a buzzer so that you can wait outside (again, the inside space is very small) which will alert you once your food is ready.\n",
      "I started my journey with a drink and was delighted to find an array of housemade sodas on the menu - but especially the Strawberry Apple Shrub ($3.00). As far as I know, Zwick's is the only place in Edmonton that serves shrub, which is very exciting. What is \"shrub\" you ask? Now stay with me because this is going to get a bit weird. Shrub is a drinking vinegar. The acidic syrup is mixed with fruit creating a beverage that is full of depth and complexity. It's really interesting; you get that slight vinegar flavour but it's incredibly enjoyable. Non-alcoholic cocktails have come a very long way in recent years. The shrub at Zwick's is truly wonderful and refreshing, and I loved the way that it tasted like real, fresh strawberries. (Plus vinegar and strawberries are totally friends already - have you tried balsamic black pepper strawberries? They're fabulous.)\n",
      "\n",
      "Next, let's talk about the pretzels. These dough twists originated in Germany and have been around for a very long time. Zwick's makes regular-sized pretzels but also nubs that come in a bag, all hand-rolled. There are basic, dusted, and cheese varieties (ten different flavours in total!). Personally, I'm a huge fan of the cheese pretzels... Because CHEESE! There are three different Cheese Pretzels ($3.00 each) and I ordered one of each for a full \"flight\" of cheese pretzels. (I highly recommend doing this for maximum life enjoyment.) They also offer eleven different Dips ($1.00 each) which are a must. Each pretzel is freshly baked, warm and soft, and positively covered in cheese. If you're a fan of crispy fried cheese bits (who isn't?) this is the snack for you. First up, the Spicy Scallion & Mozza, which is probably the most popular pretzel at Zwick's. Covered in a garlic chili sauce, mozzarella, scallions, baked, and then painted with garlic butter... This pretzel is a masterpiece. It's got heat and is packed with flavour. I love this one. Next is the Guajillo Feta, which I also loved. The guajillo chili brings a light heat and I enjoyed the saltiness from the feta. Lastly, the Cheddar & Black Pepper feels like a great classic. I mean, melty cheddar cheese? It doesn't get much better. All three of these pretzels are absolutely perfect. There are a lot of dips to choose from and I grabbed the Zesty Tomato and Dill & Onion Cream. They were both very delicious and complimented the pretzels well. (They also have cheese dips if you want even more cheese.)\n",
      "\n",
      "I wanted to order something from the Sides section of the menu to round out our meal. The Dill, Pea & Potato Salad ($3.50) seemed like a good bet. This simple salad was decently nice. The potato chunks were tender and I liked the pops of bright green peas. I would have liked it to be a bit more flavourful but this was a good way to make the meal feel like more than just bread products.\n",
      "\n",
      "Next, I rolled on over to the Sausages section because I absolutely had to try the Pizza Zweenie (Zweenie topped with zesty tomato sauce, mozzarella, parmesan & pepperoni - $7.00), which is something new that they've recently started serving. It's a smoked pork weenie on pretzel bun - covered in pizza toppings! The weenie itself was very juicy, flavourful, and nicely snappy. And you certainly can't go wrong with heaping amounts of pizza stuff. I really liked the tiny pepperoni. You know that your mouth wants this.\n",
      "\n",
      "I saved the best for last. It's time for the best thing on the menu at Zwick's: from the Sandwichzel section (yes, sandwiches made out of a pretzel bun) you'll find t\n",
      "{'neg': 0.0064767282, 'neu': 0.06577304, 'pos': 0.9277503}\n"
     ]
    }
   ],
   "source": [
    "print(train['text'][49221])\n",
    "print(polarity_score(train['text'][49221]))"
   ]
  },
  {
   "cell_type": "code",
   "execution_count": 140,
   "id": "8a7a0925",
   "metadata": {},
   "outputs": [],
   "source": [
    "df = df.reset_index()\n",
    "\n",
    "def trainerBert(df):\n",
    "    res= {}\n",
    "    for i,row in tqdm(df.iterrows(),total=len(df)):\n",
    "        text = row['text']\n",
    "        Bid = row['review_id']\n",
    "        res[Bid] = polarity_score(text)\n",
    "    df = pd.DataFrame(res).T.reset_index().rename(columns={'index': 'review_id'})\n",
    "    return df"
   ]
  },
  {
   "cell_type": "code",
   "execution_count": 142,
   "id": "072c1379",
   "metadata": {},
   "outputs": [
    {
     "data": {
      "application/vnd.jupyter.widget-view+json": {
       "model_id": "f9a425f16f5a40babef993c0949cc3cc",
       "version_major": 2,
       "version_minor": 0
      },
      "text/plain": [
       "  0%|          | 0/67148 [00:00<?, ?it/s]"
      ]
     },
     "metadata": {},
     "output_type": "display_data"
    }
   ],
   "source": [
    "dfscoreBert = trainerBert(df)"
   ]
  },
  {
   "cell_type": "code",
   "execution_count": 143,
   "id": "2a7be642",
   "metadata": {},
   "outputs": [
    {
     "data": {
      "text/html": [
       "<div>\n",
       "<style scoped>\n",
       "    .dataframe tbody tr th:only-of-type {\n",
       "        vertical-align: middle;\n",
       "    }\n",
       "\n",
       "    .dataframe tbody tr th {\n",
       "        vertical-align: top;\n",
       "    }\n",
       "\n",
       "    .dataframe thead th {\n",
       "        text-align: right;\n",
       "    }\n",
       "</style>\n",
       "<table border=\"1\" class=\"dataframe\">\n",
       "  <thead>\n",
       "    <tr style=\"text-align: right;\">\n",
       "      <th></th>\n",
       "      <th>review_id</th>\n",
       "      <th>neg</th>\n",
       "      <th>neu</th>\n",
       "      <th>pos</th>\n",
       "    </tr>\n",
       "  </thead>\n",
       "  <tbody>\n",
       "    <tr>\n",
       "      <th>0</th>\n",
       "      <td>uwPhE21CZLlp1kkSMPvvYw</td>\n",
       "      <td>0.703441</td>\n",
       "      <td>0.206459</td>\n",
       "      <td>0.090101</td>\n",
       "    </tr>\n",
       "    <tr>\n",
       "      <th>1</th>\n",
       "      <td>bAy8ROEYO_3aTBhW5LoR4g</td>\n",
       "      <td>0.133925</td>\n",
       "      <td>0.351161</td>\n",
       "      <td>0.514914</td>\n",
       "    </tr>\n",
       "    <tr>\n",
       "      <th>2</th>\n",
       "      <td>zPDHE7TrXs7EJT06qD8yTA</td>\n",
       "      <td>0.005423</td>\n",
       "      <td>0.019155</td>\n",
       "      <td>0.975422</td>\n",
       "    </tr>\n",
       "    <tr>\n",
       "      <th>3</th>\n",
       "      <td>84niL3fvJMlFBE2hd2qOVQ</td>\n",
       "      <td>0.706516</td>\n",
       "      <td>0.210553</td>\n",
       "      <td>0.082930</td>\n",
       "    </tr>\n",
       "    <tr>\n",
       "      <th>4</th>\n",
       "      <td>pLnTjS90gUlsq2tAjI9prA</td>\n",
       "      <td>0.000898</td>\n",
       "      <td>0.011868</td>\n",
       "      <td>0.987233</td>\n",
       "    </tr>\n",
       "    <tr>\n",
       "      <th>...</th>\n",
       "      <td>...</td>\n",
       "      <td>...</td>\n",
       "      <td>...</td>\n",
       "      <td>...</td>\n",
       "    </tr>\n",
       "    <tr>\n",
       "      <th>67143</th>\n",
       "      <td>Lu5jvEjtPFUa-z9IzsMv7w</td>\n",
       "      <td>0.009485</td>\n",
       "      <td>0.045207</td>\n",
       "      <td>0.945307</td>\n",
       "    </tr>\n",
       "    <tr>\n",
       "      <th>67144</th>\n",
       "      <td>WbpiPPmiZYfDutO46AOJrA</td>\n",
       "      <td>0.001454</td>\n",
       "      <td>0.009676</td>\n",
       "      <td>0.988871</td>\n",
       "    </tr>\n",
       "    <tr>\n",
       "      <th>67145</th>\n",
       "      <td>cdwE0S1ONp1ypsTN1e3mLg</td>\n",
       "      <td>0.001548</td>\n",
       "      <td>0.008798</td>\n",
       "      <td>0.989654</td>\n",
       "    </tr>\n",
       "    <tr>\n",
       "      <th>67146</th>\n",
       "      <td>uXnne-Ui2pvObTtT3MUYxg</td>\n",
       "      <td>0.077558</td>\n",
       "      <td>0.154745</td>\n",
       "      <td>0.767696</td>\n",
       "    </tr>\n",
       "    <tr>\n",
       "      <th>67147</th>\n",
       "      <td>kmjmijBnLpPJDs47GrmZCQ</td>\n",
       "      <td>0.001304</td>\n",
       "      <td>0.016998</td>\n",
       "      <td>0.981698</td>\n",
       "    </tr>\n",
       "  </tbody>\n",
       "</table>\n",
       "<p>67148 rows × 4 columns</p>\n",
       "</div>"
      ],
      "text/plain": [
       "                    review_id       neg       neu       pos\n",
       "0      uwPhE21CZLlp1kkSMPvvYw  0.703441  0.206459  0.090101\n",
       "1      bAy8ROEYO_3aTBhW5LoR4g  0.133925  0.351161  0.514914\n",
       "2      zPDHE7TrXs7EJT06qD8yTA  0.005423  0.019155  0.975422\n",
       "3      84niL3fvJMlFBE2hd2qOVQ  0.706516  0.210553  0.082930\n",
       "4      pLnTjS90gUlsq2tAjI9prA  0.000898  0.011868  0.987233\n",
       "...                       ...       ...       ...       ...\n",
       "67143  Lu5jvEjtPFUa-z9IzsMv7w  0.009485  0.045207  0.945307\n",
       "67144  WbpiPPmiZYfDutO46AOJrA  0.001454  0.009676  0.988871\n",
       "67145  cdwE0S1ONp1ypsTN1e3mLg  0.001548  0.008798  0.989654\n",
       "67146  uXnne-Ui2pvObTtT3MUYxg  0.077558  0.154745  0.767696\n",
       "67147  kmjmijBnLpPJDs47GrmZCQ  0.001304  0.016998  0.981698\n",
       "\n",
       "[67148 rows x 4 columns]"
      ]
     },
     "execution_count": 143,
     "metadata": {},
     "output_type": "execute_result"
    }
   ],
   "source": [
    "dfscoreBert"
   ]
  },
  {
   "cell_type": "code",
   "execution_count": 135,
   "id": "5e89dfda",
   "metadata": {},
   "outputs": [],
   "source": [
    "dfscoreBert = trainerBert(df)"
   ]
  },
  {
   "cell_type": "code",
   "execution_count": null,
   "id": "e9d49568",
   "metadata": {},
   "outputs": [],
   "source": [
    "#this function is to join scores to original dataframe.\n",
    "df = df.join(test.set_index('review_id'), on='review_id')\n",
    "\n",
    "#Saving to parquet(for analysis) and csv files(for mapping purposes)\n",
    "df.to_parquet('data/edmonton_trained.parquet')"
   ]
  },
  {
   "cell_type": "code",
   "execution_count": 139,
   "id": "bc3f3aaa",
   "metadata": {},
   "outputs": [],
   "source": [
    "#groupedby\n",
    "dfPos = dfPos.groupby([\"business_id\",\"name\",\"latitude\",\"longitude\"])[\"pos\"].mean().reset_index()\n",
    "dfPos.to_csv('data/trained-groupbyAVGpos-data.csv')"
   ]
  },
  {
   "cell_type": "code",
   "execution_count": null,
   "id": "3f7d73e4",
   "metadata": {},
   "outputs": [],
   "source": [
    "dfscoreBert = pd.DataFrame(res).T.reset_index().rename(columns={'index': 'review_id'})\n",
    "dfscoreBert = dfscoreBert.merge(train,how = 'left')\n",
    "\n",
    "dfscoreBert.to_csv('data/trained-data.csv')"
   ]
  },
  {
   "cell_type": "code",
   "execution_count": 186,
   "id": "cd9d9369",
   "metadata": {},
   "outputs": [
    {
     "data": {
      "image/png": "[encoded data removed]",
      "text/plain": [
       "<Figure size 1728x576 with 3 Axes>"
      ]
     },
     "metadata": {
      "needs_background": "light"
     },
     "output_type": "display_data"
    }
   ],
   "source": [
    "plotter(df)"
   ]
  },
  {
   "cell_type": "markdown",
   "id": "2eafc320",
   "metadata": {},
   "source": [
    "## INTERACTIVE MAP OF AVERAGE POSITIVE SENTIMENTS OF RESTAURANTS IN EDMONTON\n",
    "\n",
    "[map of edmonton with positively rated restaurants](https://datastudio.google.com/s/ulcwcPpFe0w)"
   ]
  },
  {
   "cell_type": "markdown",
   "id": "bf310033",
   "metadata": {},
   "source": [
    "## RoBERTa results vs Vader Results"
   ]
  },
  {
   "cell_type": "code",
   "execution_count": null,
   "id": "f7cec7f4",
   "metadata": {},
   "outputs": [],
   "source": []
  }
 ],
 "metadata": {
  "kernelspec": {
   "display_name": "Python 3 (ipykernel)",
   "language": "python",
   "name": "python3"
  },
  "language_info": {
   "codemirror_mode": {
    "name": "ipython",
    "version": 3
   },
   "file_extension": ".py",
   "mimetype": "text/x-python",
   "name": "python",
   "nbconvert_exporter": "python",
   "pygments_lexer": "ipython3",
   "version": "3.9.7"
  }
 },
 "nbformat": 4,
 "nbformat_minor": 5
}
