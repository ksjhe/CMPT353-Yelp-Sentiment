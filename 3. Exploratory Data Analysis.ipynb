{
 "cells": [
  {
   "cell_type": "code",
   "execution_count": 11,
   "id": "218a966c",
   "metadata": {
    "pycharm": {
     "name": "#%%\n"
    }
   },
   "outputs": [],
   "source": [
    "import pandas as pd\n",
    "import numpy as np\n",
    "import matplotlib.pyplot as plt\n",
    "import seaborn as sns\n",
    "\n",
    "#adding ntlk for NLP training\n",
    "import nltk"
   ]
  },
  {
   "cell_type": "code",
   "execution_count": 14,
   "id": "4d2c4263",
   "metadata": {
    "pycharm": {
     "name": "#%%\n"
    }
   },
   "outputs": [],
   "source": [
    "#please install ghostscript on your environment\n",
    "#https://pypi.org/project/ghostscript/\n",
    "#for pip users:\n",
    "\n",
    "#pip install ghostscript\n",
    "\n",
    "#for conda users:\n",
    "#conda install -c conda-forge ghostscript"
   ]
  },
  {
   "cell_type": "markdown",
   "id": "0012e9e6",
   "metadata": {
    "pycharm": {
     "name": "#%% md\n"
    }
   },
   "source": [
    "# Reading in the data"
   ]
  },
  {
   "cell_type": "code",
   "execution_count": 15,
   "id": "5952b877",
   "metadata": {
    "pycharm": {
     "name": "#%%\n"
    }
   },
   "outputs": [
    {
     "data": {
      "text/html": [
       "<div>\n",
       "<style scoped>\n",
       "    .dataframe tbody tr th:only-of-type {\n",
       "        vertical-align: middle;\n",
       "    }\n",
       "\n",
       "    .dataframe tbody tr th {\n",
       "        vertical-align: top;\n",
       "    }\n",
       "\n",
       "    .dataframe thead th {\n",
       "        text-align: right;\n",
       "    }\n",
       "</style>\n",
       "<table border=\"1\" class=\"dataframe\">\n",
       "  <thead>\n",
       "    <tr style=\"text-align: right;\">\n",
       "      <th></th>\n",
       "      <th>business_id</th>\n",
       "      <th>name</th>\n",
       "      <th>address</th>\n",
       "      <th>city</th>\n",
       "      <th>state</th>\n",
       "      <th>postal_code</th>\n",
       "      <th>latitude</th>\n",
       "      <th>longitude</th>\n",
       "      <th>stars_x</th>\n",
       "      <th>review_count</th>\n",
       "      <th>...</th>\n",
       "      <th>categories</th>\n",
       "      <th>hours</th>\n",
       "      <th>review_id</th>\n",
       "      <th>user_id</th>\n",
       "      <th>stars_y</th>\n",
       "      <th>useful</th>\n",
       "      <th>funny</th>\n",
       "      <th>cool</th>\n",
       "      <th>text</th>\n",
       "      <th>date</th>\n",
       "    </tr>\n",
       "  </thead>\n",
       "  <tbody>\n",
       "    <tr>\n",
       "      <th>0</th>\n",
       "      <td>WKMJwqnfZKsAae75RMP6jA</td>\n",
       "      <td>Roast Coffeehouse and Wine Bar</td>\n",
       "      <td>10359 104 Street NW</td>\n",
       "      <td>Edmonton</td>\n",
       "      <td>AB</td>\n",
       "      <td>T5J 1B9</td>\n",
       "      <td>53.546045</td>\n",
       "      <td>-113.499169</td>\n",
       "      <td>4.0</td>\n",
       "      <td>40</td>\n",
       "      <td>...</td>\n",
       "      <td>Coffee &amp; Tea, Food, Cafes, Bars, Wine Bars, Re...</td>\n",
       "      <td>{'Monday': '8:0-18:0', 'Tuesday': '8:0-18:0', ...</td>\n",
       "      <td>uwPhE21CZLlp1kkSMPvvYw</td>\n",
       "      <td>5OnQqP3q2_9auNdDKpLdsw</td>\n",
       "      <td>3</td>\n",
       "      <td>0</td>\n",
       "      <td>0</td>\n",
       "      <td>0</td>\n",
       "      <td>So much to like about this place--the beautifu...</td>\n",
       "      <td>2012-11-06 23:35:15</td>\n",
       "    </tr>\n",
       "    <tr>\n",
       "      <th>1</th>\n",
       "      <td>WKMJwqnfZKsAae75RMP6jA</td>\n",
       "      <td>Roast Coffeehouse and Wine Bar</td>\n",
       "      <td>10359 104 Street NW</td>\n",
       "      <td>Edmonton</td>\n",
       "      <td>AB</td>\n",
       "      <td>T5J 1B9</td>\n",
       "      <td>53.546045</td>\n",
       "      <td>-113.499169</td>\n",
       "      <td>4.0</td>\n",
       "      <td>40</td>\n",
       "      <td>...</td>\n",
       "      <td>Coffee &amp; Tea, Food, Cafes, Bars, Wine Bars, Re...</td>\n",
       "      <td>{'Monday': '8:0-18:0', 'Tuesday': '8:0-18:0', ...</td>\n",
       "      <td>bAy8ROEYO_3aTBhW5LoR4g</td>\n",
       "      <td>7qFH1RkPivVRcwxLwhyixg</td>\n",
       "      <td>4</td>\n",
       "      <td>2</td>\n",
       "      <td>0</td>\n",
       "      <td>1</td>\n",
       "      <td>I'm not a coffee connoisseur so I'm not review...</td>\n",
       "      <td>2013-05-28 23:16:30</td>\n",
       "    </tr>\n",
       "    <tr>\n",
       "      <th>2</th>\n",
       "      <td>WKMJwqnfZKsAae75RMP6jA</td>\n",
       "      <td>Roast Coffeehouse and Wine Bar</td>\n",
       "      <td>10359 104 Street NW</td>\n",
       "      <td>Edmonton</td>\n",
       "      <td>AB</td>\n",
       "      <td>T5J 1B9</td>\n",
       "      <td>53.546045</td>\n",
       "      <td>-113.499169</td>\n",
       "      <td>4.0</td>\n",
       "      <td>40</td>\n",
       "      <td>...</td>\n",
       "      <td>Coffee &amp; Tea, Food, Cafes, Bars, Wine Bars, Re...</td>\n",
       "      <td>{'Monday': '8:0-18:0', 'Tuesday': '8:0-18:0', ...</td>\n",
       "      <td>zPDHE7TrXs7EJT06qD8yTA</td>\n",
       "      <td>FLeyjgc05C2V6QI9nVQ48Q</td>\n",
       "      <td>4</td>\n",
       "      <td>0</td>\n",
       "      <td>0</td>\n",
       "      <td>0</td>\n",
       "      <td>I really loved it here, makes me wish I lived ...</td>\n",
       "      <td>2013-09-04 19:49:33</td>\n",
       "    </tr>\n",
       "    <tr>\n",
       "      <th>3</th>\n",
       "      <td>WKMJwqnfZKsAae75RMP6jA</td>\n",
       "      <td>Roast Coffeehouse and Wine Bar</td>\n",
       "      <td>10359 104 Street NW</td>\n",
       "      <td>Edmonton</td>\n",
       "      <td>AB</td>\n",
       "      <td>T5J 1B9</td>\n",
       "      <td>53.546045</td>\n",
       "      <td>-113.499169</td>\n",
       "      <td>4.0</td>\n",
       "      <td>40</td>\n",
       "      <td>...</td>\n",
       "      <td>Coffee &amp; Tea, Food, Cafes, Bars, Wine Bars, Re...</td>\n",
       "      <td>{'Monday': '8:0-18:0', 'Tuesday': '8:0-18:0', ...</td>\n",
       "      <td>84niL3fvJMlFBE2hd2qOVQ</td>\n",
       "      <td>R-c5M0iJkMxxTxIqTQQZ8w</td>\n",
       "      <td>2</td>\n",
       "      <td>1</td>\n",
       "      <td>0</td>\n",
       "      <td>0</td>\n",
       "      <td>The kids who work at Roast are friendly.  They...</td>\n",
       "      <td>2013-07-14 21:38:06</td>\n",
       "    </tr>\n",
       "    <tr>\n",
       "      <th>4</th>\n",
       "      <td>WKMJwqnfZKsAae75RMP6jA</td>\n",
       "      <td>Roast Coffeehouse and Wine Bar</td>\n",
       "      <td>10359 104 Street NW</td>\n",
       "      <td>Edmonton</td>\n",
       "      <td>AB</td>\n",
       "      <td>T5J 1B9</td>\n",
       "      <td>53.546045</td>\n",
       "      <td>-113.499169</td>\n",
       "      <td>4.0</td>\n",
       "      <td>40</td>\n",
       "      <td>...</td>\n",
       "      <td>Coffee &amp; Tea, Food, Cafes, Bars, Wine Bars, Re...</td>\n",
       "      <td>{'Monday': '8:0-18:0', 'Tuesday': '8:0-18:0', ...</td>\n",
       "      <td>pLnTjS90gUlsq2tAjI9prA</td>\n",
       "      <td>G3h8pIclwUbuu3itJqF7ug</td>\n",
       "      <td>4</td>\n",
       "      <td>7</td>\n",
       "      <td>0</td>\n",
       "      <td>4</td>\n",
       "      <td>With a Toast to Roast, I say welcome to the E-...</td>\n",
       "      <td>2012-09-11 23:54:24</td>\n",
       "    </tr>\n",
       "  </tbody>\n",
       "</table>\n",
       "<p>5 rows × 22 columns</p>\n",
       "</div>"
      ],
      "text/plain": [
       "              business_id                            name  \\\n",
       "0  WKMJwqnfZKsAae75RMP6jA  Roast Coffeehouse and Wine Bar   \n",
       "1  WKMJwqnfZKsAae75RMP6jA  Roast Coffeehouse and Wine Bar   \n",
       "2  WKMJwqnfZKsAae75RMP6jA  Roast Coffeehouse and Wine Bar   \n",
       "3  WKMJwqnfZKsAae75RMP6jA  Roast Coffeehouse and Wine Bar   \n",
       "4  WKMJwqnfZKsAae75RMP6jA  Roast Coffeehouse and Wine Bar   \n",
       "\n",
       "               address      city state postal_code   latitude   longitude  \\\n",
       "0  10359 104 Street NW  Edmonton    AB     T5J 1B9  53.546045 -113.499169   \n",
       "1  10359 104 Street NW  Edmonton    AB     T5J 1B9  53.546045 -113.499169   \n",
       "2  10359 104 Street NW  Edmonton    AB     T5J 1B9  53.546045 -113.499169   \n",
       "3  10359 104 Street NW  Edmonton    AB     T5J 1B9  53.546045 -113.499169   \n",
       "4  10359 104 Street NW  Edmonton    AB     T5J 1B9  53.546045 -113.499169   \n",
       "\n",
       "   stars_x  review_count  ...  \\\n",
       "0      4.0            40  ...   \n",
       "1      4.0            40  ...   \n",
       "2      4.0            40  ...   \n",
       "3      4.0            40  ...   \n",
       "4      4.0            40  ...   \n",
       "\n",
       "                                          categories  \\\n",
       "0  Coffee & Tea, Food, Cafes, Bars, Wine Bars, Re...   \n",
       "1  Coffee & Tea, Food, Cafes, Bars, Wine Bars, Re...   \n",
       "2  Coffee & Tea, Food, Cafes, Bars, Wine Bars, Re...   \n",
       "3  Coffee & Tea, Food, Cafes, Bars, Wine Bars, Re...   \n",
       "4  Coffee & Tea, Food, Cafes, Bars, Wine Bars, Re...   \n",
       "\n",
       "                                               hours               review_id  \\\n",
       "0  {'Monday': '8:0-18:0', 'Tuesday': '8:0-18:0', ...  uwPhE21CZLlp1kkSMPvvYw   \n",
       "1  {'Monday': '8:0-18:0', 'Tuesday': '8:0-18:0', ...  bAy8ROEYO_3aTBhW5LoR4g   \n",
       "2  {'Monday': '8:0-18:0', 'Tuesday': '8:0-18:0', ...  zPDHE7TrXs7EJT06qD8yTA   \n",
       "3  {'Monday': '8:0-18:0', 'Tuesday': '8:0-18:0', ...  84niL3fvJMlFBE2hd2qOVQ   \n",
       "4  {'Monday': '8:0-18:0', 'Tuesday': '8:0-18:0', ...  pLnTjS90gUlsq2tAjI9prA   \n",
       "\n",
       "                  user_id stars_y useful  funny  cool  \\\n",
       "0  5OnQqP3q2_9auNdDKpLdsw       3      0      0     0   \n",
       "1  7qFH1RkPivVRcwxLwhyixg       4      2      0     1   \n",
       "2  FLeyjgc05C2V6QI9nVQ48Q       4      0      0     0   \n",
       "3  R-c5M0iJkMxxTxIqTQQZ8w       2      1      0     0   \n",
       "4  G3h8pIclwUbuu3itJqF7ug       4      7      0     4   \n",
       "\n",
       "                                                text                date  \n",
       "0  So much to like about this place--the beautifu... 2012-11-06 23:35:15  \n",
       "1  I'm not a coffee connoisseur so I'm not review... 2013-05-28 23:16:30  \n",
       "2  I really loved it here, makes me wish I lived ... 2013-09-04 19:49:33  \n",
       "3  The kids who work at Roast are friendly.  They... 2013-07-14 21:38:06  \n",
       "4  With a Toast to Roast, I say welcome to the E-... 2012-09-11 23:54:24  \n",
       "\n",
       "[5 rows x 22 columns]"
      ]
     },
     "execution_count": 15,
     "metadata": {},
     "output_type": "execute_result"
    }
   ],
   "source": [
    "df = pd.read_parquet('data/edmonton_cleaned.parquet', engine='auto')\n",
    "df.head(5)"
   ]
  },
  {
   "cell_type": "markdown",
   "id": "cd9370e9",
   "metadata": {
    "pycharm": {
     "name": "#%% md\n"
    }
   },
   "source": [
    "# Exploratory Data analysis"
   ]
  },
  {
   "cell_type": "code",
   "execution_count": 16,
   "id": "b947b561",
   "metadata": {
    "pycharm": {
     "name": "#%%\n"
    }
   },
   "outputs": [
    {
     "data": {
      "text/plain": [
       "(67148, 22)"
      ]
     },
     "execution_count": 16,
     "metadata": {},
     "output_type": "execute_result"
    }
   ],
   "source": [
    "df.shape\n",
    "#there are 67,148 reviews in the cleaned data."
   ]
  },
  {
   "cell_type": "code",
   "execution_count": 17,
   "id": "d4123bdf",
   "metadata": {
    "pycharm": {
     "name": "#%%\n"
    }
   },
   "outputs": [
    {
     "data": {
      "text/plain": [
       "1     6822\n",
       "2     6164\n",
       "3    10011\n",
       "4    21180\n",
       "5    22971\n",
       "Name: stars_y, dtype: int64"
      ]
     },
     "execution_count": 17,
     "metadata": {},
     "output_type": "execute_result"
    }
   ],
   "source": [
    "#checking how many reviews belong to what stars, note: stars_y is score given by customer\n",
    "counting_stars = df['stars_y'].value_counts().sort_index()\n",
    "counting_stars"
   ]
  },
  {
   "cell_type": "code",
   "execution_count": 18,
   "id": "e98b23fa",
   "metadata": {
    "pycharm": {
     "name": "#%%\n"
    }
   },
   "outputs": [
    {
     "data": {
      "image/png": "[encoded data removed]",
      "text/plain": [
       "<Figure size 720x360 with 1 Axes>"
      ]
     },
     "metadata": {
      "needs_background": "light"
     },
     "output_type": "display_data"
    }
   ],
   "source": [
    "plot = counting_stars.plot(kind='bar',\n",
    "                    title='Count of Reviews by Stars', \n",
    "                    figsize=(10,5))\n",
    "plot.set_xlabel('Review Stars')\n",
    "\n",
    "plt.show()\n",
    "#the data is skewed on the left skewed"
   ]
  },
  {
   "cell_type": "code",
   "execution_count": 19,
   "id": "ac4c870c",
   "metadata": {
    "pycharm": {
     "name": "#%%\n"
    }
   },
   "outputs": [
    {
     "data": {
      "text/plain": [
       "\"I was surprised to hear that this place had closed. Too cool for Edmonton. It's also a difficult balance for a cafe between making a place feel cosy enough to spend hours there, and having people actually buy 1 drink and spending hours there.\""
      ]
     },
     "execution_count": 19,
     "metadata": {},
     "output_type": "execute_result"
    }
   ],
   "source": [
    "sampleneutral = df['text'][15]\n",
    "sampleneutral\n",
    "#neutral review"
   ]
  },
  {
   "cell_type": "code",
   "execution_count": 20,
   "id": "f7826647",
   "metadata": {
    "pycharm": {
     "name": "#%%\n"
    }
   },
   "outputs": [
    {
     "data": {
      "text/plain": [
       "\"The decor is fantastic and the staff are friendly. The coffee profile is a little dark for my liking, and the music is 50% terrible, but the atmosphere is otherwise a joy. I've enjoyed some nice events there as well.\""
      ]
     },
     "execution_count": 20,
     "metadata": {},
     "output_type": "execute_result"
    }
   ],
   "source": [
    "samplepos = df['text'][16]\n",
    "samplepos\n",
    "#positive review"
   ]
  },
  {
   "cell_type": "code",
   "execution_count": 21,
   "id": "2fe4eb81",
   "metadata": {
    "pycharm": {
     "name": "#%%\n"
    }
   },
   "outputs": [
    {
     "data": {
      "text/plain": [
       "\"I've been going to this bakery for years. The service and availability of products has gotten much worse over the past year or so. The owners seem to not want to be there and treat you accordingly. I won't be going back.\""
      ]
     },
     "execution_count": 21,
     "metadata": {},
     "output_type": "execute_result"
    }
   ],
   "source": [
    "sampleneg = df[df['stars_y']==1]['text'][74]\n",
    "sampleneg\n",
    "#sample neg"
   ]
  },
  {
   "cell_type": "code",
   "execution_count": 22,
   "id": "e3d91160",
   "metadata": {
    "pycharm": {
     "name": "#%%\n"
    }
   },
   "outputs": [
    {
     "name": "stdout",
     "output_type": "stream",
     "text": [
      "['The', 'decor', 'is', 'fantastic', 'and', 'the', 'staff', 'are', 'friendly', '.', 'The', 'coffee', 'profile', 'is', 'a', 'little', 'dark', 'for', 'my', 'liking', ',', 'and', 'the', 'music', 'is', '50', '%', 'terrible', ',', 'but', 'the', 'atmosphere', 'is', 'otherwise', 'a', 'joy', '.', 'I', \"'ve\", 'enjoyed', 'some', 'nice', 'events', 'there', 'as', 'well', '.']\n"
     ]
    }
   ],
   "source": [
    "tokens = nltk.word_tokenize(samplepos)\n",
    "print(tokens)\n",
    "#punctuations are not important,also notice that word \"I've\" are split to two tokens."
   ]
  },
  {
   "cell_type": "raw",
   "id": "2af1ac68",
   "metadata": {
    "pycharm": {
     "name": "#%% raw\n"
    }
   },
   "source": [
    "#link to each abbreviation https://www.ling.upenn.edu/courses/Fall_2003/ling001/penn_treebank_pos.html\n",
    "\n",
    "1.\tCC\tCoordinating conjunction\n",
    "2.\tCD\tCardinal number\n",
    "3.\tDT\tDeterminer\n",
    "4.\tEX\tExistential there\n",
    "5.\tFW\tForeign word\n",
    "6.\tIN\tPreposition or subordinating conjunction\n",
    "7.\tJJ\tAdjective\n",
    "8.\tJJR\tAdjective, comparative\n",
    "9.\tJJS\tAdjective, superlative\n",
    "10.\tLS\tList item marker\n",
    "11.\tMD\tModal\n",
    "12.\tNN\tNoun, singular or mass\n",
    "13.\tNNS\tNoun, plural\n",
    "14.\tNNP\tProper noun, singular\n",
    "15.\tNNPS\tProper noun, plural\n",
    "16.\tPDT\tPredeterminer\n",
    "17.\tPOS\tPossessive ending\n",
    "18.\tPRP\tPersonal pronoun\n",
    "19.\tPRP$\tPossessive pronoun\n",
    "20.\tRB\tAdverb\n",
    "21.\tRBR\tAdverb, comparative\n",
    "22.\tRBS\tAdverb, superlative\n",
    "23.\tRP\tParticle\n",
    "24.\tSYM\tSymbol\n",
    "25.\tTO\tto\n",
    "26.\tUH\tInterjection\n",
    "27.\tVB\tVerb, base form\n",
    "28.\tVBD\tVerb, past tense\n",
    "29.\tVBG\tVerb, gerund or present participle\n",
    "30.\tVBN\tVerb, past participle\n",
    "31.\tVBP\tVerb, non-3rd person singular present\n",
    "32.\tVBZ\tVerb, 3rd person singular present\n",
    "33.\tWDT\tWh-determiner\n",
    "34.\tWP\tWh-pronoun\n",
    "35.\tWP$\tPossessive wh-pronoun\n",
    "36.\tWRB\tWh-adverb"
   ]
  },
  {
   "cell_type": "code",
   "execution_count": 23,
   "id": "7d34c62b",
   "metadata": {
    "scrolled": true,
    "pycharm": {
     "name": "#%%\n"
    }
   },
   "outputs": [
    {
     "data": {
      "text/plain": [
       "[('The', 'DT'),\n",
       " ('decor', 'NN'),\n",
       " ('is', 'VBZ'),\n",
       " ('fantastic', 'JJ'),\n",
       " ('and', 'CC'),\n",
       " ('the', 'DT'),\n",
       " ('staff', 'NN'),\n",
       " ('are', 'VBP'),\n",
       " ('friendly', 'RB'),\n",
       " ('.', '.'),\n",
       " ('The', 'DT'),\n",
       " ('coffee', 'NN'),\n",
       " ('profile', 'NN'),\n",
       " ('is', 'VBZ'),\n",
       " ('a', 'DT'),\n",
       " ('little', 'JJ'),\n",
       " ('dark', 'NN'),\n",
       " ('for', 'IN'),\n",
       " ('my', 'PRP$'),\n",
       " ('liking', 'NN')]"
      ]
     },
     "execution_count": 23,
     "metadata": {},
     "output_type": "execute_result"
    }
   ],
   "source": [
    "tagged = nltk.pos_tag(tokens)\n",
    "tagged[:20]\n",
    "#we have each token plus its part of speech, see abbrevations key above."
   ]
  },
  {
   "cell_type": "code",
   "execution_count": 29,
   "id": "fdecb833",
   "metadata": {
    "pycharm": {
     "name": "#%%\n"
    }
   },
   "outputs": [
    {
     "name": "stdout",
     "output_type": "stream",
     "text": [
      "Tree('S', [('The', 'DT'), ('decor', 'NN'), ('is', 'VBZ'), ('fantastic', 'JJ'), ('and', 'CC'), ('the', 'DT'), ('staff', 'NN'), ('are', 'VBP'), ('friendly', 'RB'), ('.', '.'), ('The', 'DT'), ('coffee', 'NN'), ('profile', 'NN'), ('is', 'VBZ'), ('a', 'DT'), ('little', 'JJ'), ('dark', 'NN'), ('for', 'IN'), ('my', 'PRP$'), ('liking', 'NN'), (',', ','), ('and', 'CC'), ('the', 'DT'), ('music', 'NN'), ('is', 'VBZ'), ('50', 'CD'), ('%', 'NN'), ('terrible', 'JJ'), (',', ','), ('but', 'CC'), ('the', 'DT'), ('atmosphere', 'NN'), ('is', 'VBZ'), ('otherwise', 'RB'), ('a', 'DT'), ('joy', 'NN'), ('.', '.'), ('I', 'PRP'), (\"'ve\", 'VBP'), ('enjoyed', 'VBN'), ('some', 'DT'), ('nice', 'JJ'), ('events', 'NNS'), ('there', 'RB'), ('as', 'RB'), ('well', 'RB'), ('.', '.')])\n"
     ]
    }
   ],
   "source": [
    "#each tagged tokens are turns into entity variables.\n",
    "entities = nltk.chunk.ne_chunk(tagged)\n",
    "print(entities.__repr__())"
   ]
  }
 ],
 "metadata": {
  "kernelspec": {
   "display_name": "Python 3 (ipykernel)",
   "language": "python",
   "name": "python3"
  },
  "language_info": {
   "codemirror_mode": {
    "name": "ipython",
    "version": 3
   },
   "file_extension": ".py",
   "mimetype": "text/x-python",
   "name": "python",
   "nbconvert_exporter": "python",
   "pygments_lexer": "ipython3",
   "version": "3.9.7"
  }
 },
 "nbformat": 4,
 "nbformat_minor": 5
}